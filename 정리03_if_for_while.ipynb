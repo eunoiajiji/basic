{
 "cells": [
  {
   "cell_type": "markdown",
   "id": "b166acca-efcf-418a-a310-76d428c1bf74",
   "metadata": {},
   "source": [
    "# if"
   ]
  },
  {
   "cell_type": "markdown",
   "id": "383c57d2-b747-4136-a44a-21d62e2089fe",
   "metadata": {},
   "source": [
    "<pre>if 조건식 :\n",
    "    실행1\n",
    "elif 조건식 :   \n",
    "    실행1       \n",
    "else :\n",
    "    실행2"
   ]
  },
  {
   "cell_type": "code",
   "execution_count": 7,
   "id": "32791d3f-ce70-4e07-838f-1a030872ac89",
   "metadata": {
    "tags": []
   },
   "outputs": [
    {
     "name": "stdin",
     "output_type": "stream",
     "text": [
      "0~100 점수를 입력하세요 80\n"
     ]
    },
    {
     "name": "stdout",
     "output_type": "stream",
     "text": [
      "B\n"
     ]
    }
   ],
   "source": [
    "# 90이상이면 A   80이상이면 B    아니면 C\n",
    "score = int(input('0~100 점수를 입력하세요'))\n",
    "if score>=90 :\n",
    "    print(\"A\")\n",
    "elif score>=80 :\n",
    "    print(\"B\")\n",
    "else :\n",
    "    print(\"C\")"
   ]
  },
  {
   "cell_type": "code",
   "execution_count": 10,
   "id": "951c3038-d83a-48e5-b391-66b3fb903645",
   "metadata": {
    "tags": []
   },
   "outputs": [
    {
     "name": "stdin",
     "output_type": "stream",
     "text": [
      "0~100 점수를 입력하세요 50\n",
      "성별 : ('남'/'여') 여\n"
     ]
    },
    {
     "name": "stdout",
     "output_type": "stream",
     "text": [
      "0\n"
     ]
    }
   ],
   "source": [
    "# 90이상이면서 성별이 남성이면 1 여성이면 2\n",
    "# 80이상이면서 성별이 남성이면 11 여성이면 22\n",
    "# 아니면 0\n",
    "score = int(input('0~100 점수를 입력하세요'))\n",
    "gen = input(\"성별 : ('남'/'여')\")\n",
    "\n",
    "if   score>=90 and gen == \"남\":\n",
    "    print(\"1\")\n",
    "elif score>=90 and gen == \"여\":\n",
    "    print(\"2\")\n",
    "elif score>=80 and gen == \"남\":\n",
    "    print(\"11\")\n",
    "elif score>=80 and gen == \"여\":\n",
    "    print(\"22\")\n",
    "else:\n",
    "    print(\"0\")"
   ]
  },
  {
   "cell_type": "markdown",
   "id": "e3c3d7fc-c74a-4073-8029-1f1321ff8fd6",
   "metadata": {},
   "source": [
    "---"
   ]
  },
  {
   "cell_type": "markdown",
   "id": "f65c4ab9-ad94-4895-8acc-c0858680d9d2",
   "metadata": {},
   "source": [
    "# 반복문"
   ]
  },
  {
   "cell_type": "markdown",
   "id": "502eefda-a38a-45f4-9518-a85682de92d7",
   "metadata": {},
   "source": [
    "<pre>for 조건식 :\n",
    "    반복실행문\n",
    "\n",
    "while(조건식) :\n",
    "    반복실행문"
   ]
  },
  {
   "cell_type": "markdown",
   "id": "a9ca67a8-4c8c-4ddb-844b-52d414e34468",
   "metadata": {},
   "source": [
    "### range()"
   ]
  },
  {
   "cell_type": "markdown",
   "id": "8f51ad90-1538-4c2e-b6f0-cc7b44a380fb",
   "metadata": {},
   "source": [
    "- range(시작번호 이상, 끝번호 미만, 증감분기본값1)"
   ]
  },
  {
   "cell_type": "code",
   "execution_count": 12,
   "id": "a0137a83-0e54-48d8-a1ef-703a063eb010",
   "metadata": {
    "tags": []
   },
   "outputs": [
    {
     "name": "stdout",
     "output_type": "stream",
     "text": [
      "[1, 2, 3, 4, 5]\n",
      "[1, 3, 5, 7, 9]\n",
      "[10, 9, 8, 7, 6, 5, 4, 3, 2, 1]\n"
     ]
    }
   ],
   "source": [
    "print(  list(range(1, 6))    )\n",
    "print(  list(range(1, 11, 2))    )\n",
    "print(  list(range(10, 0, -1))    )  #10 9 8 7 ...3 2 1  0"
   ]
  },
  {
   "cell_type": "code",
   "execution_count": 13,
   "id": "9b90c75a-6292-4adb-bf8f-33770c63f5e5",
   "metadata": {
    "tags": []
   },
   "outputs": [
    {
     "name": "stdout",
     "output_type": "stream",
     "text": [
      "1\t2\t3\t4\t5\t6\t7\t8\t9\t10\t"
     ]
    }
   ],
   "source": [
    "#  for문 range이용 1~10까지 출력\n",
    "for n in range(1,11) :     \n",
    "    print(n, end=\"\\t\")"
   ]
  },
  {
   "cell_type": "markdown",
   "id": "cdf6343b-ed11-4ca8-9525-d64f7d97e6c4",
   "metadata": {},
   "source": [
    "---"
   ]
  },
  {
   "cell_type": "markdown",
   "id": "271a364e-042b-48f5-a098-76e9324271bf",
   "metadata": {},
   "source": [
    "## for문"
   ]
  },
  {
   "cell_type": "markdown",
   "id": "c2a73ebd-33a0-40fe-82a8-d2369a33780c",
   "metadata": {},
   "source": [
    "<pre>for 조건식 :\n",
    "    반복실행문\n",
    "\n",
    "while(조건식) :\n",
    "    반복실행문\n",
    "    \n",
    "-----(없음)-------\n",
    "do : \n",
    "    반복실행문\n",
    "while(조건식)"
   ]
  },
  {
   "cell_type": "code",
   "execution_count": 11,
   "id": "cab6812c-7613-471c-a3fa-efa9e80b3352",
   "metadata": {
    "tags": []
   },
   "outputs": [
    {
     "name": "stdout",
     "output_type": "stream",
     "text": [
      "7788\n",
      "7799\n",
      "7800\n"
     ]
    }
   ],
   "source": [
    "emp = [7788, 7799, 7800]\n",
    "for empno in emp:\n",
    "    print(empno)\n",
    "\n",
    "# empno = emp[0]\n",
    "# empno = emp[1]\n",
    "# empno = emp[2]"
   ]
  },
  {
   "cell_type": "code",
   "execution_count": 15,
   "id": "d15a090f-4138-48ef-8310-181cc2ed51aa",
   "metadata": {
    "tags": []
   },
   "outputs": [
    {
     "name": "stdout",
     "output_type": "stream",
     "text": [
      "100\n",
      "1\t2\t3\t\n",
      "200\n",
      "1\t2\t3\t\n",
      "300\n",
      "1\t2\t3\t\n",
      "400\n",
      "1\t2\t3\t\n",
      "500\n",
      "1\t2\t3\t\n"
     ]
    }
   ],
   "source": [
    "#  중첩 for문 \n",
    "for n in range(100, 600, 100) :\n",
    "    print(n) #100,200,300,400\n",
    "    for s in range(1, 4) :\n",
    "        print(s, end=\"\\t\")\n",
    "    print() "
   ]
  },
  {
   "cell_type": "markdown",
   "id": "d5ff4e83-bf35-4291-b73e-45ff27b03329",
   "metadata": {},
   "source": [
    "### 구구단"
   ]
  },
  {
   "cell_type": "code",
   "execution_count": 16,
   "id": "21ffc484-72a4-4c75-b0c1-f41d83f2a1c8",
   "metadata": {
    "tags": []
   },
   "outputs": [
    {
     "name": "stdout",
     "output_type": "stream",
     "text": [
      "2 * 3 = 6\n",
      "2 단\n",
      "2 * 1 = 2\t2 * 2 = 4\t2 * 3 = 6\t2 * 4 = 8\t2 * 5 = 10\t2 * 6 = 12\t2 * 7 = 14\t2 * 8 = 16\t2 * 9 = 18\t\n",
      "3 단\n",
      "3 * 1 = 3\t3 * 2 = 6\t3 * 3 = 9\t3 * 4 = 12\t3 * 5 = 15\t3 * 6 = 18\t3 * 7 = 21\t3 * 8 = 24\t3 * 9 = 27\t\n",
      "4 단\n",
      "4 * 1 = 4\t4 * 2 = 8\t4 * 3 = 12\t4 * 4 = 16\t4 * 5 = 20\t4 * 6 = 24\t4 * 7 = 28\t4 * 8 = 32\t4 * 9 = 36\t\n",
      "5 단\n",
      "5 * 1 = 5\t5 * 2 = 10\t5 * 3 = 15\t5 * 4 = 20\t5 * 5 = 25\t5 * 6 = 30\t5 * 7 = 35\t5 * 8 = 40\t5 * 9 = 45\t\n",
      "6 단\n",
      "6 * 1 = 6\t6 * 2 = 12\t6 * 3 = 18\t6 * 4 = 24\t6 * 5 = 30\t6 * 6 = 36\t6 * 7 = 42\t6 * 8 = 48\t6 * 9 = 54\t\n",
      "7 단\n",
      "7 * 1 = 7\t7 * 2 = 14\t7 * 3 = 21\t7 * 4 = 28\t7 * 5 = 35\t7 * 6 = 42\t7 * 7 = 49\t7 * 8 = 56\t7 * 9 = 63\t\n",
      "8 단\n",
      "8 * 1 = 8\t8 * 2 = 16\t8 * 3 = 24\t8 * 4 = 32\t8 * 5 = 40\t8 * 6 = 48\t8 * 7 = 56\t8 * 8 = 64\t8 * 9 = 72\t\n",
      "9 단\n",
      "9 * 1 = 9\t9 * 2 = 18\t9 * 3 = 27\t9 * 4 = 36\t9 * 5 = 45\t9 * 6 = 54\t9 * 7 = 63\t9 * 8 = 72\t9 * 9 = 81\t\n"
     ]
    }
   ],
   "source": [
    "# 구구단\n",
    "# 2단\n",
    "# 2 * 1 = 2   2 * 2 = 4 .... 2 * 9 = 18\n",
    "# 3단\n",
    "# 3 * 1 = 3   3 * 2 = 6 .... 9 * 9 = 81\n",
    "dan = 2\n",
    "gob = 3\n",
    "print(dan, \"*\", gob, \"=\", dan*gob)\n",
    "\n",
    "for dan in range(2,10):\n",
    "    print(dan, \"단\")\n",
    "    for gob in range(1, 10):\n",
    "        print(dan, \"*\", gob, \"=\", dan*gob, end=\"\\t\")\n",
    "    print()\n"
   ]
  },
  {
   "cell_type": "code",
   "execution_count": 17,
   "id": "278527d1-56a1-4443-921a-e1795cae0dcd",
   "metadata": {
    "tags": []
   },
   "outputs": [
    {
     "name": "stdout",
     "output_type": "stream",
     "text": [
      "9 단\n",
      "9 * 9 = 81\t9 * 8 = 72\t9 * 7 = 63\t9 * 6 = 54\t9 * 5 = 45\t\n",
      "7 단\n",
      "7 * 9 = 63\t7 * 8 = 56\t7 * 7 = 49\t7 * 6 = 42\t7 * 5 = 35\t\n",
      "5 단\n",
      "5 * 9 = 45\t5 * 8 = 40\t5 * 7 = 35\t5 * 6 = 30\t5 * 5 = 25\t\n",
      "3 단\n",
      "3 * 9 = 27\t3 * 8 = 24\t3 * 7 = 21\t3 * 6 = 18\t3 * 5 = 15\t\n"
     ]
    }
   ],
   "source": [
    "# 구구단\n",
    "# 9단 ~ 3단  *9 *8 *7 *6 *5\n",
    "for dan in range(9, 2, -2):\n",
    "    print(dan, \"단\")\n",
    "    for gob in range(9, 4, -1):\n",
    "        print(dan, \"*\", gob, \"=\", dan*gob, end=\"\\t\")\n",
    "    print()"
   ]
  },
  {
   "cell_type": "markdown",
   "id": "c3d1b7db-a022-4866-a9a9-ee211a804bfa",
   "metadata": {},
   "source": [
    "### 별찍기"
   ]
  },
  {
   "cell_type": "code",
   "execution_count": 19,
   "id": "3c921feb-e197-4b87-a352-9355354aebfd",
   "metadata": {
    "tags": []
   },
   "outputs": [
    {
     "name": "stdout",
     "output_type": "stream",
     "text": [
      "  *\n",
      " ***\n",
      "*****\n"
     ]
    }
   ],
   "source": [
    "#   *\n",
    "#  ***\n",
    "# *****\n",
    "# for n in range(3):\n",
    "#     for space in range(2-n):\n",
    "#         print(' ', end='')\n",
    "#     for star in range(1+n*2):\n",
    "#         print('*', end='')\n",
    "#     print()\n",
    "#\n",
    "for i in range(3):\n",
    "    print(' ' * (2-i), end='')\n",
    "    print((i * 2 + 1) * '*')"
   ]
  },
  {
   "cell_type": "code",
   "execution_count": 20,
   "id": "de86b80c-b1b0-448b-9efe-add9b68fd626",
   "metadata": {
    "tags": []
   },
   "outputs": [
    {
     "name": "stdout",
     "output_type": "stream",
     "text": [
      "****\n",
      " ***\n",
      "  **\n",
      "   *\n"
     ]
    }
   ],
   "source": [
    "# ****\n",
    "#  ***\n",
    "#   **\n",
    "#    *\n",
    "for j in range(1, 5) :\n",
    "    for k in range(1, 5) :\n",
    "        # if j=1  k=1 2 3 4\n",
    "        if j <= k :\n",
    "            print(\"*\", end=\"\")\n",
    "        else:\n",
    "            print(\" \", end=\"\")\n",
    "    print()"
   ]
  },
  {
   "cell_type": "code",
   "execution_count": 30,
   "id": "e8ee0879-64e4-45de-bf05-a798ffe4ba2f",
   "metadata": {
    "tags": []
   },
   "outputs": [
    {
     "name": "stdout",
     "output_type": "stream",
     "text": [
      "    \n",
      "   *\n",
      "  **\n",
      " ***\n",
      "****\n"
     ]
    }
   ],
   "source": [
    "#    *\n",
    "#   **\n",
    "#  ***\n",
    "# ****\n",
    "for j in range(1, 6) :\n",
    "    for k in range(4, 0, -1) :\n",
    "        # if j=1  k=1 2 3 4\n",
    "        if j <= k :\n",
    "            print(\" \", end=\"\")\n",
    "        else:\n",
    "            print(\"*\", end=\"\")\n",
    "    print()"
   ]
  },
  {
   "cell_type": "markdown",
   "id": "e43db739-6ae5-4971-88ea-40b8297a5925",
   "metadata": {},
   "source": [
    "## while문"
   ]
  },
  {
   "cell_type": "markdown",
   "id": "bd3bb6ca-6d14-465f-9197-b0bb3f89a801",
   "metadata": {},
   "source": [
    "<pre>while(조건식) :\n",
    "    반복실행문"
   ]
  },
  {
   "cell_type": "code",
   "execution_count": 35,
   "id": "93a87ede-5c9d-4afb-a622-af3589766202",
   "metadata": {
    "tags": []
   },
   "outputs": [
    {
     "name": "stdout",
     "output_type": "stream",
     "text": [
      "그렇다 5\n",
      "그렇다 6\n",
      "그렇다 7\n",
      "그렇다 8\n",
      "그렇다 9\n"
     ]
    }
   ],
   "source": [
    "num = 5\n",
    "while(num <10) :\n",
    "    print(\"그렇다\", num)\n",
    "    num += 1\n"
   ]
  },
  {
   "cell_type": "code",
   "execution_count": 37,
   "id": "853db52b-6027-4b7a-abf4-5ea45b3d58c8",
   "metadata": {
    "tags": []
   },
   "outputs": [
    {
     "name": "stdout",
     "output_type": "stream",
     "text": [
      "2 단\n",
      "2 * 1 = 2\t2 * 2 = 4\t2 * 3 = 6\t2 * 4 = 8\t2 * 5 = 10\t2 * 6 = 12\t2 * 7 = 14\t2 * 8 = 16\t2 * 9 = 18\t\n",
      "3 단\n",
      "3 * 1 = 3\t3 * 2 = 6\t3 * 3 = 9\t3 * 4 = 12\t3 * 5 = 15\t3 * 6 = 18\t3 * 7 = 21\t3 * 8 = 24\t3 * 9 = 27\t\n",
      "4 단\n",
      "4 * 1 = 4\t4 * 2 = 8\t4 * 3 = 12\t4 * 4 = 16\t4 * 5 = 20\t4 * 6 = 24\t4 * 7 = 28\t4 * 8 = 32\t4 * 9 = 36\t\n",
      "5 단\n",
      "5 * 1 = 5\t5 * 2 = 10\t5 * 3 = 15\t5 * 4 = 20\t5 * 5 = 25\t5 * 6 = 30\t5 * 7 = 35\t5 * 8 = 40\t5 * 9 = 45\t\n",
      "6 단\n",
      "6 * 1 = 6\t6 * 2 = 12\t6 * 3 = 18\t6 * 4 = 24\t6 * 5 = 30\t6 * 6 = 36\t6 * 7 = 42\t6 * 8 = 48\t6 * 9 = 54\t\n",
      "7 단\n",
      "7 * 1 = 7\t7 * 2 = 14\t7 * 3 = 21\t7 * 4 = 28\t7 * 5 = 35\t7 * 6 = 42\t7 * 7 = 49\t7 * 8 = 56\t7 * 9 = 63\t\n",
      "8 단\n",
      "8 * 1 = 8\t8 * 2 = 16\t8 * 3 = 24\t8 * 4 = 32\t8 * 5 = 40\t8 * 6 = 48\t8 * 7 = 56\t8 * 8 = 64\t8 * 9 = 72\t\n",
      "9 단\n",
      "9 * 1 = 9\t9 * 2 = 18\t9 * 3 = 27\t9 * 4 = 36\t9 * 5 = 45\t9 * 6 = 54\t9 * 7 = 63\t9 * 8 = 72\t9 * 9 = 81\t\n"
     ]
    }
   ],
   "source": [
    "# 구구단\n",
    "# 2단\n",
    "# 2 * 1 = 2   2 * 2 = 4 .... 2 * 9 = 18\n",
    "# 3단\n",
    "# 3 * 1 = 3   3 * 2 = 6 .... 9 * 9 = 81\n",
    "\n",
    "dan = 2\n",
    "while(dan < 10) :\n",
    "    print(dan, \"단\")\n",
    "    gob = 1\n",
    "    while (gob < 10):\n",
    "        print(dan , \"*\", gob, \"=\", dan*gob, end=\"\\t\")\n",
    "        gob += 1\n",
    "    dan += 1\n",
    "    print()"
   ]
  }
 ],
 "metadata": {
  "kernelspec": {
   "display_name": "Python 3 (ipykernel)",
   "language": "python",
   "name": "python3"
  },
  "language_info": {
   "codemirror_mode": {
    "name": "ipython",
    "version": 3
   },
   "file_extension": ".py",
   "mimetype": "text/x-python",
   "name": "python",
   "nbconvert_exporter": "python",
   "pygments_lexer": "ipython3",
   "version": "3.8.8"
  }
 },
 "nbformat": 4,
 "nbformat_minor": 5
}
