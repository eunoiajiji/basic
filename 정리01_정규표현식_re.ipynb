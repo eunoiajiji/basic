{
 "cells": [
  {
   "cell_type": "markdown",
   "id": "e62f846e-02b7-44c9-9fd1-0d395a275fc1",
   "metadata": {},
   "source": [
    "# ch14. 정규 표현식"
   ]
  },
  {
   "cell_type": "code",
   "execution_count": null,
   "id": "dda5817b-a554-467b-b624-349e4240c9e8",
   "metadata": {},
   "outputs": [],
   "source": [
    "더 좋은 참고자료 : https://wikidocs.net/4309"
   ]
  },
  {
   "cell_type": "markdown",
   "id": "1eeaeb21-4e7f-403c-bdc5-5fd13108cb4d",
   "metadata": {
    "tags": []
   },
   "source": [
    "> <font size=4>**메타문자**"
   ]
  },
  {
   "cell_type": "markdown",
   "id": "5c779163-c93d-4866-85d5-f6b987cf7475",
   "metadata": {},
   "source": [
    "|메타문자| |사용예|설명|\n",
    "|------|---|---|---|\n",
    "|[ ]|문자 클래스|[abc]|a, b, c 중 한 개의 문자와 매치                              &nbsp;|\n",
    "|[s-e]| |[0-2]<br>[a-c]<br>[a-zA-Z]<br>[0-9]|0,1,2<br>a,b,c<br>알파벳모두<br>숫자|\n",
    "|^|반대|[^0-9]|숫자가 아닌 문자와 매치|\n",
    "|<font color=red size=4><b>?|0또는1글자<br>(있어도 되고 없어도 되고)|ab?c|?앞에 문자 b를 0 또는 1번 반복<br>O abc<br>O ac<br>X abbc|\n",
    "|<font color=red size=4><b>.|1글자|a.b<br>a[.]b|a + 모든문자 + b<br>a + Dot(.)문자 + b|\n",
    "|<font color=red size=4><b>*|반복 0~|ca*t| *앞에 문자 a를 0~ 반복<br>O ct<br>O cat<br>O caaat|\n",
    "|<font color=red size=4><b>+|반복 1~|ca+t| +앞에 문자 a를 1~ 반복<br>X ct<br>O cat<br>O caaat|  \n",
    "|{s,e}|반복 s~e|{3,5}<br>{3, }<br>{ ,5}<br>{1, }<br>{0, }<br>ca{2}t<br> <br> <br>ca{2,4}t<br> <br> <br> <br>|3이상 ~ 5이하 반복<br>3~ 이상 반복<br>~5 이하 반복<br>+<br>*<br>{2}앞에 문자a를 2번반복<br>X cat<br>O caat<br>{2}앞에 문자a를 2 ~ 4번반복<br>X cat<br>O caat<br>O caaaat|"
   ]
  },
  {
   "cell_type": "markdown",
   "id": "87e4c242-6363-44ed-83aa-902271fe21f6",
   "metadata": {},
   "source": [
    "<pre> \n",
    "f\"_______\"\n",
    "^…$\tStarts and ends\n",
    "(…)\tCapture Group\n",
    "(a(bc))\tCapture Sub-group\n",
    "(.*)\tCapture all\n",
    "(abc|def)\tMatches abc or def"
   ]
  },
  {
   "cell_type": "markdown",
   "id": "efea620d-c175-44f2-842c-6baeda673864",
   "metadata": {},
   "source": [
    "> <font size=4> **자주 사용하는 문자 클래스**"
   ]
  },
  {
   "cell_type": "markdown",
   "id": "20b6572e-32ad-494c-aa1e-0596a087de95",
   "metadata": {
    "tags": []
   },
   "source": [
    "|종류|문자클래스|설명|유사표현|\n",
    "|------|---|---|---|\n",
    "|숫자|<font color=red size=3><b>\\d|숫자와 매치|[0-9]|\n",
    "||<font color=red size=3><b>\\D|숫자가 아닌 것과 매치|[^0-9]|\n",
    "|숫자+문자|<font color=red size=3><b>\\w|문자+숫자(alphanumeric)와 매치|[a-zA-Z0-9]|\n",
    "||<font color=red size=3><b>\\W|문자+숫자(alphanumeric)가 아닌 문자와 매치|[^a-zA-Z0-9]|\n",
    "|특수문자|<font color=red size=3><b>\\s|whitespace 문자와 매치|[ \\t\\n\\r\\f\\v]|\n",
    "||<font color=red size=3><b>\\S|whitespace 문자가 아닌 것과 매치|[^ \\t\\n\\r\\f\\v]|"
   ]
  },
  {
   "cell_type": "markdown",
   "id": "3d71ffa1-75cd-4bb4-8d43-ec2ed41e765c",
   "metadata": {},
   "source": [
    "> <font size=4> **import re 정규식을 이용한 문자열 검색**"
   ]
  },
  {
   "cell_type": "markdown",
   "id": "f7c51596-52fc-4c74-8de6-8c8bb8d04cf0",
   "metadata": {},
   "source": [
    "|종류|설명|\n",
    "|------|---|\n",
    "|<font color=red size=3><b>match()|문자열의 처음부터 정규식과 매치되는지 검사|\n",
    "|<font color=red size=3><b>search()|문자열 전체에서 정규식과 매치되는지 검사|\n",
    "|<font color=red size=3><b>findall()|정규식과 매치되는 모든 문자열(substring)을 리스트로 반환|\n",
    "|<font color=red size=3><b>finditer()|정규식과 매치되는 모든 문자열(substring)을 반복 가능한 객체로 반환|"
   ]
  },
  {
   "cell_type": "markdown",
   "id": "0a4f61f3-77e7-4bb8-a83c-610ae2fdbd62",
   "metadata": {},
   "source": [
    "--- "
   ]
  },
  {
   "cell_type": "code",
   "execution_count": 1,
   "id": "de1e4e84-ceab-419c-91c9-be640f81a696",
   "metadata": {},
   "outputs": [],
   "source": [
    "import re"
   ]
  },
  {
   "cell_type": "markdown",
   "id": "a45608eb-f2fc-4b59-a69a-3328a17810a5",
   "metadata": {},
   "source": [
    "* <b>re.함수('패턴', '검색대상문자열')"
   ]
  },
  {
   "cell_type": "code",
   "execution_count": 14,
   "id": "cce3699a-9d25-4cdb-9db3-f9409c245149",
   "metadata": {},
   "outputs": [],
   "source": [
    "m = re.match('[a-z]+', \"10python10\")\n",
    "m"
   ]
  },
  {
   "cell_type": "code",
   "execution_count": 15,
   "id": "a43f1713-88dd-4b0c-959f-d8e690a075d9",
   "metadata": {},
   "outputs": [
    {
     "data": {
      "text/plain": [
       "<re.Match object; span=(2, 8), match='python'>"
      ]
     },
     "execution_count": 15,
     "metadata": {},
     "output_type": "execute_result"
    }
   ],
   "source": [
    "m = re.search('[a-z]+', \"10python10\")\n",
    "m"
   ]
  },
  {
   "cell_type": "markdown",
   "id": "85474c9b-7647-41d0-be1d-769ae0e2ec51",
   "metadata": {},
   "source": [
    "--- "
   ]
  },
  {
   "cell_type": "markdown",
   "id": "18fa0df4-7517-4a87-baff-018c48b234f9",
   "metadata": {},
   "source": [
    "* <b>패턴 '[a-z]+'를 매번 쓰기 귀찮다\n",
    "    * p = re.compile('[a-z]+')"
   ]
  },
  {
   "cell_type": "code",
   "execution_count": 3,
   "id": "8002974d-60cb-4931-913f-5eafa6aed0ff",
   "metadata": {},
   "outputs": [
    {
     "name": "stdout",
     "output_type": "stream",
     "text": [
      "<re.Match object; span=(0, 6), match='python'>\n",
      "<re.Match object; span=(2, 8), match='python'>\n"
     ]
    }
   ],
   "source": [
    "p = re.compile('[a-z]+')\n",
    "  #re.search('[a-z]+', \"10python10\")\n",
    "m = p.search(          \"10python10\")\n",
    "print(m)\n",
    "\n",
    "m = p.search(\"3 python\")\n",
    "print(m)"
   ]
  },
  {
   "cell_type": "markdown",
   "id": "c86e6420-758f-4b3a-98d7-da4f8b5bd16c",
   "metadata": {},
   "source": [
    "---"
   ]
  },
  {
   "cell_type": "markdown",
   "id": "ac8a1500-55ab-405f-a73e-b55a4d4487ee",
   "metadata": {},
   "source": [
    "* <b>match()\n",
    "  - 컴파일된 패턴 '[a-z]+'를 가지고 match() 메서드 수행"
   ]
  },
  {
   "cell_type": "code",
   "execution_count": 4,
   "id": "22d07740-a1d9-4c87-acf8-2615e13d2c09",
   "metadata": {},
   "outputs": [
    {
     "name": "stdout",
     "output_type": "stream",
     "text": [
      "None\n",
      "<re.Match object; span=(0, 6), match='python'> python\n",
      "None\n"
     ]
    }
   ],
   "source": [
    "m = re.match('ab*', \"python\")\n",
    "print(m)\n",
    "\n",
    "m = re.match('[a-z]+', \"python\")\n",
    "print(m, m.group())\n",
    "\n",
    "m = re.match('[a-z]+', \"3 python\")\n",
    "print(m)"
   ]
  },
  {
   "cell_type": "markdown",
   "id": "1de3a6a0-ca9c-42f0-bee3-249d532df448",
   "metadata": {},
   "source": [
    "* <b>search()\n",
    "  - 컴파일된 패턴 객체 '[a-z]+'를 가지고 search() 메서드 수행"
   ]
  },
  {
   "cell_type": "code",
   "execution_count": 5,
   "id": "89c2cad4-61c4-4695-a4f2-36be59373c9b",
   "metadata": {},
   "outputs": [
    {
     "name": "stdout",
     "output_type": "stream",
     "text": [
      "<re.Match object; span=(2, 8), match='python'>\n"
     ]
    }
   ],
   "source": [
    "p = re.compile('[a-z]+')\n",
    "m = p.search(\"3 python\")\n",
    "print(m)"
   ]
  },
  {
   "cell_type": "markdown",
   "id": "1b11d20e-3df8-4b07-a5ce-0818d33f95a6",
   "metadata": {},
   "source": [
    "* <b>findall()\n",
    "  - 컴파일된 패턴 객체 '[a-z]+'를 가지고 findall() 메서드 수행 - <font color=red>정규식과 매치되는 리스트 반환"
   ]
  },
  {
   "cell_type": "code",
   "execution_count": 6,
   "id": "0ce68f63-c236-42c6-9277-79aa3d9c4621",
   "metadata": {},
   "outputs": [
    {
     "name": "stdout",
     "output_type": "stream",
     "text": [
      "['life', 'is', 'too', 'short']\n"
     ]
    }
   ],
   "source": [
    "p = re.compile('[a-z]+')\n",
    "m = p.findall(\"3 life is 100 too short 100\")\n",
    "print(m)"
   ]
  },
  {
   "cell_type": "markdown",
   "id": "971a14ea-578b-4067-9a1f-5d76fc0a5b96",
   "metadata": {},
   "source": [
    "* <b>finditer()\n",
    "  - 컴파일된 패턴 객체 '[a-z]+'를 가지고 finditer() 메서드 수행 - <font color=red>정규식과 매치되는 iterator 객체 반환"
   ]
  },
  {
   "cell_type": "code",
   "execution_count": 7,
   "id": "f97c7ab6-711a-42a4-8565-e42e6f6cce76",
   "metadata": {},
   "outputs": [
    {
     "name": "stdout",
     "output_type": "stream",
     "text": [
      "<callable_iterator object at 0x000001F6D5117280>\n",
      "<re.Match object; span=(0, 1), match='a'> \t a\n",
      "<re.Match object; span=(2, 3), match='b'> \t b\n",
      "<re.Match object; span=(4, 7), match='cde'> \t cde\n"
     ]
    }
   ],
   "source": [
    "p = re.compile('[a-z]+')\n",
    "m = p.finditer(\"a b cde 100\")\n",
    "print(m)\n",
    "for match_obj in m: \n",
    "    print(match_obj, '\\t', match_obj.group())"
   ]
  },
  {
   "cell_type": "markdown",
   "id": "38686d23-101e-4635-a32f-3e3ca269ee37",
   "metadata": {},
   "source": [
    "## group()"
   ]
  },
  {
   "cell_type": "markdown",
   "id": "eb56c9de-b41a-4d53-a547-02bd07bab370",
   "metadata": {},
   "source": [
    "<table>\n",
    "<thead>\n",
    "<tr>\n",
    "<th>group(인덱스)</th>\n",
    "<th>설명</th>\n",
    "</tr>\n",
    "</thead>\n",
    "<tbody>\n",
    "<tr>\n",
    "<td>group(0)</td>\n",
    "<td>매치된 전체 문자열</td>\n",
    "</tr>\n",
    "<tr>\n",
    "<td>group(1)</td>\n",
    "<td>첫 번째 그룹에 해당되는 문자열</td>\n",
    "</tr>\n",
    "<tr>\n",
    "<td>group(2)</td>\n",
    "<td>두 번째 그룹에 해당되는 문자열</td>\n",
    "</tr>\n",
    "<tr>\n",
    "<td>group(n)</td>\n",
    "<td>n 번째 그룹에 해당되는 문자열</td>\n",
    "</tr>\n",
    "</tbody>\n",
    "</table>"
   ]
  },
  {
   "cell_type": "markdown",
   "id": "66b47d48-600e-46f1-8d4f-74c522bd4733",
   "metadata": {},
   "source": [
    "> <font size=4> **re.compile( ___ , 옵션)**"
   ]
  },
  {
   "cell_type": "markdown",
   "id": "37d95620-7c2d-4c08-bba5-f1b2d8efeac6",
   "metadata": {},
   "source": [
    "## Quiz\n",
    "* ref : https://regexone.com/"
   ]
  },
  {
   "cell_type": "markdown",
   "id": "16566589-5dd9-4625-893e-ff91670f67c4",
   "metadata": {},
   "source": [
    "<pre>\n",
    "정규식 a[.]{3,}b과 매치되는 문자열?\n",
    "-> a...(.은 3개 이상)b\n",
    "\n",
    "acccb\n",
    "a....b\n",
    "aaab\n",
    "a.cccb"
   ]
  },
  {
   "cell_type": "markdown",
   "id": "7fac7f2a-0b51-4e94-afa2-b7cadc031961",
   "metadata": {},
   "source": [
    "<pre>\n",
    "다음은 무엇을 표현하기 위한 정규식인가?\n",
    "1. \".*[@].*[.].*$\"\n",
    "-> 문자(0이상)@문자(0이상).문자(0이상)\n",
    "-> 이메일을 나타냄\n",
    "\n",
    "\n",
    "2. r\"(\\w+)\\s+\\d+[-]\\d+[-]\\d+\"\n",
    "park 010-1234-1234\n",
    "-> 전화번호 형식을 나타냄"
   ]
  },
  {
   "cell_type": "markdown",
   "id": "53ac3589-fa11-4877-ab0a-a16efa7d2e7f",
   "metadata": {},
   "source": [
    "* kim1234@naver.com"
   ]
  },
  {
   "cell_type": "code",
   "execution_count": 27,
   "id": "12ccfb61-482d-485e-99ed-accbac205c7b",
   "metadata": {},
   "outputs": [
    {
     "data": {
      "text/plain": [
       "<re.Match object; span=(0, 0), match=''>"
      ]
     },
     "execution_count": 28,
     "metadata": {},
     "output_type": "execute_result"
    }
   ],
   "source": [
    "#re.search('[a-zA-Z0-9]', \"0\")\n",
    "re.search(f'\\w*[@]', \"a1100@\")"
   ]
  },
  {
   "cell_type": "code",
   "execution_count": 29,
   "id": "65df4b7e-95ba-46ad-909c-30f9d6eba154",
   "metadata": {},
   "outputs": [
    {
     "data": {
      "text/plain": [
       "<re.Match object; span=(0, 17), match='kim1234@naver.com'>"
      ]
     },
     "execution_count": 29,
     "metadata": {},
     "output_type": "execute_result"
    }
   ],
   "source": [
    "# 혜린\n",
    "re.search(f\"\\w+[@]\\w+[.]\\w+\", \"kim1234@naver.com\")"
   ]
  },
  {
   "cell_type": "code",
   "execution_count": 30,
   "id": "54e20991-ecd4-4b59-8952-c48fb858352e",
   "metadata": {},
   "outputs": [
    {
     "data": {
      "text/plain": [
       "<re.Match object; span=(0, 17), match='kim1214@naver.com'>"
      ]
     },
     "execution_count": 30,
     "metadata": {},
     "output_type": "execute_result"
    }
   ],
   "source": [
    "#김효선\n",
    "re.search('[a-zA-Z0-9]+[@][a-zA-Z0-9]+[.][a-zA-Z0-9]+',\"kim1214@naver.com\")"
   ]
  },
  {
   "cell_type": "code",
   "execution_count": 33,
   "id": "0beab6b7-20c4-43e6-b720-f0689bf7c135",
   "metadata": {},
   "outputs": [
    {
     "data": {
      "text/plain": [
       "<re.Match object; span=(0, 17), match='Kim1214@naver.com'>"
      ]
     },
     "execution_count": 33,
     "metadata": {},
     "output_type": "execute_result"
    }
   ],
   "source": [
    "#우승우\n",
    "#.[a-z]*\n",
    "#[a-z]+\n",
    "re.search('[A-Za-z0-9]+[@].[a-z]*[.].[a-z]*',\"Kim1214@naver.com\")"
   ]
  },
  {
   "cell_type": "code",
   "execution_count": 34,
   "id": "fdf3b0f9-29d4-4141-8238-5975afefd65a",
   "metadata": {},
   "outputs": [
    {
     "data": {
      "text/plain": [
       "<re.Match object; span=(0, 17), match='Kim1214@naver.com'>"
      ]
     },
     "execution_count": 34,
     "metadata": {},
     "output_type": "execute_result"
    }
   ],
   "source": [
    "#김문식\n",
    "re.search(f'^[\\w]+[@].+[.]*.*[.][a-zA-Z]+$',\"Kim1214@naver.com\")"
   ]
  },
  {
   "cell_type": "markdown",
   "id": "d362409b-f473-43d1-88c0-b315c8c52628",
   "metadata": {},
   "source": [
    "* 확장자 txt 패턴 찾기\n",
    "<pre>\n",
    "abc.txt aa.jpg  a100.txt  ==> abc.txt   a100.txt"
   ]
  },
  {
   "cell_type": "code",
   "execution_count": null,
   "id": "39a16ead-986f-4338-b4c1-b2a211f7b92e",
   "metadata": {},
   "outputs": [],
   "source": []
  },
  {
   "cell_type": "code",
   "execution_count": 40,
   "id": "057aad6f-4858-45af-92cc-21024af8f574",
   "metadata": {},
   "outputs": [
    {
     "data": {
      "text/plain": [
       "['abc.txt', 'a100.txt']"
      ]
     },
     "execution_count": 40,
     "metadata": {},
     "output_type": "execute_result"
    }
   ],
   "source": [
    "# 혜린\n",
    "#re.findall(\".+[.]txt\", \"abc.txt aa.jpg a100.txt\")\n",
    "re.findall(\"\\w+[.]txt\", \"abc.txt aa.jpg a100.txt\")"
   ]
  },
  {
   "cell_type": "code",
   "execution_count": 57,
   "id": "382c7f38-f347-4a3a-9deb-1265666ed805",
   "metadata": {},
   "outputs": [
    {
     "data": {
      "text/plain": [
       "'Miss'"
      ]
     },
     "execution_count": 57,
     "metadata": {},
     "output_type": "execute_result"
    }
   ],
   "source": [
    "re.search(\" [a-zA-Z]+\", \"Heikkinen, Miss. Laina\").group().strip()"
   ]
  },
  {
   "cell_type": "markdown",
   "id": "f8f05fc9-df9a-4147-b53c-f732df623431",
   "metadata": {},
   "source": [
    "* 한글명 찾기\n",
    "<pre>\n",
    "James 홍길동 아무개 ==> 홍길동 아무개"
   ]
  },
  {
   "cell_type": "code",
   "execution_count": 45,
   "id": "131add43-3eff-4ccf-ad4a-34b425c203a5",
   "metadata": {},
   "outputs": [
    {
     "data": {
      "text/plain": [
       "['가길동', '아무개']"
      ]
     },
     "execution_count": 45,
     "metadata": {},
     "output_type": "execute_result"
    }
   ],
   "source": [
    "# re.findall(\"[^a-zA-Z]+\", \"James 홍길동 아무개\")\n",
    "re.findall(\"[가-힣]+\", \"James 가길동 아무개\")"
   ]
  }
 ],
 "metadata": {
  "kernelspec": {
   "display_name": "Python 3 (ipykernel)",
   "language": "python",
   "name": "python3"
  },
  "language_info": {
   "codemirror_mode": {
    "name": "ipython",
    "version": 3
   },
   "file_extension": ".py",
   "mimetype": "text/x-python",
   "name": "python",
   "nbconvert_exporter": "python",
   "pygments_lexer": "ipython3",
   "version": "3.8.8"
  }
 },
 "nbformat": 4,
 "nbformat_minor": 5
}
