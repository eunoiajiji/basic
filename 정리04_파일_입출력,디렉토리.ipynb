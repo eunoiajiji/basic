{
 "cells": [
  {
   "cell_type": "markdown",
   "id": "11fcfb72-29bf-433c-9070-1368b776acab",
   "metadata": {},
   "source": [
    "# 파일 입력 / 출력\n",
    "- 나중엔 pandas로 더 많이 사용"
   ]
  },
  {
   "cell_type": "markdown",
   "id": "1f7b3904-9152-4911-a78d-5915d254d1e7",
   "metadata": {},
   "source": [
    "- 파일생성\n",
    "- 파일 읽기/쓰기 \n",
    "- 파일/디렉토리 관리"
   ]
  },
  {
   "cell_type": "markdown",
   "id": "019cc838-c684-4862-aacc-89d16f9a9651",
   "metadata": {},
   "source": [
    "* 경로\n",
    "<pre>\n",
    "    - 리눅스&유닉스(슬러시) :  /etc/guest/aa.txt\n",
    "    - 윈도우(역슬러시)     :  C:\\aaa\\bb.txt   ---> \\n \\t 표시와 헷갈릴수 있어서 파이썬에서 사용할때는 \\\\나/로 바꿔서사용\n",
    "    - 파이썬 프로그래밍    : C:\\\\aaa\\\\bb.txt C:/aaa/bb.txt\n"
   ]
  },
  {
   "cell_type": "markdown",
   "id": "d654f5de-45b9-4e6d-a19c-162938ea5fa5",
   "metadata": {
    "tags": []
   },
   "source": [
    "* 절대경로(Absolute Path) : C:\\\\AI\\\\pythonProject\n",
    "* 상대경로(Relative Path) : 상대적으로 내가 위치한 폴더를 기준의 경로<pre>\n",
    "     .  현재폴더\n",
    "    ..  상위폴더\n",
    "     /  아래"
   ]
  },
  {
   "cell_type": "markdown",
   "id": "d7da05c2-fccd-4ef4-ba6e-117a9c8e79c2",
   "metadata": {},
   "source": [
    "* <b>encoding</b>\n",
    "<pre>\n",
    "ANSI(윈도우)   ASCII(유닉스&리눅스에서 주로 사용, 맥)\n",
    "CP949          UTF-8"
   ]
  },
  {
   "cell_type": "code",
   "execution_count": 1,
   "id": "e3b56a23-95ba-4058-937e-1b4572dfd221",
   "metadata": {
    "tags": []
   },
   "outputs": [],
   "source": [
    "import pandas as pd\n",
    "import numpy as np\n",
    "import cx_Oracle"
   ]
  },
  {
   "cell_type": "markdown",
   "id": "f6926b1c-81d1-46f4-ad84-cb73107ced84",
   "metadata": {},
   "source": [
    "## 파일생성/ 닫기"
   ]
  },
  {
   "cell_type": "markdown",
   "id": "c2c9ed3f-4793-42be-b248-371041f77f80",
   "metadata": {},
   "source": [
    "* 변수 = open('파일경로', '모드') \n",
    "    - 모드 :\n",
    "        1. r(읽기)\n",
    "        2. w(쓰기)\n",
    "        3. a(추가)\n",
    "* <b>변수.close()</b>"
   ]
  },
  {
   "cell_type": "markdown",
   "id": "59cd5d3c-f0b9-4926-b942-a208c0afba59",
   "metadata": {},
   "source": [
    "## 읽기 (모드 : 'r') "
   ]
  },
  {
   "cell_type": "code",
   "execution_count": 2,
   "id": "e01a67d1-5091-48ac-a7ab-9188cf4c9fbc",
   "metadata": {
    "tags": []
   },
   "outputs": [
    {
     "name": "stdout",
     "output_type": "stream",
     "text": [
      "동해물과 \n",
      "\n",
      "['백두산이\\n', '마르고 닳도록']\n",
      "\n"
     ]
    }
   ],
   "source": [
    "# close()를 사용해줘야 한다\n",
    "f = open(file=\"../python_basic/memo_ansi.txt\", mode='r')  \n",
    "t1 = f.readline()   # 라인 1줄을 읽음\n",
    "txt = f. readlines() # 전체를 읽어서 리스트로 돌려줌\n",
    "txts = f.read()\n",
    "f.close()\n",
    "print(t1)\n",
    "print(txt) \n",
    "print(txts)\n",
    "\n",
    "# # with를 사용하면 close()를 하지 않아도 안에 내용을 다 실행 하고 나면 자동으로 close()됨\n",
    "# with open(file=\"../python_basic/memo_utf8.txt\" , mode='r' , encoding=\"UTF-8\" ) as f :\n",
    "#     t1 = f.readline()   # 라인 1줄을 읽음\n",
    "#     txt = f. readlines()\n",
    "#     txts = f.read()\n",
    "#     print(t1)\n",
    "#     print(txt) \n",
    "#     print(txts)\n",
    "\n",
    "#---------------------------------------------------------------------------------------    \n",
    "# f = pd.read_csv(\"../python_basic/memo_ansi.txt\",encoding='cp949')    \n",
    "# f    # 데이터프레임"
   ]
  },
  {
   "cell_type": "markdown",
   "id": "945ef622-6ae6-4f9e-bc2b-d06cd77eb3f0",
   "metadata": {},
   "source": [
    "### readline()\n",
    "* readline()           : 라인1줄"
   ]
  },
  {
   "cell_type": "code",
   "execution_count": 3,
   "id": "f9fc7563-0422-497e-9a34-0f6c628a1815",
   "metadata": {
    "tags": []
   },
   "outputs": [
    {
     "name": "stdout",
     "output_type": "stream",
     "text": [
      "동해물과 \n",
      "\n"
     ]
    }
   ],
   "source": [
    "f = open(file=\"../python_basic/memo_ansi.txt\", mode='r')\n",
    "txt = f.readline()\n",
    "print(txt)\n",
    "f.close()"
   ]
  },
  {
   "cell_type": "code",
   "execution_count": 4,
   "id": "dc49eff7-28a4-4a59-b362-7aeb44a8480c",
   "metadata": {
    "tags": []
   },
   "outputs": [
    {
     "name": "stdout",
     "output_type": "stream",
     "text": [
      "동해물과 \n",
      "\n"
     ]
    }
   ],
   "source": [
    "f = open(file=\"../python_basic/memo_utf8.txt\" , mode='r' , encoding=\"UTF-8\")\n",
    "txt = f.readline()\n",
    "print(txt)\n",
    "f.close()"
   ]
  },
  {
   "cell_type": "markdown",
   "id": "dea7d18d-2a9e-48fc-b444-72fab5175229",
   "metadata": {},
   "source": [
    "* for문을 사용해서 전체 내용을 가져올 수 있음"
   ]
  },
  {
   "cell_type": "code",
   "execution_count": 5,
   "id": "c666be07-b975-4731-bf71-30e28c613d46",
   "metadata": {
    "tags": []
   },
   "outputs": [
    {
     "name": "stdout",
     "output_type": "stream",
     "text": [
      "동해물과 \n",
      "백두산이\n",
      "마르고 닳도록"
     ]
    }
   ],
   "source": [
    "f = open(file=\"../python_basic/memo_ansi.txt\", mode='r')\n",
    "while(True):\n",
    "    txt = f.readline()\n",
    "    if not txt:\n",
    "        break\n",
    "    print(txt, end=\"\")\n",
    "f.close()"
   ]
  },
  {
   "cell_type": "markdown",
   "id": "b836c3f3-8867-4821-a5d8-76196a071152",
   "metadata": {},
   "source": [
    "### readlines()"
   ]
  },
  {
   "cell_type": "markdown",
   "id": "6c297c5c-7b8a-4899-8b37-cedf7ccfeb0a",
   "metadata": {},
   "source": [
    "* readlines()  : 전체를 리스트로 반환해준다"
   ]
  },
  {
   "cell_type": "code",
   "execution_count": 6,
   "id": "033cd46b-b837-41f6-867d-fdd45b1b1eaa",
   "metadata": {
    "tags": []
   },
   "outputs": [
    {
     "name": "stdout",
     "output_type": "stream",
     "text": [
      "동해물과 \n",
      "백두산이\n",
      "마르고 닳도로옥"
     ]
    }
   ],
   "source": [
    "f = open(file=\"../python_basic\\\\memo_utf8.txt\" , mode='r' , encoding=\"UTF-8\")\n",
    "txt_list = f.readlines()  #['동해물과 \\n', '백두산이\\n', '마르고 닳도록']\n",
    "for txt in txt_list:\n",
    "    print(txt, end=\"\")\n",
    "f.close()"
   ]
  },
  {
   "cell_type": "markdown",
   "id": "12ee8b61-62bf-4c38-be49-071a9832e019",
   "metadata": {},
   "source": [
    "### read()"
   ]
  },
  {
   "cell_type": "markdown",
   "id": "76c302c7-072d-4c80-9fd5-e2111d6d6fdc",
   "metadata": {},
   "source": [
    "* 한번에 전체를 읽어온다"
   ]
  },
  {
   "cell_type": "code",
   "execution_count": 7,
   "id": "9ddd8816-2b30-4773-9aed-1b6e96b49a7b",
   "metadata": {
    "tags": []
   },
   "outputs": [
    {
     "name": "stdout",
     "output_type": "stream",
     "text": [
      "동해물과 \n",
      "백두산이\n",
      "마르고 닳도로옥\n"
     ]
    }
   ],
   "source": [
    "f = open(file=\"../python_basic\\\\memo_utf8.txt\", mode='r' , encoding=\"UTF-8\")\n",
    "txts = f.read()\n",
    "print(txts)\n",
    "f.close()"
   ]
  },
  {
   "cell_type": "markdown",
   "id": "1d22f2e7-8e57-4781-bf34-87b10787a39d",
   "metadata": {},
   "source": [
    "----"
   ]
  },
  {
   "cell_type": "markdown",
   "id": "1cba4b47-3379-4ee6-bfcd-9554308f4eb3",
   "metadata": {},
   "source": [
    "## 쓰기 (모드: 'w')"
   ]
  },
  {
   "cell_type": "markdown",
   "id": "f90196e2-6180-4d78-96c1-a122ed71a47a",
   "metadata": {},
   "source": [
    "* 'w' 할때마다 새로 갱신\n",
    "(추가X)\n",
    "* 원래 내용에 추가하기 위해서는 'a' 사용"
   ]
  },
  {
   "cell_type": "code",
   "execution_count": 8,
   "id": "e3b99841-c70f-4012-83ff-5fd19b4700bc",
   "metadata": {
    "tags": []
   },
   "outputs": [
    {
     "name": "stdout",
     "output_type": "stream",
     "text": [
      "===done===\n"
     ]
    }
   ],
   "source": [
    "with open(file=\"../python_basic\\\\memo_write.txt\", mode='w') as f :\n",
    "    f.write('쓰기모드입력중'+\"\\n\")\n",
    "    f.write(\"2\\n\")\n",
    "print(\"===done===\")"
   ]
  },
  {
   "cell_type": "code",
   "execution_count": 9,
   "id": "d84941fd-ffe7-4d16-9fb2-887470eb4b35",
   "metadata": {
    "tags": []
   },
   "outputs": [
    {
     "name": "stdout",
     "output_type": "stream",
     "text": [
      "===done===\n"
     ]
    }
   ],
   "source": [
    "with open(file=\"../python_basic\\\\memo_write.txt\", mode='w') as f :\n",
    "    for i in range(1,6) :\n",
    "        f.write(str(i)+\"\\n\")\n",
    "print(\"===done===\")"
   ]
  },
  {
   "cell_type": "markdown",
   "id": "be88ab7a-644f-49a3-90e1-71c258694797",
   "metadata": {},
   "source": [
    "* 입력된 데이터 확인"
   ]
  },
  {
   "cell_type": "code",
   "execution_count": 10,
   "id": "cada0969-40c2-4ae4-9a00-777ddb37d17d",
   "metadata": {
    "tags": []
   },
   "outputs": [],
   "source": [
    "import pandas as pd\n",
    "import numpy as np\n",
    "df = pd.read_csv('../python_basic\\\\memo_write.txt',encoding='utf-8')"
   ]
  },
  {
   "cell_type": "code",
   "execution_count": 11,
   "id": "a4c3f440-8228-46f8-bf3d-99b2b0d27a11",
   "metadata": {
    "tags": []
   },
   "outputs": [
    {
     "data": {
      "text/html": [
       "<div>\n",
       "<style scoped>\n",
       "    .dataframe tbody tr th:only-of-type {\n",
       "        vertical-align: middle;\n",
       "    }\n",
       "\n",
       "    .dataframe tbody tr th {\n",
       "        vertical-align: top;\n",
       "    }\n",
       "\n",
       "    .dataframe thead th {\n",
       "        text-align: right;\n",
       "    }\n",
       "</style>\n",
       "<table border=\"1\" class=\"dataframe\">\n",
       "  <thead>\n",
       "    <tr style=\"text-align: right;\">\n",
       "      <th></th>\n",
       "      <th>1</th>\n",
       "    </tr>\n",
       "  </thead>\n",
       "  <tbody>\n",
       "    <tr>\n",
       "      <th>0</th>\n",
       "      <td>2</td>\n",
       "    </tr>\n",
       "    <tr>\n",
       "      <th>1</th>\n",
       "      <td>3</td>\n",
       "    </tr>\n",
       "    <tr>\n",
       "      <th>2</th>\n",
       "      <td>4</td>\n",
       "    </tr>\n",
       "    <tr>\n",
       "      <th>3</th>\n",
       "      <td>5</td>\n",
       "    </tr>\n",
       "  </tbody>\n",
       "</table>\n",
       "</div>"
      ],
      "text/plain": [
       "   1\n",
       "0  2\n",
       "1  3\n",
       "2  4\n",
       "3  5"
      ]
     },
     "execution_count": 11,
     "metadata": {},
     "output_type": "execute_result"
    }
   ],
   "source": [
    "df"
   ]
  },
  {
   "cell_type": "code",
   "execution_count": 24,
   "id": "b6b3f210-f268-4f09-ab12-643797c52b07",
   "metadata": {
    "tags": []
   },
   "outputs": [
    {
     "name": "stdout",
     "output_type": "stream",
     "text": [
      "동해물과 \n",
      "백두산이\n",
      "마르고 닳도로옥\n"
     ]
    }
   ],
   "source": [
    "with open(file = '../python_basic/memo_write.txt',encoding='utf-8') as f:\n",
    "    txt = f.read()\n",
    "    print(txt)"
   ]
  },
  {
   "cell_type": "markdown",
   "id": "0b2a8627-00d1-498a-acdc-b750acc1ac78",
   "metadata": {},
   "source": [
    "## 추가 (모드 : 'a')"
   ]
  },
  {
   "cell_type": "markdown",
   "id": "10a73db6-32ed-4256-b87a-83858b12f0b5",
   "metadata": {
    "tags": []
   },
   "source": [
    "### 파일-> 파일"
   ]
  },
  {
   "cell_type": "code",
   "execution_count": 13,
   "id": "19bdfcb6-5619-436c-a3ff-3a757c5727db",
   "metadata": {},
   "outputs": [],
   "source": [
    "# memo_utf8.txt 파일을 memo_write.txt에 추가\n",
    "# --------------------------\n",
    "fr = open(file=\"../python_basic\\\\memo_utf8.txt\",  encoding='UTF-8', mode='r')\n",
    "fw = open(file=\"../python_basic\\\\memo_write.txt\", encoding='UTF-8', mode='a')\n",
    "txt_list = fr.readlines()\n",
    "for txt in txt_list:\n",
    "    fw.write(txt)\n",
    "fr.close()\n",
    "fw.close()"
   ]
  },
  {
   "cell_type": "markdown",
   "id": "37a705cc-3451-49e7-b9cc-f212fb310bf7",
   "metadata": {},
   "source": [
    "----"
   ]
  },
  {
   "cell_type": "markdown",
   "id": "95373508-1633-427b-a6ef-9c4497fb5265",
   "metadata": {
    "tags": []
   },
   "source": [
    "# 패키지, 모듈, 클래스, 함수"
   ]
  },
  {
   "cell_type": "markdown",
   "id": "9b0a0695-ed7f-42a8-ac6a-9d8c98662770",
   "metadata": {
    "tags": []
   },
   "source": [
    "<table>\n",
    "<tr><td><b>패키지</td>   <td><b>모듈</td>   <td><b>클래스</td>   <td><b>함수</b></tr>\n",
    "<tr><td>폴더</td>   <td>.py파일</td>   <td>class</td>    <td>def</td></tr>\n",
    "</table>"
   ]
  },
  {
   "cell_type": "markdown",
   "id": "3ce716c9-c865-467c-86dd-a788c77ade3d",
   "metadata": {},
   "source": [
    "- 함수를 불러서 사용한다 --> 함수 호출\n",
    "- 함수에 return이 있는 경우 변수에 바인딩해 사용할 수 있다."
   ]
  },
  {
   "cell_type": "code",
   "execution_count": 14,
   "id": "1d3ede8b-804d-413b-9b51-293a02cee0df",
   "metadata": {
    "tags": []
   },
   "outputs": [],
   "source": [
    "class CalcClass :\n",
    "    def add(n1, n2):\n",
    "        res = n1 + n2\n",
    "        return res\n",
    "\n",
    "class MemberClass:\n",
    "    def add(name, age):\n",
    "        print(name,\"저장\")\n",
    "\n",
    "def myprint(n):\n",
    "    print(n,\"입력되었습니다\")\n",
    "\n",
    "def uprint(n):\n",
    "    print(n,\"입력되었습니다2222\")"
   ]
  },
  {
   "cell_type": "code",
   "execution_count": 15,
   "id": "260cae1f-8146-4cf7-838f-85e856521e69",
   "metadata": {
    "tags": []
   },
   "outputs": [
    {
     "name": "stdout",
     "output_type": "stream",
     "text": [
      "6\n"
     ]
    }
   ],
   "source": [
    "a = CalcClass.add(1,5)\n",
    "print(a)"
   ]
  },
  {
   "cell_type": "code",
   "execution_count": 16,
   "id": "1dbf7323-6ae2-4246-8ada-db4878d7873f",
   "metadata": {
    "tags": []
   },
   "outputs": [
    {
     "name": "stdout",
     "output_type": "stream",
     "text": [
      "kim 저장\n"
     ]
    }
   ],
   "source": [
    "MemberClass.add(\"kim\", 30)"
   ]
  },
  {
   "cell_type": "code",
   "execution_count": 17,
   "id": "0f0f94b3-6943-4f41-8860-66fbd0574735",
   "metadata": {
    "tags": []
   },
   "outputs": [
    {
     "name": "stdout",
     "output_type": "stream",
     "text": [
      "5 입력되었습니다\n"
     ]
    }
   ],
   "source": [
    "myprint(5)"
   ]
  },
  {
   "cell_type": "markdown",
   "id": "ec33e3d4-98fe-4427-bd2c-0235a048ad98",
   "metadata": {},
   "source": [
    "---"
   ]
  },
  {
   "cell_type": "markdown",
   "id": "5f80ed07-3169-4311-a2ea-68cb6044ec7b",
   "metadata": {},
   "source": [
    "# 만든 함수 다른 파일에서 호출"
   ]
  },
  {
   "cell_type": "markdown",
   "id": "fa652ac2-b186-4492-b89a-f06d8c32d2f0",
   "metadata": {},
   "source": [
    "<pre>\n",
    "1. from   : 패키지명.모듈명\n",
    "2. import : 클래스명, 모듈명, 함수명\n",
    "3. 모듈명은 일반적으로 별칭(alias)를 사용한다\n",
    "4. import 함수명1, 함수명2 이 길어지면 import 모듈명으로 한다\n",
    "\n",
    "      ex) from 패키지명.모듈명 import 클래스명\n",
    "      ex) from 패키지명.모듈명 import 함수명1, 함수명2 ...\n",
    "      ex) from 패키지명       import 모듈명 as 별명"
   ]
  },
  {
   "cell_type": "markdown",
   "id": "95437027-6035-4e02-a477-e3a1e8356396",
   "metadata": {},
   "source": [
    "- python_basic : 패키지\n",
    "- lec04_파일입출력함수_lkh.py : 모듈   -> .py만 가능 .ipynb는 안됨\n",
    "- CalcClass, MemberClass, myprint, uprint : 함수\n"
   ]
  },
  {
   "cell_type": "code",
   "execution_count": 18,
   "id": "ff1fa3f4-336a-4727-bf60-ad3ec521d8c6",
   "metadata": {},
   "outputs": [],
   "source": [
    "# from python_basic.lec04_파일입출력함수_lkh import CalcClass, MemberClass, myprint, uprint\n",
    "\n",
    "# a = CalcClass.add(1,5)\n",
    "# print(a)\n",
    "\n",
    "# MemberClass.add(\"kim\", 30)\n",
    "\n",
    "# myprint(5)\n",
    "\n",
    "# uprint(5)"
   ]
  },
  {
   "cell_type": "code",
   "execution_count": 19,
   "id": "a7760303-d2bd-427a-8ed2-b6fbcdcb6c6e",
   "metadata": {
    "tags": []
   },
   "outputs": [],
   "source": [
    "# from python_basic import lec04_파일입출력함수_lkh\n",
    "\n",
    "# lec04_파일입출력함수_lkh.uprint(55)\n",
    "# lec04_파일입출력함수_lkh.MemberClass.add(\"park\", 29)  #----비추\n",
    "\n",
    "# #---------------------------------------------------------\n",
    "# from python_basic import lec04_파일입출력함수_lkh as lkh  #-> 모듈에 alias를 줘서 사용\n",
    "\n",
    "# lkh.uprint(55)"
   ]
  },
  {
   "cell_type": "markdown",
   "id": "3614a019-16b8-49d5-a7ee-cb9cfe8e864f",
   "metadata": {},
   "source": [
    "---"
   ]
  },
  {
   "cell_type": "markdown",
   "id": "d8084dba-d547-46e3-9f2f-1ccea1c544eb",
   "metadata": {},
   "source": [
    "# 파일 디렉토리"
   ]
  },
  {
   "cell_type": "code",
   "execution_count": 22,
   "id": "9424b4cc-31e3-45db-8478-6c38d5bbd08c",
   "metadata": {
    "tags": []
   },
   "outputs": [],
   "source": [
    "from shutil import copy, copy2, copyfile"
   ]
  },
  {
   "cell_type": "markdown",
   "id": "2c58c3d3-0f43-45e9-b6f6-e6f88ddaa3fc",
   "metadata": {},
   "source": [
    "## 파일 복사"
   ]
  },
  {
   "cell_type": "code",
   "execution_count": 23,
   "id": "fa5de2f4-79d1-4bef-b4f4-167043d89238",
   "metadata": {
    "tags": []
   },
   "outputs": [
    {
     "data": {
      "text/plain": [
       "'../python_basic\\\\memo_write.txt'"
      ]
     },
     "execution_count": 23,
     "metadata": {},
     "output_type": "execute_result"
    }
   ],
   "source": [
    "# copy(\"/etc/memo/a.txt\", \"/etc/memo2/b.txt\") # a.txt 내용을 b.txt에 복사해줌\n",
    "# #------------------------------------------------------------------------\n",
    "# copy2(\"/etc/memo/a.txt\", \"/etc/memo2\") # etc/memo2에 알아서 a.txt를 만들어줌\n",
    "#------------------------------------------------------------------------\n",
    "orig = \"../python_basic\\\\memo_utf8.txt\"\n",
    "dest = \"../python_basic\\\\memo_write.txt\"\n",
    "copyfile(orig, dest) # orig를 dest에 복사해줌"
   ]
  },
  {
   "cell_type": "markdown",
   "id": "07fb6811-d8c1-4f78-90e6-b72ef7d268a2",
   "metadata": {},
   "source": [
    "## 경로 os.getcwd(),os.listdir"
   ]
  },
  {
   "cell_type": "code",
   "execution_count": 36,
   "id": "f946c438-fbd3-49b1-90d5-671fd266f4ac",
   "metadata": {
    "tags": []
   },
   "outputs": [],
   "source": [
    "import os\n",
    "from os.path import isfile, isdir, join"
   ]
  },
  {
   "cell_type": "markdown",
   "id": "9494a68e-2a4d-4aff-b45d-f30243f00e0b",
   "metadata": {},
   "source": []
  },
  {
   "cell_type": "markdown",
   "id": "a3633073-7010-4989-95ac-3eab08b93791",
   "metadata": {},
   "source": [
    "<pre>\n",
    "os.path.split(경로/파일명)     #(경로, 파일명)\n",
    "os.path.basename(경로/파일명)  #파일명\n",
    "os.path.dirname(경로/파일명)   #경로\n",
    "os.path.splitext(경로/파일명)  #( 경로/파일명 , .py(확장자) )"
   ]
  },
  {
   "cell_type": "markdown",
   "id": "05cda8a3-5aa7-47e7-9533-d4b55da020a0",
   "metadata": {},
   "source": [
    "### os.getcwd()\n",
    "* 현재 파일의 절대 경로를 알려줌"
   ]
  },
  {
   "cell_type": "code",
   "execution_count": 28,
   "id": "412dbd44-ecb4-4c23-8822-488d65757a89",
   "metadata": {
    "tags": []
   },
   "outputs": [
    {
     "name": "stdout",
     "output_type": "stream",
     "text": [
      "C:\\AI\\PythonProjects\\venv\\python_jisu\n"
     ]
    }
   ],
   "source": [
    "print(os.getcwd()) "
   ]
  },
  {
   "cell_type": "markdown",
   "id": "4e5bfe1a-913f-45a1-bc5b-31cf994390fd",
   "metadata": {},
   "source": [
    "### os.listdir('경로')\n",
    "* 경로 내에 있는 디렉토리를 모두 보여줌"
   ]
  },
  {
   "cell_type": "code",
   "execution_count": 31,
   "id": "50d1b14f-9bc6-40e6-a4e2-b369cf469fe2",
   "metadata": {
    "tags": []
   },
   "outputs": [
    {
     "name": "stdout",
     "output_type": "stream",
     "text": [
      "['.ipynb_checkpoints', '정리01_변수,DataFrame.ipynb', '정리02_DataFrame.ipynb', '정리03_if,for,while.ipynb', '정리04_파일_입출력,디렉토리.ipynb']\n"
     ]
    }
   ],
   "source": [
    "print(os.listdir('C:/AI/PythonProjects/venv/python_jisu'))\n",
    "# print(os.listdir(os.getcwd())) #위아래 같음"
   ]
  },
  {
   "cell_type": "markdown",
   "id": "3d0705b4-35cf-42ea-91db-57a038ddb7bb",
   "metadata": {},
   "source": [
    "* 파일명을 알면 경로를 만들 수 있음"
   ]
  },
  {
   "cell_type": "markdown",
   "id": "860f626e-4cc1-43d4-9977-1fb944ed62dc",
   "metadata": {
    "tags": []
   },
   "source": [
    "### join('경로','파일명')\n",
    "* 경로를 이어준다"
   ]
  },
  {
   "cell_type": "code",
   "execution_count": 43,
   "id": "2ff6473e-e06a-4db7-bab9-22e4552bb7c4",
   "metadata": {
    "tags": []
   },
   "outputs": [
    {
     "name": "stdout",
     "output_type": "stream",
     "text": [
      "C:\\AI\\PythonProjects\\venv\\python_jisu\\.ipynb_checkpoints\n",
      "C:\\AI\\PythonProjects\\venv\\python_jisu\\정리01_변수,DataFrame.ipynb\n",
      "C:\\AI\\PythonProjects\\venv\\python_jisu\\정리02_DataFrame.ipynb\n",
      "C:\\AI\\PythonProjects\\venv\\python_jisu\\정리03_if,for,while.ipynb\n",
      "C:\\AI\\PythonProjects\\venv\\python_jisu\\정리04_파일_입출력,디렉토리.ipynb\n"
     ]
    }
   ],
   "source": [
    "for f in os.listdir(os.getcwd()) :\n",
    "    # print(os.getcwd() +  \"\\\\\" + f)\n",
    "    print(  join( os.getcwd() , f)  )"
   ]
  },
  {
   "cell_type": "markdown",
   "id": "c2c4d371-1c25-40c0-9c27-857d550cd84e",
   "metadata": {},
   "source": [
    "## 파일의 정보"
   ]
  },
  {
   "cell_type": "markdown",
   "id": "7409f740-4c60-4c8d-9b02-8300fe20b5ef",
   "metadata": {},
   "source": [
    "## datetime으로 날짜 확인"
   ]
  },
  {
   "cell_type": "code",
   "execution_count": 48,
   "id": "55b0668e-f83c-4df8-a428-c3f3238fbdcd",
   "metadata": {
    "tags": []
   },
   "outputs": [],
   "source": [
    "from datetime import datetime"
   ]
  },
  {
   "cell_type": "markdown",
   "id": "d7e6ca13-5af9-427b-9d3c-b8a106ac8b38",
   "metadata": {},
   "source": [
    "### getmtime() :수정날짜"
   ]
  },
  {
   "cell_type": "code",
   "execution_count": 56,
   "id": "27f57345-cf92-43d3-8a2e-eaf703b0187f",
   "metadata": {
    "tags": []
   },
   "outputs": [
    {
     "name": "stdout",
     "output_type": "stream",
     "text": [
      "<class 'float'> 1674130614.294454\n",
      "<class 'datetime.datetime'> 2023-01-19 21:16:54.294454\n",
      "<class 'str'> 2023-01-19 21:16:54\n"
     ]
    }
   ],
   "source": [
    "float_mm = os.path.getmtime(\"C://AI//강사님 구글 드라이브.txt\")   #1674130614.294454\n",
    "print( type(float_mm),   float_mm)\n",
    "\n",
    "time_mm = datetime.fromtimestamp(float_mm)    #정수로된 날짜를 datetime으로 바꿔줌\n",
    "print( type(time_mm),   time_mm)\n",
    "\n",
    "str_mm =  datetime.strftime(time_mm,  \"%Y-%m-%d %H:%M:%S\")  #datetime을 str으로 바꿔줌\n",
    "print(  type(str_mm),  str_mm )"
   ]
  },
  {
   "cell_type": "markdown",
   "id": "7f76e16c-5b25-4294-a50d-82598e4ec065",
   "metadata": {},
   "source": [
    "## os.path"
   ]
  },
  {
   "cell_type": "markdown",
   "id": "f0f0806c-7eff-4978-a18f-d8511ceadd54",
   "metadata": {
    "tags": []
   },
   "source": [
    "### os.path.isdir()\n",
    "- 디렉토리면 True 아니면 False"
   ]
  },
  {
   "cell_type": "markdown",
   "id": "704237eb-9ef3-4a8e-b2f9-64e3c5f05b1f",
   "metadata": {},
   "source": [
    "### os.path.isfile()\n",
    "- 파일이면 True 아니면 False"
   ]
  },
  {
   "cell_type": "markdown",
   "id": "59235dfb-5f5e-43f4-9921-56202d5fd0c9",
   "metadata": {},
   "source": [
    "### os.path.split(경로/파일명)     #(경로, 파일명)"
   ]
  },
  {
   "cell_type": "markdown",
   "id": "963258e4-c12d-4509-91e1-49a0e36d3807",
   "metadata": {},
   "source": [
    "### os.path.basename(경로/파일명)  #파일명"
   ]
  },
  {
   "cell_type": "markdown",
   "id": "d7ab9b6b-a113-44cc-9f00-a4a65da5ff2c",
   "metadata": {
    "tags": []
   },
   "source": [
    "### os.path.dirname(경로/파일명)   #경로"
   ]
  },
  {
   "cell_type": "markdown",
   "id": "ff62672a-4bd5-4515-ad2b-3f7fba137fbb",
   "metadata": {},
   "source": [
    "### os.path.splitext(경로/파일명)  #( 경로/파일명 , .py(확장자) )"
   ]
  },
  {
   "cell_type": "code",
   "execution_count": 78,
   "id": "4998510f-50e3-484b-aef6-5550f225b9f9",
   "metadata": {
    "tags": []
   },
   "outputs": [
    {
     "name": "stdout",
     "output_type": "stream",
     "text": [
      "파일폴더 \t\t\t $Recycle.Bin \t\t 2023-02-26 09:54:22\n",
      "파일폴더 \t\t\t $WINDOWS.~BT \t\t 2023-01-24 13:43:06\n",
      "파일폴더 \t\t\t $WinREAgent \t\t 2023-02-16 19:04:55\n",
      "파일폴더 \t\t\t 3DP \t\t 2020-02-21 15:40:53\n",
      "파일폴더 \t\t\t AI \t\t 2023-02-05 16:18:16\n",
      "파일폴더 \t\t\t Config.Msi \t\t 2023-02-23 23:31:58\n",
      "파일폴더 \t\t\t Documents and Settings \t\t 2021-05-15 14:03:26\n",
      "텍스트문서 \t\t\t DumpStack.log \t\t 2023-02-18 20:40:08 \t\t 8.0 KB\n",
      "텍스트문서 \t\t\t DumpStack.log.tmp \t\t 2023-02-22 21:16:49 \t\t 8.0 KB\n",
      "텍스트문서 \t\t\t hiberfil.sys \t\t 2023-02-26 09:53:52 \t\t 3271076.0 KB\n",
      "파일폴더 \t\t\t Intel \t\t 2018-09-15 17:12:39\n",
      "텍스트문서 \t\t\t msdia80.dll \t\t 2006-12-01 23:37:14 \t\t 883.5 KB\n",
      "파일폴더 \t\t\t NewGenDB \t\t 2022-11-26 13:16:08\n",
      "파일폴더 \t\t\t OA \t\t 2022-12-27 16:40:06\n",
      "파일폴더 \t\t\t OB \t\t 2022-12-27 16:40:22\n",
      "파일폴더 \t\t\t oraclexe \t\t 2023-01-17 21:12:05\n",
      "텍스트문서 \t\t\t pagefile.sys \t\t 2023-02-22 21:16:49 \t\t 8912896.0 KB\n",
      "파일폴더 \t\t\t PerfLogs \t\t 2019-12-07 18:14:52\n",
      "파일폴더 \t\t\t Program Files \t\t 2023-02-05 17:08:11\n",
      "파일폴더 \t\t\t Program Files (x86) \t\t 2023-02-01 21:38:46\n",
      "파일폴더 \t\t\t ProgramData \t\t 2023-01-17 21:55:12\n",
      "파일폴더 \t\t\t Recovery \t\t 2022-07-16 10:30:05\n",
      "텍스트문서 \t\t\t swapfile.sys \t\t 2023-02-22 21:16:49 \t\t 16384.0 KB\n",
      "파일폴더 \t\t\t System Volume Information \t\t 2023-02-25 11:59:35\n",
      "파일폴더 \t\t\t Temp \t\t 2022-12-02 19:58:43\n",
      "텍스트문서 \t\t\t Update.ini \t\t 2022-12-14 13:44:27 \t\t 0.01953125 KB\n",
      "파일폴더 \t\t\t Users \t\t 2021-05-15 14:03:26\n",
      "파일폴더 \t\t\t Windows \t\t 2023-02-26 09:54:58\n"
     ]
    }
   ],
   "source": [
    "for f in os.listdir(\"C:\\\\\") :\n",
    "    path = join( \"C:\\\\\" , f)\n",
    "\n",
    "    # ------------------------ 수정날짜 구하기 ---------------------\n",
    "    float_mm = os.path.getmtime(path)  # 1541654654.456464465\n",
    "    time_mm  = datetime.fromtimestamp(float_mm)\n",
    "    str_mm   = datetime.strftime(time_mm, \"%Y-%m-%d %H:%M:%S\")\n",
    "    #---------------------------------------------------------------\n",
    "    if os.path.isdir(path) :\n",
    "        print(\"파일폴더\",\"\\t\\t\\t\", f, \"\\t\\t\", str_mm)\n",
    "    elif os.path.isfile(path) :\n",
    "        fsize = os.path.getsize(path)   #byte Kbyte\n",
    "        print(\"텍스트문서\",'\\t\\t\\t',f, \"\\t\\t\", str_mm, \"\\t\\t\", fsize/1024, \"KB\")"
   ]
  },
  {
   "cell_type": "code",
   "execution_count": 59,
   "id": "ad68f211-3edd-49e5-a77b-fe2cee4e2879",
   "metadata": {
    "tags": []
   },
   "outputs": [
    {
     "name": "stdout",
     "output_type": "stream",
     "text": [
      "[D] $Recycle.Bin\n",
      "[D] $WINDOWS.~BT\n",
      "[D] $WinREAgent\n",
      "[D] 3DP\n",
      "------ a1.jdk-8u91-windows-x64_64bit.exe\n",
      "------ a2.OracleXE112_Win64\n",
      "------ DB Browser for SQLite\n",
      "------ get-pip.py\n",
      "------ graphviz\n",
      "------ graphviz.zip\n",
      "------ org.graphviz.Graphviz-2.38-graphviz-2.38.msi\n",
      "------ pycharm-community-2022.3.1.exe\n",
      "------ python-3.8.8-amd64.exe\n",
      "------ python38\n",
      "------ PythonProjects\n",
      "------ sqldeveloper\n",
      "------ vs_buildtools__1421008217.1629359979.exe\n",
      "------ 강사님 구글 드라이브.txt\n",
      "[D] Config.Msi\n",
      "[D] Documents and Settings\n",
      "\t DumpStack.log\n",
      "\t DumpStack.log.tmp\n",
      "\t hiberfil.sys\n",
      "[D] Intel\n",
      "\t msdia80.dll\n",
      "[D] NewGenDB\n",
      "[D] OA\n",
      "[D] OB\n",
      "[D] oraclexe\n",
      "\t pagefile.sys\n",
      "[D] PerfLogs\n",
      "[D] Program Files\n",
      "[D] Program Files (x86)\n",
      "[D] ProgramData\n",
      "[D] Recovery\n",
      "\t swapfile.sys\n",
      "[D] System Volume Information\n",
      "[D] Temp\n",
      "\t Update.ini\n",
      "[D] Users\n",
      "[D] Windows\n"
     ]
    }
   ],
   "source": [
    "for f in os.listdir(\"C:\\\\\") :\n",
    "    path = join( \"C:\\\\\" , f)\n",
    "    if os.path.isdir(path) :\n",
    "        if f == \"AI\" :\n",
    "            subpath = join(\"C:\\\\\", f)   #C:\\\\AI\n",
    "            for sf in os.listdir(subpath):\n",
    "                fullname = join(subpath, sf)    #C:\\\\AI\\\\python38\n",
    "                if os.path.isdir(fullname):\n",
    "                    print(\"------\", sf)\n",
    "                elif os.path.isfile(fullname):\n",
    "                    print(\"------\", sf)\n",
    "        else :\n",
    "            print(\"[D]\", f)\n",
    "    elif os.path.isfile(path) :\n",
    "        print(\"\\t\", f)"
   ]
  },
  {
   "cell_type": "markdown",
   "id": "0706c09b-e03b-4872-ab9f-d980d8808f81",
   "metadata": {},
   "source": [
    "## 번외. glob.glob()"
   ]
  },
  {
   "cell_type": "markdown",
   "id": "ce17f498-93a6-42aa-ad0a-42cbe5067400",
   "metadata": {
    "tags": []
   },
   "source": [
    "* glob을 이용하면 조건을 이용해 찾을 수 있다\n",
    "    - glob.glob(\"/etc/*.txt\") : etc안에있는 txt파일을 모두 찾아라\n",
    "    - glob.glob(\"/etc/*c/a*.log\") : etc안에 c로 끝나는 파일 안에 있는 a로 시작하는 log 파일을 모두 찾아라"
   ]
  },
  {
   "cell_type": "code",
   "execution_count": 60,
   "id": "62307d6e-f6c6-46d1-b2bc-a1c0cb790c42",
   "metadata": {
    "tags": []
   },
   "outputs": [],
   "source": [
    "import glob"
   ]
  },
  {
   "cell_type": "code",
   "execution_count": 65,
   "id": "3a29e86c-341c-4adc-8cfd-03d9a1d8500e",
   "metadata": {
    "tags": []
   },
   "outputs": [
    {
     "name": "stdout",
     "output_type": "stream",
     "text": [
      "['C:\\\\pagefile.sys', 'C:\\\\PerfLogs', 'C:\\\\Program Files', 'C:\\\\Program Files (x86)', 'C:\\\\ProgramData']\n",
      "---\n",
      "['C:\\\\Program Files\\\\Microsoft Office', 'C:\\\\Program Files\\\\Microsoft Office 15', 'C:\\\\Program Files\\\\Microsoft Update Health Tools', 'C:\\\\Program Files\\\\ModifiableWindowsApps', 'C:\\\\Program Files\\\\MSBuild', 'C:\\\\Program Files (x86)\\\\MarkAny', 'C:\\\\Program Files (x86)\\\\Microsoft', 'C:\\\\Program Files (x86)\\\\Microsoft SDKs', 'C:\\\\Program Files (x86)\\\\Microsoft Visual Studio', 'C:\\\\Program Files (x86)\\\\Microsoft XNA', 'C:\\\\Program Files (x86)\\\\Microsoft.NET', 'C:\\\\Program Files (x86)\\\\MSBuild', 'C:\\\\ProgramData\\\\MarkAny', 'C:\\\\ProgramData\\\\Microsoft', 'C:\\\\ProgramData\\\\Microsoft OneDrive', 'C:\\\\ProgramData\\\\Microsoft Visual Studio', 'C:\\\\ProgramData\\\\mntemp', 'C:\\\\ProgramData\\\\Mozilla']\n"
     ]
    }
   ],
   "source": [
    "print(  glob.glob(\"C:\\\\P*\") )\n",
    "print('---')\n",
    "print(  glob.glob(\"C:\\\\P*\\\\M*\") )\n"
   ]
  },
  {
   "cell_type": "code",
   "execution_count": 76,
   "id": "681202da-c89f-4456-9c76-d28e8c9b45b0",
   "metadata": {
    "tags": []
   },
   "outputs": [
    {
     "name": "stdout",
     "output_type": "stream",
     "text": [
      "C:\\AI\\PythonProjects\\venv\\python_jisu\\정리01_변수,DataFrame.ipynb\n",
      "C:\\AI\\PythonProjects\\venv\\python_jisu\\정리02_DataFrame.ipynb\n",
      "C:\\AI\\PythonProjects\\venv\\python_jisu\\정리03_if,for,while.ipynb\n",
      "C:\\AI\\PythonProjects\\venv\\python_jisu\\정리04_파일_입출력,디렉토리.ipynb\n",
      "['정리01_변수,DataFrame.ipynb', '정리02_DataFrame.ipynb', '정리03_if,for,while.ipynb', '정리04_파일_입출력,디렉토리.ipynb']\n"
     ]
    }
   ],
   "source": [
    "mlist = []\n",
    "glist = glob.glob(join(os.getcwd(),'정리*.ipynb'))\n",
    "for name_str in glist:\n",
    "    mlist.append(name_str.split('\\\\')[-1])  #파일명만 잘라서 mlist에 담음\n",
    "    print(name_str)\n",
    "print(mlist)"
   ]
  }
 ],
 "metadata": {
  "kernelspec": {
   "display_name": "Python 3 (ipykernel)",
   "language": "python",
   "name": "python3"
  },
  "language_info": {
   "codemirror_mode": {
    "name": "ipython",
    "version": 3
   },
   "file_extension": ".py",
   "mimetype": "text/x-python",
   "name": "python",
   "nbconvert_exporter": "python",
   "pygments_lexer": "ipython3",
   "version": "3.8.8"
  }
 },
 "nbformat": 4,
 "nbformat_minor": 5
}
