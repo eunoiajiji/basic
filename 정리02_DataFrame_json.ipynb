{
 "cells": [
  {
   "cell_type": "markdown",
   "id": "eaf4134d-69b9-4ac8-b6f6-886e04173c11",
   "metadata": {
    "tags": []
   },
   "source": [
    "# python json\n",
    "<pre>\n",
    "* load() <b>loads()</b> : 글자-->dic\n",
    "* dump() <b>dumps()</b> : dic -->글자"
   ]
  },
  {
   "cell_type": "code",
   "execution_count": 3,
   "id": "8eacdf6e-b2de-485d-9917-adbc06d3caf6",
   "metadata": {
    "tags": []
   },
   "outputs": [
    {
     "data": {
      "text/html": [
       "<style>.container{width:100% !important;}</style>"
      ],
      "text/plain": [
       "<IPython.core.display.HTML object>"
      ]
     },
     "metadata": {},
     "output_type": "display_data"
    }
   ],
   "source": [
    "import numpy as np\n",
    "import pandas as pd\n",
    "import json\n",
    "\n",
    "\n",
    "#-------------------- 주피터 , 출력결과 넓이 늘리기 ---------------\n",
    "# from IPython.core.display import display, HTML\n",
    "from IPython.display import display, HTML\n",
    "\n",
    "display(HTML(\"<style>.container{width:100% !important;}</style>\"))\n",
    "pd.set_option('display.max_rows', 100)\n",
    "pd.set_option('display.max_columns', 100)\n",
    "pd.set_option('max_colwidth', None)\n",
    "\n",
    "import warnings\n",
    "warnings.filterwarnings(action='ignore')"
   ]
  },
  {
   "cell_type": "markdown",
   "id": "8b8febee-b47e-403e-b111-f6d095ff1156",
   "metadata": {
    "tags": []
   },
   "source": [
    "<font color=red size=3><b> json.loads() 사용시 :  반드시 더블쿼트 dic 데이터 사용"
   ]
  },
  {
   "cell_type": "code",
   "execution_count": 5,
   "id": "33660d1d-0a9b-498b-9376-71d8e07d3da5",
   "metadata": {
    "tags": []
   },
   "outputs": [
    {
     "name": "stdout",
     "output_type": "stream",
     "text": [
      "[  {\"userid\":\"kim\", \"userpw\":1111}, \n",
      "                {\"userid\":\"lee\", \"userpw\":2222}\n",
      "             ] <class 'str'>\n",
      "[{'userid': 'kim', 'userpw': 1111}, {'userid': 'lee', 'userpw': 2222}] <class 'list'>\n",
      "비번: 2222\n"
     ]
    }
   ],
   "source": [
    "dic_str = \"\"\"[  {\"userid\":\"kim\", \"userpw\":1111}, \n",
    "                {\"userid\":\"lee\", \"userpw\":2222}\n",
    "             ]\"\"\"\n",
    "print(dic_str , type(dic_str))\n",
    "\n",
    "list_dic = json.loads(dic_str)\n",
    "print(list_dic, type(list_dic))\n",
    "print(\"비번:\", list_dic[1][\"userpw\"])"
   ]
  },
  {
   "cell_type": "code",
   "execution_count": 3,
   "id": "79378f0b-9469-4638-bac1-6f036104657c",
   "metadata": {
    "tags": []
   },
   "outputs": [
    {
     "name": "stdout",
     "output_type": "stream",
     "text": [
      "[{'userid': 'kim', 'userpw': 1111}, {'userid': 'lee', 'userpw': 2222}] <class 'list'>\n",
      "[{\"userid\": \"kim\", \"userpw\": 1111}, {\"userid\": \"lee\", \"userpw\": 2222}] <class 'str'>\n"
     ]
    }
   ],
   "source": [
    "list_dic = [{'userid': 'kim', 'userpw': 1111}, \n",
    "            {'userid': 'lee', 'userpw': 2222}\n",
    "           ]\n",
    "print(list_dic, type(list_dic))\n",
    "\n",
    "list_dic_string = json.dumps(list_dic)\n",
    "print(list_dic_string, type(list_dic_string))"
   ]
  },
  {
   "cell_type": "markdown",
   "id": "86fba7eb-a08e-4f31-976c-ea4dd839efff",
   "metadata": {},
   "source": [
    "# DataFrame : list + dict(JSON)\n",
    "* dict에 사용된 키 값이 dataframe의 컬럼명이 된다"
   ]
  },
  {
   "cell_type": "code",
   "execution_count": 4,
   "id": "11065210-754c-473d-b507-d742bc1d1c5a",
   "metadata": {
    "tags": []
   },
   "outputs": [
    {
     "data": {
      "text/html": [
       "<div>\n",
       "<style scoped>\n",
       "    .dataframe tbody tr th:only-of-type {\n",
       "        vertical-align: middle;\n",
       "    }\n",
       "\n",
       "    .dataframe tbody tr th {\n",
       "        vertical-align: top;\n",
       "    }\n",
       "\n",
       "    .dataframe thead th {\n",
       "        text-align: right;\n",
       "    }\n",
       "</style>\n",
       "<table border=\"1\" class=\"dataframe\">\n",
       "  <thead>\n",
       "    <tr style=\"text-align: right;\">\n",
       "      <th></th>\n",
       "      <th>uid</th>\n",
       "      <th>upw</th>\n",
       "    </tr>\n",
       "  </thead>\n",
       "  <tbody>\n",
       "    <tr>\n",
       "      <th>idx77</th>\n",
       "      <td>kim</td>\n",
       "      <td>111</td>\n",
       "    </tr>\n",
       "    <tr>\n",
       "      <th>idx88</th>\n",
       "      <td>hong</td>\n",
       "      <td>222</td>\n",
       "    </tr>\n",
       "  </tbody>\n",
       "</table>\n",
       "</div>"
      ],
      "text/plain": [
       "        uid  upw\n",
       "idx77   kim  111\n",
       "idx88  hong  222"
      ]
     },
     "execution_count": 4,
     "metadata": {},
     "output_type": "execute_result"
    }
   ],
   "source": [
    "listdic = [ {\"uid\":\"kim\" , \"upw\": 111} ,\n",
    "            {\"uid\":\"hong\", \"upw\": 222}   \n",
    "          ]\n",
    "df = pd.DataFrame(listdic, index=[\"idx77\",\"idx88\"])\n",
    "df\n",
    "\n",
    "df = pd.DataFrame(listdic)\n",
    "df.index =[\"idx77\",\"idx88\"]\n",
    "df"
   ]
  },
  {
   "cell_type": "markdown",
   "id": "68f147b4-5fe0-487c-a596-de3e9e460ad0",
   "metadata": {},
   "source": [
    "# Converter(변환)"
   ]
  },
  {
   "cell_type": "markdown",
   "id": "9ed4be71-6d1e-4347-a158-bdf06ded577f",
   "metadata": {},
   "source": [
    "## DataFrame --> JSON\n",
    "* <font color=red><b>df.to_json()</b></font> : DataFrame --> JSON 문법을 갖는 글자 "
   ]
  },
  {
   "cell_type": "code",
   "execution_count": 5,
   "id": "c92134d5-e77a-4d25-8a3d-d44b4614b213",
   "metadata": {
    "tags": []
   },
   "outputs": [
    {
     "name": "stdout",
     "output_type": "stream",
     "text": [
      "<class 'str'> {\"uid\":{\"idx77\":\"kim\",\"idx88\":\"hong\"},\"upw\":{\"idx77\":111,\"idx88\":222}}\n",
      "<class 'dict'> {'uid': {'idx77': 'kim', 'idx88': 'hong'}, 'upw': {'idx77': 111, 'idx88': 222}}\n"
     ]
    }
   ],
   "source": [
    "df_json_str =  df.to_json()\n",
    "print( type(df_json_str), df_json_str )\n",
    "\n",
    "df_json_str_dic = json.loads(  df_json_str  )\n",
    "print( type(df_json_str_dic), df_json_str_dic )\n"
   ]
  },
  {
   "cell_type": "markdown",
   "id": "a255906b-520e-44ab-a896-91e539c1fdb1",
   "metadata": {},
   "source": [
    "## <font color=red><b>df.to_json(orient=\"___\")</b></font>\n",
    "    * orient='records'    //인덱스 무시\n",
    "    * orient='columns'    //인덱스 가져감  default값\n",
    "    * orient='index'      //인덱스 가져감"
   ]
  },
  {
   "cell_type": "markdown",
   "id": "beb78bfd-a226-4dc2-a19b-085eac2b0988",
   "metadata": {},
   "source": [
    "### orient='records' "
   ]
  },
  {
   "cell_type": "code",
   "execution_count": 6,
   "id": "032a1a8b-1ec0-487e-b824-e71de860bf63",
   "metadata": {
    "tags": []
   },
   "outputs": [
    {
     "data": {
      "text/plain": [
       "'[{\"uid\":\"kim\",\"upw\":111},{\"uid\":\"hong\",\"upw\":222}]'"
      ]
     },
     "execution_count": 6,
     "metadata": {},
     "output_type": "execute_result"
    }
   ],
   "source": [
    "df.to_json(orient=\"records\")"
   ]
  },
  {
   "cell_type": "code",
   "execution_count": 7,
   "id": "ea4daec7-638f-43e0-a50f-4a30edbb5dc3",
   "metadata": {
    "tags": []
   },
   "outputs": [
    {
     "data": {
      "text/html": [
       "<div>\n",
       "<style scoped>\n",
       "    .dataframe tbody tr th:only-of-type {\n",
       "        vertical-align: middle;\n",
       "    }\n",
       "\n",
       "    .dataframe tbody tr th {\n",
       "        vertical-align: top;\n",
       "    }\n",
       "\n",
       "    .dataframe thead th {\n",
       "        text-align: right;\n",
       "    }\n",
       "</style>\n",
       "<table border=\"1\" class=\"dataframe\">\n",
       "  <thead>\n",
       "    <tr style=\"text-align: right;\">\n",
       "      <th></th>\n",
       "      <th>uid</th>\n",
       "      <th>upw</th>\n",
       "    </tr>\n",
       "  </thead>\n",
       "  <tbody>\n",
       "    <tr>\n",
       "      <th>0</th>\n",
       "      <td>kim</td>\n",
       "      <td>111</td>\n",
       "    </tr>\n",
       "    <tr>\n",
       "      <th>1</th>\n",
       "      <td>hong</td>\n",
       "      <td>222</td>\n",
       "    </tr>\n",
       "  </tbody>\n",
       "</table>\n",
       "</div>"
      ],
      "text/plain": [
       "    uid  upw\n",
       "0   kim  111\n",
       "1  hong  222"
      ]
     },
     "execution_count": 7,
     "metadata": {},
     "output_type": "execute_result"
    }
   ],
   "source": [
    "pd.DataFrame( [{\"uid\":\"kim\",\"upw\":111},{\"uid\":\"hong\",\"upw\":222}] )"
   ]
  },
  {
   "cell_type": "markdown",
   "id": "8ca4c6ee-0450-4263-9152-eb6a595319f6",
   "metadata": {
    "tags": []
   },
   "source": [
    "### orient='columns'  "
   ]
  },
  {
   "cell_type": "code",
   "execution_count": 8,
   "id": "fe564749-48b8-4a08-ad3c-e65209a09a70",
   "metadata": {
    "tags": []
   },
   "outputs": [
    {
     "data": {
      "text/plain": [
       "'{\"uid\":{\"idx77\":\"kim\",\"idx88\":\"hong\"},\"upw\":{\"idx77\":111,\"idx88\":222}}'"
      ]
     },
     "execution_count": 8,
     "metadata": {},
     "output_type": "execute_result"
    }
   ],
   "source": [
    "df.to_json(orient=\"columns\")"
   ]
  },
  {
   "cell_type": "code",
   "execution_count": 9,
   "id": "b0917de2-5fb2-437a-bf1a-69e710a20b20",
   "metadata": {
    "tags": []
   },
   "outputs": [
    {
     "data": {
      "text/html": [
       "<div>\n",
       "<style scoped>\n",
       "    .dataframe tbody tr th:only-of-type {\n",
       "        vertical-align: middle;\n",
       "    }\n",
       "\n",
       "    .dataframe tbody tr th {\n",
       "        vertical-align: top;\n",
       "    }\n",
       "\n",
       "    .dataframe thead th {\n",
       "        text-align: right;\n",
       "    }\n",
       "</style>\n",
       "<table border=\"1\" class=\"dataframe\">\n",
       "  <thead>\n",
       "    <tr style=\"text-align: right;\">\n",
       "      <th></th>\n",
       "      <th>uid</th>\n",
       "      <th>upw</th>\n",
       "    </tr>\n",
       "  </thead>\n",
       "  <tbody>\n",
       "    <tr>\n",
       "      <th>idx77</th>\n",
       "      <td>kim</td>\n",
       "      <td>111</td>\n",
       "    </tr>\n",
       "    <tr>\n",
       "      <th>idx88</th>\n",
       "      <td>hong</td>\n",
       "      <td>222</td>\n",
       "    </tr>\n",
       "  </tbody>\n",
       "</table>\n",
       "</div>"
      ],
      "text/plain": [
       "        uid  upw\n",
       "idx77   kim  111\n",
       "idx88  hong  222"
      ]
     },
     "execution_count": 9,
     "metadata": {},
     "output_type": "execute_result"
    }
   ],
   "source": [
    "pd.DataFrame({\"uid\":{\"idx77\":\"kim\",\"idx88\":\"hong\"},\"upw\":{\"idx77\":111,\"idx88\":222}})"
   ]
  },
  {
   "cell_type": "markdown",
   "id": "3cb658b4-6dbb-4b9f-afdb-6bbca8adfe99",
   "metadata": {},
   "source": [
    "### orient='index'  "
   ]
  },
  {
   "cell_type": "code",
   "execution_count": 10,
   "id": "f51c5d41-15a3-46cc-9878-20857e41ffd9",
   "metadata": {
    "tags": []
   },
   "outputs": [
    {
     "data": {
      "text/plain": [
       "'{\"idx77\":{\"uid\":\"kim\",\"upw\":111},\"idx88\":{\"uid\":\"hong\",\"upw\":222}}'"
      ]
     },
     "execution_count": 10,
     "metadata": {},
     "output_type": "execute_result"
    }
   ],
   "source": [
    "df.to_json(orient=\"index\")"
   ]
  },
  {
   "cell_type": "code",
   "execution_count": 11,
   "id": "b6d99e9d-7844-43c4-afe6-3eb837ca9fff",
   "metadata": {
    "tags": []
   },
   "outputs": [
    {
     "data": {
      "text/html": [
       "<div>\n",
       "<style scoped>\n",
       "    .dataframe tbody tr th:only-of-type {\n",
       "        vertical-align: middle;\n",
       "    }\n",
       "\n",
       "    .dataframe tbody tr th {\n",
       "        vertical-align: top;\n",
       "    }\n",
       "\n",
       "    .dataframe thead th {\n",
       "        text-align: right;\n",
       "    }\n",
       "</style>\n",
       "<table border=\"1\" class=\"dataframe\">\n",
       "  <thead>\n",
       "    <tr style=\"text-align: right;\">\n",
       "      <th></th>\n",
       "      <th>idx77</th>\n",
       "      <th>idx88</th>\n",
       "    </tr>\n",
       "  </thead>\n",
       "  <tbody>\n",
       "    <tr>\n",
       "      <th>uid</th>\n",
       "      <td>kim</td>\n",
       "      <td>hong</td>\n",
       "    </tr>\n",
       "    <tr>\n",
       "      <th>upw</th>\n",
       "      <td>111</td>\n",
       "      <td>222</td>\n",
       "    </tr>\n",
       "  </tbody>\n",
       "</table>\n",
       "</div>"
      ],
      "text/plain": [
       "    idx77 idx88\n",
       "uid   kim  hong\n",
       "upw   111   222"
      ]
     },
     "execution_count": 11,
     "metadata": {},
     "output_type": "execute_result"
    }
   ],
   "source": [
    "pd.DataFrame( {\"idx77\":{\"uid\":\"kim\",\"upw\":111},\"idx88\":{\"uid\":\"hong\",\"upw\":222}} )"
   ]
  },
  {
   "cell_type": "markdown",
   "id": "a7e05a1f-eda3-459c-a281-ec42a048964a",
   "metadata": {},
   "source": [
    "### 파일 쓰기 \n",
    "* 파일 쓰기 기능도 가지고 있다."
   ]
  },
  {
   "cell_type": "code",
   "execution_count": null,
   "id": "25723826-237d-4b18-b0f8-bc4bdb2aaba1",
   "metadata": {},
   "outputs": [],
   "source": [
    "df.to_json(\"./dataframe_json.json\", orient=\"records\")\n",
    "\n",
    "#--------------------------------------------------------\n",
    "# to_json(파일명) 사용 시 자동으로 파일에 기록\n",
    "#--------------------------------------------------------"
   ]
  },
  {
   "cell_type": "markdown",
   "id": "76ac0f9e-dbe1-4614-8698-65b5a73b51be",
   "metadata": {},
   "source": [
    "## JSON --> DataFrame"
   ]
  },
  {
   "cell_type": "code",
   "execution_count": 12,
   "id": "53c14f52-bc18-4e22-8488-fd7e68058143",
   "metadata": {
    "tags": []
   },
   "outputs": [
    {
     "data": {
      "text/html": [
       "<div>\n",
       "<style scoped>\n",
       "    .dataframe tbody tr th:only-of-type {\n",
       "        vertical-align: middle;\n",
       "    }\n",
       "\n",
       "    .dataframe tbody tr th {\n",
       "        vertical-align: top;\n",
       "    }\n",
       "\n",
       "    .dataframe thead th {\n",
       "        text-align: right;\n",
       "    }\n",
       "</style>\n",
       "<table border=\"1\" class=\"dataframe\">\n",
       "  <thead>\n",
       "    <tr style=\"text-align: right;\">\n",
       "      <th></th>\n",
       "      <th>uid</th>\n",
       "      <th>upw</th>\n",
       "    </tr>\n",
       "  </thead>\n",
       "  <tbody>\n",
       "    <tr>\n",
       "      <th>0</th>\n",
       "      <td>kim</td>\n",
       "      <td>111</td>\n",
       "    </tr>\n",
       "    <tr>\n",
       "      <th>1</th>\n",
       "      <td>hong</td>\n",
       "      <td>222</td>\n",
       "    </tr>\n",
       "  </tbody>\n",
       "</table>\n",
       "</div>"
      ],
      "text/plain": [
       "    uid  upw\n",
       "0   kim  111\n",
       "1  hong  222"
      ]
     },
     "execution_count": 12,
     "metadata": {},
     "output_type": "execute_result"
    }
   ],
   "source": [
    "dic = [{\"uid\":\"kim\",\"upw\":111},{\"uid\":\"hong\",\"upw\":222}]\n",
    "pd.DataFrame(dic)"
   ]
  },
  {
   "cell_type": "markdown",
   "id": "e8d25b94-41d7-4ec6-a881-ea2eaf2e8e43",
   "metadata": {},
   "source": [
    "## JSON 파일에 쓰기"
   ]
  },
  {
   "cell_type": "markdown",
   "id": "416f55c3-31cd-49cb-8f0c-629ce79c8b57",
   "metadata": {
    "tags": []
   },
   "source": [
    "* JSON 데이터를 파일에 쓰기"
   ]
  },
  {
   "cell_type": "code",
   "execution_count": 13,
   "id": "1c406a0a-f5ca-4b20-b507-842d28efc1d2",
   "metadata": {
    "tags": []
   },
   "outputs": [],
   "source": [
    "df.to_json(\"./dataframe_json2.json\", orient=\"records\")\n",
    "\n",
    "#--------------------------------------------------------\n",
    "# to_json(파일명) 사용 시 자동으로 파일에 기록\n",
    "#--------------------------------------------------------\n",
    "# data = df.to_json(orient=\"records\")\n",
    "# with open(\"./lec15_data.json\", \"w\") as f:\n",
    "#     f.write(data)   "
   ]
  },
  {
   "cell_type": "markdown",
   "id": "d70dda63-5541-433b-9f65-5f6050671a8c",
   "metadata": {},
   "source": [
    "* JSON 데이터 파일을 읽어오기\n",
    "* <font color=red size=4><b>pd.read_XXX(\"파일명\"): 읽기</b></font>\n",
    "* <font color=red size=4><b>df.to_XXXX(\"파일명\") : 쓰기</b></font>\n",
    "    * df = pd.read_csv(\"aa.csv\")\n",
    "    * df = pd.read_sql(\"select * from emp\", conn)\n",
    "    * df = pd.read_json(\"aa.json\")\n",
    "    * df = gpd.read_file(\"geojson.json\")"
   ]
  },
  {
   "cell_type": "code",
   "execution_count": 14,
   "id": "0c6a6096-43af-42de-ae76-90d231c0e377",
   "metadata": {
    "tags": []
   },
   "outputs": [
    {
     "data": {
      "text/html": [
       "<div>\n",
       "<style scoped>\n",
       "    .dataframe tbody tr th:only-of-type {\n",
       "        vertical-align: middle;\n",
       "    }\n",
       "\n",
       "    .dataframe tbody tr th {\n",
       "        vertical-align: top;\n",
       "    }\n",
       "\n",
       "    .dataframe thead th {\n",
       "        text-align: right;\n",
       "    }\n",
       "</style>\n",
       "<table border=\"1\" class=\"dataframe\">\n",
       "  <thead>\n",
       "    <tr style=\"text-align: right;\">\n",
       "      <th></th>\n",
       "      <th>uid</th>\n",
       "      <th>upw</th>\n",
       "    </tr>\n",
       "  </thead>\n",
       "  <tbody>\n",
       "    <tr>\n",
       "      <th>0</th>\n",
       "      <td>kim</td>\n",
       "      <td>111</td>\n",
       "    </tr>\n",
       "    <tr>\n",
       "      <th>1</th>\n",
       "      <td>hong</td>\n",
       "      <td>222</td>\n",
       "    </tr>\n",
       "  </tbody>\n",
       "</table>\n",
       "</div>"
      ],
      "text/plain": [
       "    uid  upw\n",
       "0   kim  111\n",
       "1  hong  222"
      ]
     },
     "execution_count": 14,
     "metadata": {},
     "output_type": "execute_result"
    }
   ],
   "source": [
    "pd.read_json(\"./dataframe_json2.json\")"
   ]
  }
 ],
 "metadata": {
  "kernelspec": {
   "display_name": "Python 3 (ipykernel)",
   "language": "python",
   "name": "python3"
  },
  "language_info": {
   "codemirror_mode": {
    "name": "ipython",
    "version": 3
   },
   "file_extension": ".py",
   "mimetype": "text/x-python",
   "name": "python",
   "nbconvert_exporter": "python",
   "pygments_lexer": "ipython3",
   "version": "3.8.8"
  }
 },
 "nbformat": 4,
 "nbformat_minor": 5
}
