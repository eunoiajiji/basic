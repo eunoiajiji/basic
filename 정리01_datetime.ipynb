{
 "cells": [
  {
   "cell_type": "markdown",
   "id": "c26f35c9-0973-46cf-86ed-aeafe7cba918",
   "metadata": {
    "id": "4d1daf0e-3255-4d5d-a032-5362c3b36c43"
   },
   "source": [
    "<font size=6><b>날짜"
   ]
  },
  {
   "cell_type": "markdown",
   "id": "a32d3e05-249c-464b-ad6c-12859d75fc1f",
   "metadata": {
    "id": "8433e79a-50fb-4f74-b263-a61175812f20"
   },
   "source": [
    "#  datetime.py 모듈"
   ]
  },
  {
   "cell_type": "markdown",
   "id": "6790becf-0a0c-481f-b5a3-ac156af9ce53",
   "metadata": {
    "id": "64e88ae1-601c-47c2-b17c-fb5f79df87c5",
    "tags": []
   },
   "source": [
    "<font color=red><b>from datetime.py import 클래스</b></font>\n",
    "* datetime.py에는 총 6개의 클래스가 존재\n",
    "<pre>\n",
    "    * <b>class date: 년월일</b>\n",
    "    * <b>class datetime(date): 년월일 시분초</b>\n",
    "    * <b>class time: 시분초</b>\n",
    "    * <b>class timedelta: 날짜 사이의 간격</b>\n",
    "    \n",
    "    * class tzinfo:\n",
    "    * class timezone(tzinfo):"
   ]
  },
  {
   "cell_type": "code",
   "execution_count": null,
   "id": "08035c73-a115-456b-b35b-87d632ef1568",
   "metadata": {
    "id": "cd894ba1-1d38-4e03-8fb4-423dd8cad904",
    "tags": []
   },
   "outputs": [],
   "source": [
    "# from datetime import datetime as dt  #--- 클래스는 일반적으로 예명을 사용하지 않는다\n",
    "# from datetime import date     as d   #--- 클래스는 일반적으로 예명을 사용하지 않는다\n",
    "from datetime import date   #--- 클래스 3개 "
   ]
  },
  {
   "cell_type": "markdown",
   "id": "5cd41ca8-07ba-4508-9a38-ec57a4b09b13",
   "metadata": {
    "id": "e9565815-f7b7-4446-856e-1f20e1343ffa"
   },
   "source": [
    "# (class) date"
   ]
  },
  {
   "cell_type": "markdown",
   "id": "c9f64e5c-2989-4bb0-8480-b2bffc5aa0f4",
   "metadata": {
    "id": "8b90779c-9cb7-4a33-bd60-3505cca1419c"
   },
   "source": [
    "<pre>\n",
    "-----------------------------------------------------------------------------------------\n",
    "    <b>DATE                          TIME                      DATETIME</b>\n",
    "-----------------------------------------------------------------------------------------\n",
    "date.today()                                                datetime.now()\n",
    "                                                            datetime.today()\n",
    "-----------------------------------------------------------------------------------------\n",
    "date.fromtimestamp()                                        datetime.fromtimestamp()\n",
    "-----------------------------------------------------------------------------------------\n",
    "<font color = red><b>date.strftime()                    time.strftime()          datetime.strftime()  ->글자\n",
    "-----------------------------------------------------------------------------------------\n",
    "                                                            datetime.strptime()</font></b>  ->날짜\n",
    "-----------------------------------------------------------------------------------------\n",
    "date.weekday()                                              datetime.weekday()\n",
    "-----------------------------------------------------------------------------------------\n",
    "<font color = red><b>date.fromisoformat()                time.fromisoformat()    datetime.fromisoformat() ->날짜\n",
    "-----------------------------------------------------------------------------------------\n",
    "date.isoformat()                    time.isoformat()        datetime.isoformat() </font></b>  -> 글자\n",
    "-----------------------------------------------------------------------------------------\n",
    "                                                            datetime.date()  datetime.time()\n",
    "                                                            datetime.timestamp()\n",
    "-----------------------------------------------------------------------------------------       \n",
    "date.year,date.month, date.day      XXXXXXXXXXXXXXX         datetime.year, datetime.month, datetime.day, \n",
    "-----------------------------------------------------------------------------------------\n",
    "                                    time.hour,              datetime.hour \n",
    "                                    time.minute,            datetime.minute \n",
    "                                    time.second,            datetime.second\n",
    "                                    time.microsecond  \n",
    "-----------------------------------------------------------------------------------------\n"
   ]
  },
  {
   "cell_type": "markdown",
   "id": "f057c87b-e8ef-4538-9497-8b98a462cc73",
   "metadata": {
    "id": "6ac0dd81-fd18-4f1d-89c2-7fad4e40807b"
   },
   "source": [
    "<table width=200 style=\"border-collapse: collapse; height: 452px;\" border=\"1\" data-ke-align=\"alignLeft\" data-ke-style=\"style3\">\n",
    "<tbody>\n",
    "<tr style=\"height: 20px;\">\n",
    "<td style=\"width: 197.75px; text-align: center; height: 20px;\"><span style=\"color: #000000;\"><b>그룹</b></span></td>\n",
    "<td style=\"width: 197.75px; text-align: center; height: 20px;\"><span style=\"color: #000000;\"><b>코드</b></span></td>\n",
    "<td style=\"width: 412.5px; text-align: center; height: 20px;\"><span style=\"color: #000000;\"><b>의미</b></span></td>\n",
    "</tr>\n",
    "<tr style=\"height: 18px;\">\n",
    "<td style=\"width: 197.75px; text-align: center; height: 36px;\" rowspan=\"2\"><span style=\"color: #000000;\">년</span></td>\n",
    "<td style=\"width: 197.75px; text-align: center; height: 18px;\"><span style=\"color: #000000;\">%Y</span></td>\n",
    "<td style=\"width: 412.5px; text-align: center; height: 18px;\"><span style=\"color: #000000;\">연도 (전체)</span></td>\n",
    "</tr>\n",
    "<tr style=\"height: 18px;\">\n",
    "<td style=\"width: 197.75px; text-align: center; height: 18px;\"><span style=\"color: #000000;\">%y</span></td>\n",
    "<td style=\"width: 412.5px; text-align: center; height: 18px;\"><span style=\"color: #000000;\">연도 (뒤에 2자리만)</span></td>\n",
    "</tr>\n",
    "<tr style=\"height: 20px;\">\n",
    "<td style=\"width: 197.75px; text-align: center; height: 56px;\" rowspan=\"3\"><span style=\"color: #000000;\">월</span></td>\n",
    "<td style=\"width: 197.75px; text-align: center; height: 20px;\"><span style=\"color: #000000;\">%m</span></td>\n",
    "<td style=\"width: 412.5px; text-align: center; height: 20px;\"><span style=\"color: #000000;\">월</span></td>\n",
    "</tr>\n",
    "<tr style=\"height: 18px;\">\n",
    "<td style=\"width: 197.75px; text-align: center; height: 18px;\"><span style=\"color: #000000;\">%B</span></td>\n",
    "<td style=\"width: 412.5px; text-align: center; height: 18px;\"><span style=\"color: #000000;\">Locale 월 표현 (전체)</span></td>\n",
    "</tr>\n",
    "<tr style=\"height: 18px;\">\n",
    "<td style=\"width: 197.75px; text-align: center; height: 18px;\"><span style=\"color: #000000;\">%b</span></td>\n",
    "<td style=\"width: 412.5px; text-align: center; height: 18px;\"><span style=\"color: #000000;\">Locale 월 표현 (축약형)</span></td>\n",
    "</tr>\n",
    "<tr style=\"height: 20px;\">\n",
    "<td style=\"width: 197.75px; text-align: center; height: 40px;\" rowspan=\"2\"><span style=\"color: #000000;\">일</span></td>\n",
    "<td style=\"width: 197.75px; text-align: center; height: 20px;\"><span style=\"color: #000000;\">%d</span></td>\n",
    "<td style=\"width: 412.5px; text-align: center; height: 20px;\"><span style=\"color: #000000;\">일</span></td>\n",
    "</tr>\n",
    "<tr style=\"height: 20px;\">\n",
    "<td style=\"width: 197.75px; text-align: center; height: 20px;\"><span style=\"color: #000000;\">%j</span></td>\n",
    "<td style=\"width: 412.5px; text-align: center; height: 20px;\"><span style=\"color: #000000;\">연중 일</span></td>\n",
    "</tr>\n",
    "<tr style=\"height: 20px;\">\n",
    "<td style=\"width: 197.75px; text-align: center; height: 60px;\" rowspan=\"3\"><span style=\"color: #000000;\">시</span></td>\n",
    "<td style=\"width: 197.75px; text-align: center; height: 20px;\"><span style=\"color: #000000;\">%H</span></td>\n",
    "<td style=\"width: 412.5px; text-align: center; height: 20px;\"><span style=\"color: #000000;\">시 (24시간제)</span></td>\n",
    "</tr>\n",
    "<tr style=\"height: 20px;\">\n",
    "<td style=\"width: 197.75px; text-align: center; height: 20px;\"><span style=\"color: #000000;\">%I</span></td>\n",
    "<td style=\"width: 412.5px; text-align: center; height: 20px;\"><span style=\"color: #000000;\">시 (12시간제)</span></td>\n",
    "</tr>\n",
    "<tr style=\"height: 20px;\">\n",
    "<td style=\"width: 197.75px; text-align: center; height: 20px;\"><span style=\"color: #000000;\">%p</span></td>\n",
    "<td style=\"width: 412.5px; text-align: center; height: 20px;\"><span style=\"color: #000000;\">Locale 오전, 오후</span></td>\n",
    "</tr>\n",
    "<tr style=\"height: 20px;\">\n",
    "<td style=\"width: 197.75px; text-align: center; height: 20px;\"><span style=\"color: #000000;\">분</span></td>\n",
    "<td style=\"width: 197.75px; text-align: center; height: 20px;\"><span style=\"color: #000000;\">%M</span></td>\n",
    "<td style=\"width: 412.5px; text-align: center; height: 20px;\"><span style=\"color: #000000;\">분</span></td>\n",
    "</tr>\n",
    "<tr style=\"height: 20px;\">\n",
    "<td style=\"width: 197.75px; text-align: center; height: 20px;\"><span style=\"color: #000000;\">초</span></td>\n",
    "<td style=\"width: 197.75px; text-align: center; height: 20px;\"><span style=\"color: #000000;\">%S</span></td>\n",
    "<td style=\"width: 412.5px; text-align: center; height: 20px;\"><span style=\"color: #000000;\">초</span></td>\n",
    "</tr>\n",
    "<tr style=\"height: 20px;\">\n",
    "<td style=\"width: 197.75px; text-align: center; height: 20px;\"><span style=\"color: #000000;\">마이크로초</span></td>\n",
    "<td style=\"width: 197.75px; text-align: center; height: 20px;\"><span style=\"color: #000000;\">%f</span></td>\n",
    "<td style=\"width: 412.5px; text-align: center; height: 20px;\"><span style=\"color: #000000;\">마이크로초</span></td>\n",
    "</tr>\n",
    "<tr style=\"height: 20px;\">\n",
    "<td style=\"width: 197.75px; text-align: center; height: 60px;\" rowspan=\"3\"><span style=\"color: #000000;\">요일</span></td>\n",
    "<td style=\"width: 197.75px; text-align: center; height: 20px;\"><span style=\"color: #000000;\">%w</span></td>\n",
    "<td style=\"width: 412.5px; text-align: center; height: 20px;\"><span style=\"color: #000000;\">요일 (0 : 일요일, 6일 : 토요일)</span></td>\n",
    "</tr>\n",
    "<tr style=\"height: 20px;\">\n",
    "<td style=\"width: 197.75px; text-align: center; height: 20px;\"><span style=\"color: #000000;\">%A</span></td>\n",
    "<td style=\"width: 412.5px; text-align: center; height: 20px;\"><span style=\"color: #000000;\">Locale 요일 (전체)</span></td>\n",
    "</tr>\n",
    "<tr style=\"height: 20px;\">\n",
    "<td style=\"width: 197.75px; text-align: center; height: 20px;\"><span style=\"color: #000000;\">%a</span></td>\n",
    "<td style=\"width: 412.5px; text-align: center; height: 20px;\"><span style=\"color: #000000;\">Locale 요일 (축약형)</span></td>\n",
    "</tr>\n",
    "<tr style=\"height: 20px;\">\n",
    "<td style=\"width: 197.75px; text-align: center; height: 40px;\" rowspan=\"2\"><span style=\"color: #000000;\">주</span></td>\n",
    "<td style=\"width: 197.75px; text-align: center; height: 20px;\"><span style=\"color: #000000;\">%W</span></td>\n",
    "<td style=\"width: 412.5px; text-align: center; height: 20px;\"><span style=\"color: #000000;\">연중 몇 번째 주인지 표현 (월요일 시작 기준)</span></td>\n",
    "</tr>\n",
    "<tr style=\"height: 20px;\">\n",
    "<td style=\"width: 197.75px; text-align: center; height: 20px;\"><span style=\"color: #000000;\">%U</span></td>\n",
    "<td style=\"width: 412.5px; text-align: center; height: 20px;\"><span style=\"color: #000000;\">연중 몇 번째 주인지 표현 (일요일 시작 기준)</span></td>\n",
    "</tr>\n",
    "<tr style=\"height: 20px;\">\n",
    "<td style=\"width: 197.75px; text-align: center; height: 60px;\" rowspan=\"3\"><span style=\"color: #000000;\">날짜 표현</span></td>\n",
    "<td style=\"width: 197.75px; text-align: center; height: 20px;\"><span style=\"color: #000000;\">%c</span></td>\n",
    "<td style=\"width: 412.5px; text-align: center; height: 20px;\"><span style=\"color: #000000;\">Locale 날짜와 시간 표현</span></td>\n",
    "</tr>\n",
    "<tr style=\"height: 20px;\">\n",
    "<td style=\"width: 197.75px; text-align: center; height: 20px;\"><span style=\"color: #000000;\">%x</span></td>\n",
    "<td style=\"width: 412.5px; text-align: center; height: 20px;\"><span style=\"color: #000000;\">Locale 날짜 표현</span></td>\n",
    "</tr>\n",
    "<tr style=\"height: 20px;\">\n",
    "<td style=\"width: 197.75px; text-align: center; height: 20px;\"><span style=\"color: #000000;\">%X</span></td>\n",
    "<td style=\"width: 412.5px; text-align: center; height: 20px;\"><span style=\"color: #000000;\">Locale 시간 표현</span></td>\n",
    "</tr>\n",
    "<tr style=\"height: 20px;\">\n",
    "<td style=\"width: 197.75px; text-align: center; height: 20px;\"><span style=\"color: #000000;\">문자 표현</span></td>\n",
    "<td style=\"width: 197.75px; text-align: center; height: 20px;\"><span style=\"color: #000000;\">%%</span></td>\n",
    "<td style=\"width: 412.5px; text-align: center; height: 20px;\"><span style=\"color: #000000;\">리터럴 '%' 문자</span></td>\n",
    "</tr>\n",
    "</tbody>\n",
    "</table>"
   ]
  },
  {
   "cell_type": "markdown",
   "id": "29a8d6b0-cb58-4e9d-85ce-c23ecdd26c84",
   "metadata": {
    "id": "5384b14e-3b7e-4667-b594-d23a71198920"
   },
   "source": [
    "## date.today()\n",
    "* 오늘 날짜 : 년월일"
   ]
  },
  {
   "cell_type": "code",
   "execution_count": null,
   "id": "09c66540-11eb-4264-ba5d-3c9984cc1e6e",
   "metadata": {
    "id": "fb9ce216-9fa7-40e1-b6fa-2d692773aeb8",
    "outputId": "eac283a1-799e-4a13-d951-a4a4a6511ed2",
    "tags": []
   },
   "outputs": [
    {
     "data": {
      "text/plain": [
       "datetime.date(2023, 2, 15)"
      ]
     },
     "execution_count": 2,
     "metadata": {},
     "output_type": "execute_result"
    }
   ],
   "source": [
    "mytoday = date.today()  #type(date.today())\n",
    "mytoday"
   ]
  },
  {
   "cell_type": "markdown",
   "id": "b4c6f477-7bd7-4f34-bd75-51858936c135",
   "metadata": {
    "id": "890cc517-c3ed-4730-91f9-548b8ec18b6b"
   },
   "source": [
    "* #(1970, 1, 1) 기준으로 몇초인지"
   ]
  },
  {
   "cell_type": "code",
   "execution_count": null,
   "id": "4e95bed3-abfe-40c1-9c91-c215d45f4694",
   "metadata": {
    "id": "2f7ce66f-7a00-4f89-a452-96de49383cae",
    "outputId": "16a10f27-d3f7-4d80-def8-2f85168fbec0",
    "tags": []
   },
   "outputs": [
    {
     "data": {
      "text/plain": [
       "datetime.date(2023, 5, 20)"
      ]
     },
     "execution_count": 3,
     "metadata": {},
     "output_type": "execute_result"
    }
   ],
   "source": [
    "date.fromtimestamp(1684581234)   "
   ]
  },
  {
   "cell_type": "markdown",
   "id": "c3cfc011-73f2-40c1-a4de-81cf9adeaa9a",
   "metadata": {
    "id": "c367f68d-f65a-42e6-a069-77ee131f60cf",
    "tags": []
   },
   "source": [
    "## date 형변환\n",
    "* date --> str  : <font color=red><b> datetime.isoformat()</b></font>   기본:'%Y-%m-%d\n",
    "* date --> str  : <font color=red><b> datetime.strftime('%Y-%m-%d %H:%M:%S')</b></font>  \n",
    "* str  --> date : <font color=red><b>.fromisoformat('2023-02-15')</b></font>    "
   ]
  },
  {
   "cell_type": "markdown",
   "id": "3ae9bc20-f743-4d6b-aece-73f77ca491ca",
   "metadata": {
    "id": "58f0cbaa-d064-4080-b06c-e290aa7fd033",
    "tags": []
   },
   "source": [
    "### isoformat()\n",
    "* <font color=red><b>★날짜 --> 글자"
   ]
  },
  {
   "cell_type": "code",
   "execution_count": null,
   "id": "5c82bb5c-8c18-49b3-b74d-1f20bcc82a0c",
   "metadata": {
    "id": "4cebf94e-97f5-424e-94a1-a5b115fb83b0",
    "outputId": "56b4a4b7-8300-4126-83db-75d537deb2a9",
    "tags": []
   },
   "outputs": [
    {
     "data": {
      "text/plain": [
       "'2023-02-15'"
      ]
     },
     "execution_count": 4,
     "metadata": {},
     "output_type": "execute_result"
    }
   ],
   "source": [
    "date.today().isoformat()    "
   ]
  },
  {
   "cell_type": "markdown",
   "id": "52cbcff3-aeb5-42a4-8b69-65f39430edea",
   "metadata": {
    "id": "2a41c66c-e4a7-42a2-a25a-b0a0c7e004aa"
   },
   "source": [
    "### strftime('%Y-%m-%d')\n",
    "* <font color=red><b>★날짜 --> 글자\n",
    "* 날짜의 포맷 변경\n",
    "* select to_char(sysdate, 'YYYY-MM-DD HH24:MI:SS') from dual"
   ]
  },
  {
   "cell_type": "code",
   "execution_count": null,
   "id": "07e5cde1-2900-42c8-b1c9-e2a788137e0d",
   "metadata": {
    "id": "62761d9b-2240-4f06-96dd-1d4b4e14de76",
    "outputId": "b3a048fa-87ce-42a5-8c17-64b8f3f2956c",
    "tags": []
   },
   "outputs": [
    {
     "data": {
      "text/plain": [
       "'2023-02-15 00:00:00'"
      ]
     },
     "execution_count": 5,
     "metadata": {},
     "output_type": "execute_result"
    }
   ],
   "source": [
    "date.today().strftime('%Y-%m-%d %H:%M:%S')  "
   ]
  },
  {
   "cell_type": "code",
   "execution_count": null,
   "id": "2ed1fdb2-cee2-49bc-93a4-0bd5de136850",
   "metadata": {
    "id": "b7b40a53-ba17-4f9c-a9f7-1a98c939a7e4",
    "outputId": "b9d0770f-1bd2-4ba6-da39-a7e95916f970",
    "tags": []
   },
   "outputs": [
    {
     "data": {
      "text/plain": [
       "str"
      ]
     },
     "execution_count": 6,
     "metadata": {},
     "output_type": "execute_result"
    }
   ],
   "source": [
    "type(date.today().strftime('%Y-%m-%d %H:%M:%S')  )"
   ]
  },
  {
   "cell_type": "markdown",
   "id": "a35d9c87-166c-4fe1-a3dd-47a367dfcf30",
   "metadata": {
    "id": "96dd1533-35b9-4166-83e3-dd6bb6a8559f"
   },
   "source": [
    "### fromisoformat(str)\n",
    "* <font color=red><b>★글자 --> 날짜"
   ]
  },
  {
   "cell_type": "code",
   "execution_count": null,
   "id": "85458de1-b28f-4556-b6d5-d3030f1d9e6a",
   "metadata": {
    "id": "7a7a0d94-7216-42c6-974f-fe34fe96167a",
    "outputId": "f97c1692-3676-433e-8a27-5c038947b217",
    "tags": []
   },
   "outputs": [
    {
     "data": {
      "text/plain": [
       "datetime.date(2023, 2, 15)"
      ]
     },
     "execution_count": 7,
     "metadata": {},
     "output_type": "execute_result"
    }
   ],
   "source": [
    "date.fromisoformat('2023-02-15')    "
   ]
  },
  {
   "cell_type": "markdown",
   "id": "e794ac3f-030e-4960-b089-e0bc4572a4ab",
   "metadata": {
    "id": "9fd4e1a7-738c-49cb-bf98-e6551756bf23"
   },
   "source": [
    "## weekday()\n",
    "* def weekday(self):\n",
    "* 정수로 요일을 반환 (월요일: 0,   일요일:6)\n",
    "* date(2022, 12, 25).weekday()"
   ]
  },
  {
   "cell_type": "code",
   "execution_count": null,
   "id": "83a82e64-524d-49ad-9bf2-c995853cac12",
   "metadata": {
    "id": "0041241b-2a7b-4ac5-ad80-6fee8b02e3b5",
    "outputId": "e427a50b-55f4-46b1-e9f6-286f7eff2d33",
    "tags": []
   },
   "outputs": [
    {
     "data": {
      "text/plain": [
       "6"
      ]
     },
     "execution_count": 8,
     "metadata": {},
     "output_type": "execute_result"
    }
   ],
   "source": [
    "date(2022, 12, 25).weekday()  #6:일요일"
   ]
  },
  {
   "cell_type": "markdown",
   "id": "6df5cc56-5512-408c-a9cc-f7951c17e6da",
   "metadata": {
    "id": "c599779b-3a21-4103-810f-8d803af19921"
   },
   "source": [
    "## 변수 : year, month, day"
   ]
  },
  {
   "cell_type": "code",
   "execution_count": null,
   "id": "8a279ff0-9e3d-4ba4-8c5a-a07d266a01a8",
   "metadata": {
    "id": "a0d92ec9-769a-4a28-a305-6d9d1fe79327",
    "outputId": "af0b9a1d-cbd0-41c2-cb06-42cefb08b1f4",
    "tags": []
   },
   "outputs": [
    {
     "data": {
      "text/plain": [
       "2"
      ]
     },
     "execution_count": 9,
     "metadata": {},
     "output_type": "execute_result"
    }
   ],
   "source": [
    "date.today().weekday()       #2:수요일"
   ]
  },
  {
   "cell_type": "code",
   "execution_count": null,
   "id": "5374b631-5c02-4789-99db-81d480172eb3",
   "metadata": {
    "id": "7f5c4e03-a514-4ee3-a390-7c5d53c1415a",
    "outputId": "e132faba-deb3-4cbc-f761-06d062ea43c1",
    "tags": []
   },
   "outputs": [
    {
     "data": {
      "text/plain": [
       "2023"
      ]
     },
     "execution_count": 10,
     "metadata": {},
     "output_type": "execute_result"
    }
   ],
   "source": [
    "date.today().year"
   ]
  },
  {
   "cell_type": "code",
   "execution_count": null,
   "id": "09a03f7e-5f55-4bef-bbd0-d6c0df0e0824",
   "metadata": {
    "id": "4ccd35c8-c271-418d-87d6-9ec1206fdfa6",
    "outputId": "5e2b261f-3561-4306-c99a-f7114db552c5",
    "tags": []
   },
   "outputs": [
    {
     "data": {
      "text/plain": [
       "2"
      ]
     },
     "execution_count": 11,
     "metadata": {},
     "output_type": "execute_result"
    }
   ],
   "source": [
    "date.today().month"
   ]
  },
  {
   "cell_type": "code",
   "execution_count": null,
   "id": "2c699731-d978-47c0-bef6-999bddae9303",
   "metadata": {
    "id": "4a270f2c-46c7-449e-91cc-b4e7c33597df",
    "outputId": "31f1940e-043d-4d9f-b1a4-d280691f03eb",
    "tags": []
   },
   "outputs": [
    {
     "data": {
      "text/plain": [
       "15"
      ]
     },
     "execution_count": 12,
     "metadata": {},
     "output_type": "execute_result"
    }
   ],
   "source": [
    "date.today().day"
   ]
  },
  {
   "cell_type": "markdown",
   "id": "63c7a2a5-d4fd-4b0a-852f-e6b1e0d363a8",
   "metadata": {
    "id": "b6b44a07-0398-433a-aec3-4f5761f32878"
   },
   "source": [
    "# (class) datetime"
   ]
  },
  {
   "cell_type": "code",
   "execution_count": null,
   "id": "5007269a-7c65-4f67-962d-88119ceb2b93",
   "metadata": {
    "id": "b07782de-f8be-4c8d-8fae-ceb7703a136b",
    "tags": []
   },
   "outputs": [],
   "source": [
    "# from datetime import datetime as dt  #--- 클래스는 일반적으로 예명을 사용하지 않는다\n",
    "# from datetime import date     as d   #--- 클래스는 일반적으로 예명을 사용하지 않는다\n",
    "from datetime import datetime    #--- 클래스 2개 "
   ]
  },
  {
   "cell_type": "markdown",
   "id": "c7c6266a-73e2-4e88-97a9-b12ca891296d",
   "metadata": {
    "id": "12483684-b73b-4ef4-8a07-8738078c11fe",
    "tags": []
   },
   "source": [
    "## datetime.today()\n",
    "* 오늘 날짜\n",
    "* <b>date.today()</b>\n",
    "* <b>datetime.today() </b>,   datetime.now()"
   ]
  },
  {
   "cell_type": "code",
   "execution_count": null,
   "id": "3cffe293-7d38-4fc5-8a0a-c70751119610",
   "metadata": {
    "id": "3c01b6d3-eb7d-4298-ac67-4ee09ff105a6",
    "outputId": "25f451a9-4b0e-4c77-b6dd-d085d53873c9",
    "tags": []
   },
   "outputs": [
    {
     "data": {
      "text/plain": [
       "datetime.datetime(2023, 2, 15, 12, 55, 13, 702789)"
      ]
     },
     "execution_count": 59,
     "metadata": {},
     "output_type": "execute_result"
    }
   ],
   "source": [
    "datetime.now()"
   ]
  },
  {
   "cell_type": "code",
   "execution_count": null,
   "id": "c59cabee-ae9f-44f2-8bd8-8a663b193b93",
   "metadata": {
    "id": "8759f805-97d0-43d7-a7da-cb51637c1647",
    "outputId": "ce86c3cc-94d7-4f77-cda7-963144f5ee4a",
    "tags": []
   },
   "outputs": [
    {
     "data": {
      "text/plain": [
       "datetime.datetime(2023, 2, 15, 12, 55, 31, 81928)"
      ]
     },
     "execution_count": 60,
     "metadata": {},
     "output_type": "execute_result"
    }
   ],
   "source": [
    "datetime.today()"
   ]
  },
  {
   "cell_type": "markdown",
   "id": "0d3b8eb9-46c7-4e16-aff5-7bd388bc27b1",
   "metadata": {
    "id": "51bafb47-ecba-43a6-bd57-78ae3d985eb7"
   },
   "source": [
    "* (1970, 1, 1) 기준으로 N초가 지난 년월일 + 시분초 날짜 반환"
   ]
  },
  {
   "cell_type": "code",
   "execution_count": null,
   "id": "1afa99e4-ee23-4b14-ace9-67fb8502c583",
   "metadata": {
    "id": "fd6dce28-5173-4519-ac5b-314e1297f3e4",
    "outputId": "4dcdc36f-2bd1-42a6-bcb4-0485ff978b4c",
    "tags": []
   },
   "outputs": [
    {
     "data": {
      "text/plain": [
       "datetime.datetime(1984, 5, 29, 11, 47, 44)"
      ]
     },
     "execution_count": 61,
     "metadata": {},
     "output_type": "execute_result"
    }
   ],
   "source": [
    "datetime.fromtimestamp(454646864)\n"
   ]
  },
  {
   "cell_type": "markdown",
   "id": "c8365ada-50bb-4ec8-807a-f7648ef9f20e",
   "metadata": {
    "id": "f6722ed2-b588-4d4b-b94e-8aa7c3777183",
    "tags": []
   },
   "source": [
    "## datetime 형변환\n",
    "* date --> str  : <font color=red><b>.isoformat()</b></font>   기본:'%Y-%m-%d %H:%M:%S\n",
    "* date --> str  : <font color=red><b>.strftime('%Y-%m-%d %H:%M:%S')</b></font>  <br><br>\n",
    "* str  --> date  : <font color=red><b>.strptime('2020-01-01 22:29:54', '%Y-%m-%d %H:%M:%S')</b></font>  \n",
    "* str  --> date : <font color=red><b>.fromisoformat('2023-02-15')</b></font>    "
   ]
  },
  {
   "cell_type": "markdown",
   "id": "d78f6074-1b25-467c-9346-95ab31b96924",
   "metadata": {
    "id": "262cc009-63d4-41ff-b93a-be9c6e068757"
   },
   "source": [
    "### isoformat()\n",
    "* <font color=red><b>★날짜 --> 글자"
   ]
  },
  {
   "cell_type": "code",
   "execution_count": null,
   "id": "fa50b117-9ce8-4bf8-9cfe-a0a026dc6dc8",
   "metadata": {
    "id": "2b0b179b-bba1-466f-869b-18b559a7e06d",
    "outputId": "af8e8f27-ae1d-474d-db23-91e85a72676c",
    "tags": []
   },
   "outputs": [
    {
     "data": {
      "text/plain": [
       "'2023-02-15T13:10:59.504551'"
      ]
     },
     "execution_count": 79,
     "metadata": {},
     "output_type": "execute_result"
    }
   ],
   "source": [
    "datetime.today().isoformat()"
   ]
  },
  {
   "cell_type": "markdown",
   "id": "0119eee9-ac31-4ef5-8cb9-d9af0a2d476f",
   "metadata": {
    "id": "af5b9e83-788b-4d1b-962f-486921bae819",
    "tags": []
   },
   "source": [
    "### strftime('%Y-%m-%d')\n",
    "* <font color=red><b>★날짜 --> 글자\n",
    "* 날짜의 포맷 변경\n",
    "* select to_char(sysdate, 'YYYY-MM-DD HH24:MI:SS') from dual"
   ]
  },
  {
   "cell_type": "code",
   "execution_count": null,
   "id": "716a906c-2641-437e-8594-6739e5e43f7b",
   "metadata": {
    "id": "3eed4feb-5f96-4505-ae84-fb7de9309021",
    "outputId": "97ee3e86-f4c7-4148-bc53-f6f950bcfbe1",
    "tags": []
   },
   "outputs": [
    {
     "data": {
      "text/plain": [
       "'2023-02-15 00:00:00'"
      ]
     },
     "execution_count": 65,
     "metadata": {},
     "output_type": "execute_result"
    }
   ],
   "source": [
    "date.today().strftime('%Y-%m-%d %H:%M:%S') "
   ]
  },
  {
   "cell_type": "code",
   "execution_count": null,
   "id": "42fefc7e-3226-405a-beec-1de46e25c6c2",
   "metadata": {
    "id": "f82beae5-defb-4ccb-9ef9-e1aa4e9f5f3d",
    "outputId": "b9a84190-ace0-4ac2-d195-3a564b695563",
    "tags": []
   },
   "outputs": [
    {
     "data": {
      "text/plain": [
       "'2023-02-15 12:59:49'"
      ]
     },
     "execution_count": 64,
     "metadata": {},
     "output_type": "execute_result"
    }
   ],
   "source": [
    "datetime.today().strftime('%Y-%m-%d %H:%M:%S') "
   ]
  },
  {
   "cell_type": "code",
   "execution_count": null,
   "id": "09624462-8959-44cb-8b78-8ddde9cbc815",
   "metadata": {
    "id": "b22aa70c-aaf2-48cf-b049-d18a24273a28",
    "outputId": "a296d8a8-ce9f-4a95-ca73-fadac018cc04",
    "tags": []
   },
   "outputs": [
    {
     "data": {
      "text/plain": [
       "'2023-02-15'"
      ]
     },
     "execution_count": 68,
     "metadata": {},
     "output_type": "execute_result"
    }
   ],
   "source": [
    "date.today().strftime('%Y-%m-%d') "
   ]
  },
  {
   "cell_type": "code",
   "execution_count": null,
   "id": "f7f51e75-c1a1-478f-95c9-c8c47f8823d7",
   "metadata": {
    "id": "4b01724f-8ff8-4b7c-a19d-1f1358c49400",
    "outputId": "9f29c97c-74ef-4ebd-8eda-09dc173bddd9",
    "tags": []
   },
   "outputs": [
    {
     "data": {
      "text/plain": [
       "'2023-02-15'"
      ]
     },
     "execution_count": 69,
     "metadata": {},
     "output_type": "execute_result"
    }
   ],
   "source": [
    "datetime.today().strftime('%Y-%m-%d')"
   ]
  },
  {
   "cell_type": "markdown",
   "id": "8e2e0e27-7fde-4dd3-8d70-85e1dacdcd97",
   "metadata": {
    "id": "7ebff609-56a9-4b0b-93f0-2f01d83080c5"
   },
   "source": [
    "### strptime()\n",
    "* <font color=red><b>★글자 --> 날짜\n",
    "* 글자를 날짜 타입으로 변환\n",
    "* select to_date('2012-01-24', 'YYYY-MM-DD') from dual"
   ]
  },
  {
   "cell_type": "code",
   "execution_count": null,
   "id": "26824d20-5e23-4561-a702-e0951224e96f",
   "metadata": {
    "id": "b2c8f4bc-da0e-439b-88b3-ba4f6d509c4f",
    "outputId": "86e65683-f99b-4a21-e832-cb049219746d",
    "tags": []
   },
   "outputs": [
    {
     "data": {
      "text/plain": [
       "datetime.datetime(2022, 12, 25, 0, 0)"
      ]
     },
     "execution_count": 71,
     "metadata": {},
     "output_type": "execute_result"
    }
   ],
   "source": [
    "datetime.strptime('2022-12-25', '%Y-%m-%d')"
   ]
  },
  {
   "cell_type": "code",
   "execution_count": null,
   "id": "c8bcaa48-e999-40c3-a399-827deeca9b41",
   "metadata": {
    "id": "de009840-bd81-4d7d-8391-328a2985a354",
    "outputId": "f05b4ec2-d3db-4faa-c2cc-44bf1c321672",
    "tags": []
   },
   "outputs": [
    {
     "data": {
      "text/plain": [
       "2"
      ]
     },
     "execution_count": 72,
     "metadata": {},
     "output_type": "execute_result"
    }
   ],
   "source": [
    "datetime.today().weekday()\n"
   ]
  },
  {
   "cell_type": "markdown",
   "id": "1714b30e-ff4e-49b5-acd5-e23b0de36792",
   "metadata": {
    "id": "4eea4ab8-a59d-4ea4-9fce-938b8435e236"
   },
   "source": [
    "### fromisoformat(str)\n",
    "* <font color=red><b>★글자 --> 날짜"
   ]
  },
  {
   "cell_type": "code",
   "execution_count": null,
   "id": "dbf67c72-fba4-4e70-9424-038415ac049c",
   "metadata": {
    "id": "d3e2048d-55c4-489e-a11b-bcba8f179ca1",
    "outputId": "2092eac3-5a14-45e5-f1b8-f63caa3baa11",
    "tags": []
   },
   "outputs": [
    {
     "data": {
      "text/plain": [
       "datetime.date(2022, 12, 25)"
      ]
     },
     "execution_count": 76,
     "metadata": {},
     "output_type": "execute_result"
    }
   ],
   "source": [
    "date.fromisoformat('2022-12-25')"
   ]
  },
  {
   "cell_type": "code",
   "execution_count": null,
   "id": "4253f4b0-ded7-412c-b885-ff9338c8ac07",
   "metadata": {
    "id": "f3271010-5268-445e-a315-5b10e714000d",
    "outputId": "0e025088-822b-496f-ecc7-c7978f31724c",
    "tags": []
   },
   "outputs": [
    {
     "data": {
      "text/plain": [
       "datetime.datetime(2022, 12, 25, 0, 0)"
      ]
     },
     "execution_count": 75,
     "metadata": {},
     "output_type": "execute_result"
    }
   ],
   "source": [
    "datetime.fromisoformat('2022-12-25')"
   ]
  },
  {
   "cell_type": "code",
   "execution_count": null,
   "id": "14623d57-667f-4edf-88e6-1653b4284500",
   "metadata": {
    "id": "8c49f7ad-64af-4470-93ad-5057f199389b",
    "outputId": "8820de66-693e-48a9-9078-c3844e4a86de",
    "tags": []
   },
   "outputs": [
    {
     "data": {
      "text/plain": [
       "datetime.datetime(2022, 12, 25, 22, 14, 30)"
      ]
     },
     "execution_count": 74,
     "metadata": {},
     "output_type": "execute_result"
    }
   ],
   "source": [
    "datetime.fromisoformat('2022-12-25 22:14:30')"
   ]
  },
  {
   "cell_type": "markdown",
   "id": "63b6b5a4-ec9c-4cff-83d2-9890b7a683a1",
   "metadata": {
    "id": "26dba5d2-87fd-492f-aae1-c5123b603274",
    "tags": []
   },
   "source": [
    "## 함수 : date()  ,  time(), timestamp()"
   ]
  },
  {
   "cell_type": "code",
   "execution_count": null,
   "id": "499c11e9-8ed5-4c61-b6cb-3d3aa922238f",
   "metadata": {
    "id": "84c6f19b-d4f8-49e8-9911-a95fba9b7914",
    "outputId": "2d653c4c-d82f-41f8-b5e4-1a6f3b3d3b49",
    "tags": []
   },
   "outputs": [
    {
     "data": {
      "text/plain": [
       "datetime.date(2023, 2, 15)"
      ]
     },
     "execution_count": 81,
     "metadata": {},
     "output_type": "execute_result"
    }
   ],
   "source": [
    "datetime.today().date()  "
   ]
  },
  {
   "cell_type": "code",
   "execution_count": null,
   "id": "9df4a310-4e70-4201-be84-84edc76d222c",
   "metadata": {
    "id": "5328d9dd-f3cd-4afd-8759-9bd409f4a68d",
    "outputId": "553c2a1b-ff85-45e9-8100-bedbaf4612df",
    "tags": []
   },
   "outputs": [
    {
     "data": {
      "text/plain": [
       "datetime.time(13, 11, 19, 806813)"
      ]
     },
     "execution_count": 82,
     "metadata": {},
     "output_type": "execute_result"
    }
   ],
   "source": [
    "datetime.today().time() "
   ]
  },
  {
   "cell_type": "code",
   "execution_count": null,
   "id": "dc7a69b2-264c-4a08-aafa-2dcdeda27ce8",
   "metadata": {
    "id": "a314ccb1-4d79-4862-9950-a49764423360",
    "outputId": "eb06163f-9efa-4a03-ece9-146c08d206bf",
    "tags": []
   },
   "outputs": [
    {
     "data": {
      "text/plain": [
       "1676434387.313323"
      ]
     },
     "execution_count": 85,
     "metadata": {},
     "output_type": "execute_result"
    }
   ],
   "source": [
    "datetime.today().timestamp()"
   ]
  },
  {
   "cell_type": "markdown",
   "id": "804fda61-63ad-4e02-b026-4584a4a6b8a3",
   "metadata": {
    "id": "c3d05750-2e85-4dcd-b1ff-488f33bbaa03"
   },
   "source": [
    "## 변수 : 년월일시분초(m초)\n",
    "* year, month, day + hour, minute, second, microsecond"
   ]
  },
  {
   "cell_type": "code",
   "execution_count": null,
   "id": "c9e910ad-f12f-4f6a-963c-99cd4de75966",
   "metadata": {
    "id": "d22f7c0f-46d2-4473-93d0-8e3810fe8809",
    "outputId": "1d6a6bf9-9c30-4b44-b252-d83728907be1",
    "tags": []
   },
   "outputs": [
    {
     "data": {
      "text/plain": [
       "2023"
      ]
     },
     "execution_count": 49,
     "metadata": {},
     "output_type": "execute_result"
    }
   ],
   "source": [
    "ss = datetime.today()\n",
    "ss.year"
   ]
  },
  {
   "cell_type": "code",
   "execution_count": null,
   "id": "c62f6f95-4a7a-426a-9637-838b5febeaea",
   "metadata": {
    "id": "0a352d1d-9688-4d27-b451-abdbb3e40ac0",
    "outputId": "a3ecc21b-d984-491a-d097-8c37897f5ccb",
    "tags": []
   },
   "outputs": [
    {
     "data": {
      "text/plain": [
       "2023"
      ]
     },
     "execution_count": 50,
     "metadata": {},
     "output_type": "execute_result"
    }
   ],
   "source": [
    "datetime.today().year"
   ]
  },
  {
   "cell_type": "code",
   "execution_count": null,
   "id": "97695d10-ff97-404d-a4a4-7d733bbdae42",
   "metadata": {
    "id": "9e892b26-8723-4538-839d-f23e5aa8fac9",
    "outputId": "d1623769-a59d-4261-9a1c-3214585f5f74",
    "tags": []
   },
   "outputs": [
    {
     "data": {
      "text/plain": [
       "2"
      ]
     },
     "execution_count": 52,
     "metadata": {},
     "output_type": "execute_result"
    }
   ],
   "source": [
    "datetime.today().month"
   ]
  },
  {
   "cell_type": "code",
   "execution_count": null,
   "id": "fdcecc38-cb6b-4535-a755-3a066854161a",
   "metadata": {
    "id": "e952bca1-1777-492f-af48-dddbd92f1750",
    "outputId": "3ae6313a-a045-4946-fdd4-f424f6b75bd8",
    "tags": []
   },
   "outputs": [
    {
     "data": {
      "text/plain": [
       "15"
      ]
     },
     "execution_count": 53,
     "metadata": {},
     "output_type": "execute_result"
    }
   ],
   "source": [
    "datetime.today().day"
   ]
  },
  {
   "cell_type": "code",
   "execution_count": null,
   "id": "1d37db1b-3138-460a-8700-7228b9477497",
   "metadata": {
    "id": "5e2d2b03-5288-404b-a649-12d7de731b67",
    "outputId": "726ae73e-ed6a-472d-9e02-78e1ba367558",
    "tags": []
   },
   "outputs": [
    {
     "data": {
      "text/plain": [
       "12"
      ]
     },
     "execution_count": 54,
     "metadata": {},
     "output_type": "execute_result"
    }
   ],
   "source": [
    "datetime.today().hour"
   ]
  },
  {
   "cell_type": "code",
   "execution_count": null,
   "id": "31f778ec-f2f9-46f9-80a6-4e4a880c39b2",
   "metadata": {
    "id": "1114b879-b63b-43a8-a657-c901ac9db3f1",
    "outputId": "de7167e2-420d-4812-82f2-2b3066a58cf0",
    "tags": []
   },
   "outputs": [
    {
     "data": {
      "text/plain": [
       "52"
      ]
     },
     "execution_count": 55,
     "metadata": {},
     "output_type": "execute_result"
    }
   ],
   "source": [
    "datetime.today().minute"
   ]
  },
  {
   "cell_type": "code",
   "execution_count": null,
   "id": "927e5beb-1665-44dd-b202-1962278c0c23",
   "metadata": {
    "id": "74311b3c-3e3f-4310-846a-e890cfcfa3d5",
    "outputId": "dbeade5a-0244-4199-dbf0-55e9e8fdaba9",
    "tags": []
   },
   "outputs": [
    {
     "data": {
      "text/plain": [
       "52"
      ]
     },
     "execution_count": 56,
     "metadata": {},
     "output_type": "execute_result"
    }
   ],
   "source": [
    "datetime.today().second"
   ]
  },
  {
   "cell_type": "code",
   "execution_count": null,
   "id": "aafc4d56-44d0-4e2f-83f9-6847032a0831",
   "metadata": {
    "id": "852821e2-90b9-45a7-b5fd-f46948ff6ac0",
    "outputId": "96bd014b-29c7-4157-a1bd-19585e086975",
    "tags": []
   },
   "outputs": [
    {
     "data": {
      "text/plain": [
       "413774"
      ]
     },
     "execution_count": 84,
     "metadata": {},
     "output_type": "execute_result"
    }
   ],
   "source": [
    "datetime.today().microsecond"
   ]
  },
  {
   "cell_type": "markdown",
   "id": "2e84b6fe-edfe-4b34-abe7-768b1dd6c4d0",
   "metadata": {
    "id": "577f80a2-9c42-431c-ad1b-4f20de933190",
    "tags": []
   },
   "source": [
    "* 시리즈일 경우에는 시리즈.<b>dt</b>.year"
   ]
  },
  {
   "cell_type": "markdown",
   "id": "5130cc85-1dd3-4801-b972-e91cc51540c3",
   "metadata": {
    "id": "b2fc4fb2-e20a-4f03-a8ec-2e67286d8561"
   },
   "source": [
    "---"
   ]
  },
  {
   "cell_type": "markdown",
   "id": "d658366f-8773-4a3c-9e2a-9b51e3b8bb05",
   "metadata": {
    "id": "4be794bf-2527-49fb-8166-dbbc7c14f34c"
   },
   "source": [
    "* 연 월 일 시 분 초 마이크로초"
   ]
  },
  {
   "cell_type": "code",
   "execution_count": null,
   "id": "1eca8249-aba1-4af1-8f61-9dafaa67462d",
   "metadata": {
    "id": "aaed16f6-5478-46ae-81e8-de2d9e7fe7ed",
    "tags": []
   },
   "outputs": [],
   "source": [
    "ss = datetime.today()"
   ]
  },
  {
   "cell_type": "code",
   "execution_count": null,
   "id": "992c6062-25f2-4fa5-8c77-3d086de1fd20",
   "metadata": {
    "id": "03bf7027-be0a-4718-85e8-4f90e3bbc8db",
    "outputId": "a5754679-662b-4b21-cda4-210d9830663f"
   },
   "outputs": [
    {
     "data": {
      "text/plain": [
       "2023"
      ]
     },
     "execution_count": 17,
     "metadata": {},
     "output_type": "execute_result"
    }
   ],
   "source": [
    "ss.year"
   ]
  },
  {
   "cell_type": "code",
   "execution_count": null,
   "id": "c91d25fa-7b14-4bb1-b215-93698a4e4637",
   "metadata": {
    "id": "4fb2f407-34e9-490d-b7ad-f06f8a813a9e",
    "outputId": "7268ae40-110e-4a91-e3de-2cc875768c4c"
   },
   "outputs": [
    {
     "data": {
      "text/plain": [
       "2"
      ]
     },
     "execution_count": 18,
     "metadata": {},
     "output_type": "execute_result"
    }
   ],
   "source": [
    "ss.month"
   ]
  },
  {
   "cell_type": "code",
   "execution_count": null,
   "id": "ada18180-58fc-47c7-bad6-5b54c856d9c0",
   "metadata": {
    "id": "7a9d6088-3b18-44a6-bd73-e380fa10e86f",
    "outputId": "fe58b076-56ff-438c-b39a-1211fcdf3a24"
   },
   "outputs": [
    {
     "data": {
      "text/plain": [
       "15"
      ]
     },
     "execution_count": 19,
     "metadata": {},
     "output_type": "execute_result"
    }
   ],
   "source": [
    "ss.day"
   ]
  },
  {
   "cell_type": "code",
   "execution_count": null,
   "id": "9a2509be-409c-4804-9408-79dc912aef75",
   "metadata": {
    "id": "3fe63494-d8ed-49eb-9e27-531526995fa7",
    "outputId": "d2076835-0a9d-466c-bbe9-da36e180fb8b"
   },
   "outputs": [
    {
     "data": {
      "text/plain": [
       "12"
      ]
     },
     "execution_count": 20,
     "metadata": {},
     "output_type": "execute_result"
    }
   ],
   "source": [
    "ss.hour  "
   ]
  },
  {
   "cell_type": "code",
   "execution_count": null,
   "id": "560becaa-f417-4181-9903-4cc0f8643ce0",
   "metadata": {
    "id": "e265cbd3-abae-4b3c-9c38-f93061410d37",
    "outputId": "5d8a1538-35bd-4755-9a6a-1a061922cf92"
   },
   "outputs": [
    {
     "data": {
      "text/plain": [
       "52"
      ]
     },
     "execution_count": 21,
     "metadata": {},
     "output_type": "execute_result"
    }
   ],
   "source": [
    "ss.minute "
   ]
  },
  {
   "cell_type": "code",
   "execution_count": null,
   "id": "711d25c6-ef30-435c-9acb-660c2c56e29f",
   "metadata": {
    "id": "f2e56fe4-49d7-41b3-b812-73d7ddde1545",
    "outputId": "099ee2bb-2c55-495d-f432-1cb579ab5eee"
   },
   "outputs": [
    {
     "data": {
      "text/plain": [
       "19"
      ]
     },
     "execution_count": 22,
     "metadata": {},
     "output_type": "execute_result"
    }
   ],
   "source": [
    "ss.second"
   ]
  },
  {
   "cell_type": "code",
   "execution_count": null,
   "id": "2ef35a78-831f-4568-bb4f-98c298ad4585",
   "metadata": {
    "id": "9981b01c-b8c0-4fc4-ba49-7b99f235e040",
    "outputId": "07a5e2ef-e558-4fe5-bcc1-e0f2756da7eb",
    "tags": []
   },
   "outputs": [
    {
     "data": {
      "text/plain": [
       "36705"
      ]
     },
     "execution_count": 23,
     "metadata": {},
     "output_type": "execute_result"
    }
   ],
   "source": [
    "ss.microsecond"
   ]
  },
  {
   "cell_type": "markdown",
   "id": "de35f801-de36-46d4-834f-b4f724eecceb",
   "metadata": {
    "id": "c982e7f5-f1f2-4854-bada-4d02527411dc"
   },
   "source": [
    "----"
   ]
  },
  {
   "cell_type": "markdown",
   "id": "a7a533ad-1526-4025-800c-7f16a34d52be",
   "metadata": {
    "id": "ecf6d80c-bcc8-4409-992a-8b08136ba587"
   },
   "source": [
    "# (class) time"
   ]
  },
  {
   "cell_type": "code",
   "execution_count": null,
   "id": "1d2c62ba-f7cf-489b-bed9-bd0b53dcf8c3",
   "metadata": {
    "id": "3e11b835-2d7b-4d58-b0c8-d149f82a20ac",
    "tags": []
   },
   "outputs": [],
   "source": [
    "# from datetime import datetime as dt  #--- 클래스는 일반적으로 예명을 사용하지 않는다\n",
    "# from datetime import date     as d   #--- 클래스는 일반적으로 예명을 사용하지 않는다\n",
    "from datetime import time   #--- 클래스 3개 "
   ]
  },
  {
   "cell_type": "code",
   "execution_count": null,
   "id": "66edf307-1285-478c-b3c6-853ca626e88d",
   "metadata": {
    "id": "d54945e6-aa72-4e6c-8838-80e4f4b4c264",
    "outputId": "c1d36458-12aa-4f37-cbee-b8290636b3c5",
    "tags": []
   },
   "outputs": [
    {
     "data": {
      "text/plain": [
       "'13:34:43'"
      ]
     },
     "execution_count": 65,
     "metadata": {},
     "output_type": "execute_result"
    }
   ],
   "source": [
    "datetime.today().strftime('%H:%M:%S')"
   ]
  },
  {
   "cell_type": "code",
   "execution_count": null,
   "id": "cefa57db-0adc-4ff8-98ec-4f8ce2c24b9f",
   "metadata": {
    "id": "4e2ff259-d560-43fc-a339-f7371f496bf6",
    "outputId": "5e84ace0-0535-4da8-a32f-a641e7337de2",
    "tags": []
   },
   "outputs": [
    {
     "data": {
      "text/plain": [
       "'2023-02-15T13:36:13.480261'"
      ]
     },
     "execution_count": 71,
     "metadata": {},
     "output_type": "execute_result"
    }
   ],
   "source": [
    "datetime.today().isoformat()"
   ]
  },
  {
   "cell_type": "code",
   "execution_count": null,
   "id": "be663f7d-5aa3-4282-aee5-c84c963ec408",
   "metadata": {
    "id": "fbbfe240-d051-4273-b77a-657df7586b50",
    "outputId": "e54959ed-2b99-4f60-986f-17a16356e6f8",
    "tags": []
   },
   "outputs": [
    {
     "data": {
      "text/plain": [
       "datetime.time(22, 15, 10)"
      ]
     },
     "execution_count": 75,
     "metadata": {},
     "output_type": "execute_result"
    }
   ],
   "source": [
    "time.fromisoformat('22:15:10')"
   ]
  },
  {
   "cell_type": "markdown",
   "id": "0369bc38-f932-4264-9fb0-66de7be0ab25",
   "metadata": {
    "id": "e1af7850-1f40-4f9e-9214-17dcc6903620"
   },
   "source": [
    "---"
   ]
  },
  {
   "cell_type": "markdown",
   "id": "ca8b0797-9c8e-40f3-b40c-a2ba86967a44",
   "metadata": {
    "id": "67cd4e35-b90e-4653-a92b-ce8b913cf24d"
   },
   "source": [
    "# (class) timedelta"
   ]
  },
  {
   "cell_type": "markdown",
   "id": "c4885314-61aa-4103-9037-f69fa68dff42",
   "metadata": {
    "id": "22c48650-2e91-4bd9-bd0a-31fdc69bf546"
   },
   "source": [
    "* timedelta(days=0, seconds=0, microseconds=0,\n",
    "           milliseconds=0, minutes=0, hours=0, weeks=0)"
   ]
  },
  {
   "cell_type": "code",
   "execution_count": null,
   "id": "22ef59ae-8c83-48f4-be7d-fcf429d0169a",
   "metadata": {
    "id": "13470150-756b-4fe6-ba84-4e9e913bc80d",
    "tags": []
   },
   "outputs": [],
   "source": [
    "from datetime import timedelta \n",
    "next_day = timedelta(days=3)\n",
    "next_week = timedelta(weeks=1)\n",
    "next_hour = timedelta(hours = 1)"
   ]
  },
  {
   "cell_type": "code",
   "execution_count": null,
   "id": "0f068c6f-fec6-4952-a9b0-ad5e3b14f959",
   "metadata": {
    "id": "edfcd8e5-dab5-4381-b220-9e0486027c05",
    "outputId": "8db7db4d-d75b-4090-d3c5-7f228a2e46be",
    "tags": []
   },
   "outputs": [
    {
     "data": {
      "text/plain": [
       "datetime.date(2023, 2, 18)"
      ]
     },
     "execution_count": 85,
     "metadata": {},
     "output_type": "execute_result"
    }
   ],
   "source": [
    "date.today() + next_day"
   ]
  },
  {
   "cell_type": "code",
   "execution_count": null,
   "id": "9ddec2d6-404e-4231-baf7-2cb6c39de600",
   "metadata": {
    "id": "2d4bf89f-abb5-4996-ac92-3e9c124c0b76",
    "outputId": "e1345036-eb07-4413-eb1a-2ea3d5a853a4",
    "tags": []
   },
   "outputs": [
    {
     "data": {
      "text/plain": [
       "datetime.datetime(2023, 2, 22, 15, 3, 13, 150725)"
      ]
     },
     "execution_count": 83,
     "metadata": {},
     "output_type": "execute_result"
    }
   ],
   "source": [
    "datetime.now() + next_week"
   ]
  },
  {
   "cell_type": "code",
   "execution_count": null,
   "id": "3fd13891-01bc-4441-97d1-5237d1b312d9",
   "metadata": {
    "id": "a6d369be-5453-4fa6-b27f-eb36a47163b3",
    "outputId": "f12e6c8f-c32c-4843-d22b-afc6a21bf96a",
    "tags": []
   },
   "outputs": [
    {
     "data": {
      "text/plain": [
       "datetime.datetime(2023, 2, 15, 16, 3, 45, 293002)"
      ]
     },
     "execution_count": 86,
     "metadata": {},
     "output_type": "execute_result"
    }
   ],
   "source": [
    "datetime.now() + next_hour"
   ]
  },
  {
   "cell_type": "markdown",
   "id": "60ef10a4-1118-44f4-b82b-43d3d63c1329",
   "metadata": {
    "id": "65003ef8-c85e-44bf-a44d-b86e67a8a510"
   },
   "source": [
    "# (class) relativedelta  (번외)\n",
    "<pre>\n",
    "                dt1=None, dt2=None,\n",
    "                years=0, months=0, days=0, leapdays=0, weeks=0,\n",
    "                hours=0, minutes=0, seconds=0, microseconds=0,\n",
    "                year=None, month=None, day=None, weekday=None,\n",
    "                yearday=None, nlyearday=None,\n",
    "                hour=None, minute=None, second=None, microsecond=None"
   ]
  },
  {
   "cell_type": "code",
   "execution_count": null,
   "id": "58305032-a005-4c60-9215-dd2ee3762b13",
   "metadata": {
    "id": "fb7b5993-5a6c-49c6-b19b-43fce8048edd",
    "tags": []
   },
   "outputs": [],
   "source": [
    "from dateutil.relativedelta import relativedelta"
   ]
  },
  {
   "cell_type": "code",
   "execution_count": null,
   "id": "48b70489-1699-40b7-b235-ee0e5e367a22",
   "metadata": {
    "id": "4dd5b4f1-0948-4ed9-900d-537c27fa9fb6",
    "outputId": "ac04fdcd-d7ed-4d98-a61e-58194ac4e74b",
    "tags": []
   },
   "outputs": [
    {
     "data": {
      "text/plain": [
       "(datetime.datetime(2023, 2, 15, 15, 12, 4, 751447),\n",
       " datetime.datetime(2020, 12, 13, 0, 0))"
      ]
     },
     "execution_count": 90,
     "metadata": {},
     "output_type": "execute_result"
    }
   ],
   "source": [
    "dt1 = datetime.today()\n",
    "dt2 = datetime(2020,12,13)\n",
    "dt1 , dt2"
   ]
  },
  {
   "cell_type": "code",
   "execution_count": null,
   "id": "6c04267b-df50-44a9-8c4b-da8b72b03d5c",
   "metadata": {
    "id": "960f992a-98b6-4009-969f-8573b92f4c2d",
    "outputId": "498fa269-50de-4c50-d8df-142caa88f2d1",
    "tags": []
   },
   "outputs": [
    {
     "data": {
      "text/plain": [
       "relativedelta(years=+2, months=+2, days=+2, hours=+15, minutes=+12, seconds=+4, microseconds=+751447)"
      ]
     },
     "execution_count": 91,
     "metadata": {},
     "output_type": "execute_result"
    }
   ],
   "source": [
    "relativedelta(dt1,dt2)"
   ]
  },
  {
   "cell_type": "markdown",
   "id": "007c9be3-e8b9-46ff-a97a-6c626aa2def8",
   "metadata": {
    "id": "39f947b3-857c-4698-9c03-6226b13ebf25"
   },
   "source": [
    "* 날짜 연산"
   ]
  },
  {
   "cell_type": "code",
   "execution_count": null,
   "id": "530be02a-2457-4b4e-b770-85011b02de0c",
   "metadata": {
    "id": "b0da4b51-fe9c-4217-9058-01e06fa389f6",
    "outputId": "956a3a9c-f059-4375-a070-273f4c98a8d9",
    "tags": []
   },
   "outputs": [
    {
     "data": {
      "text/plain": [
       "datetime.datetime(2023, 2, 25, 15, 12, 4, 751447)"
      ]
     },
     "execution_count": 95,
     "metadata": {},
     "output_type": "execute_result"
    }
   ],
   "source": [
    "next_day = relativedelta(days = 10) # 10일 후\n",
    "dt1+ next_day"
   ]
  },
  {
   "cell_type": "code",
   "execution_count": null,
   "id": "566e1908-db44-4503-a19a-0b1dcf5aaf18",
   "metadata": {
    "id": "d2922c83-f65f-4c2f-9a25-dcbeebbfd20e",
    "outputId": "bd82a79d-ff67-46dc-a5eb-153a24967319",
    "tags": []
   },
   "outputs": [
    {
     "data": {
      "text/plain": [
       "datetime.datetime(2023, 5, 15, 15, 16, 50, 126806)"
      ]
     },
     "execution_count": 97,
     "metadata": {},
     "output_type": "execute_result"
    }
   ],
   "source": [
    "next_month = relativedelta(months = 3) #3 개월 후\n",
    "datetime.today() + next_month"
   ]
  }
 ],
 "metadata": {
  "kernelspec": {
   "display_name": "Python 3 (ipykernel)",
   "language": "python",
   "name": "python3"
  },
  "language_info": {
   "codemirror_mode": {
    "name": "ipython",
    "version": 3
   },
   "file_extension": ".py",
   "mimetype": "text/x-python",
   "name": "python",
   "nbconvert_exporter": "python",
   "pygments_lexer": "ipython3",
   "version": "3.8.8"
  }
 },
 "nbformat": 4,
 "nbformat_minor": 5
}
