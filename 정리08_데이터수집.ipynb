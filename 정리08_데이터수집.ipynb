{
 "cells": [
  {
   "cell_type": "markdown",
   "id": "40a22445-108c-41b7-944d-3dbdddf5bb6f",
   "metadata": {},
   "source": [
    "# 웹크롤링"
   ]
  },
  {
   "cell_type": "code",
   "execution_count": null,
   "id": "227e7243-fce1-4347-91fc-a702f5e1e6ee",
   "metadata": {},
   "outputs": [],
   "source": []
  },
  {
   "cell_type": "markdown",
   "id": "2c7088cf-6811-48e8-9dc2-e75b624089e0",
   "metadata": {},
   "source": [
    "<font size=6><b>Lec16. 크롤링(Crawling)"
   ]
  },
  {
   "cell_type": "code",
   "execution_count": 1,
   "id": "1e4119c2-789d-4884-be81-5178fde79e01",
   "metadata": {},
   "outputs": [],
   "source": [
    "# ! pip install buautifulsoup4\n",
    "# ! pip install lxml\n",
    "# ! pip install selenium\n",
    "# ! pip install youtube-search-python"
   ]
  },
  {
   "cell_type": "code",
   "execution_count": 2,
   "id": "c6a8e8d6-01c4-49a2-8e82-ccd68f5763ef",
   "metadata": {
    "tags": []
   },
   "outputs": [
    {
     "data": {
      "text/html": [
       "<style>.container{width:100% !important;}</style>"
      ],
      "text/plain": [
       "<IPython.core.display.HTML object>"
      ]
     },
     "metadata": {},
     "output_type": "display_data"
    }
   ],
   "source": [
    "import numpy as np\n",
    "import pandas as pd\n",
    "import json\n",
    "\n",
    "\n",
    "#-------------------- 주피터 , 출력결과 넓이 늘리기 ---------------\n",
    "# from IPython.core.display import display, HTML\n",
    "from IPython.display import display, HTML\n",
    "\n",
    "display(HTML(\"<style>.container{width:100% !important;}</style>\"))\n",
    "pd.set_option('display.max_rows', 100)\n",
    "pd.set_option('display.max_columns', 100)\n",
    "pd.set_option('max_colwidth', None)\n",
    "\n",
    "import warnings\n",
    "warnings.filterwarnings(action='ignore')"
   ]
  },
  {
   "cell_type": "markdown",
   "id": "9bfff429-dd50-4838-adb7-d55a24eb72dd",
   "metadata": {
    "tags": []
   },
   "source": [
    "# BeautifulSoup\n",
    "* ref : https://www.crummy.com/software/BeautifulSoup/bs4/doc/\n",
    "* 파서 : \"html.parser\", \"xml\", \"lxml\", \"html5lib\""
   ]
  },
  {
   "cell_type": "code",
   "execution_count": null,
   "id": "bbbc0fd0-fb67-444a-b14f-6ba8f9644f2a",
   "metadata": {},
   "outputs": [],
   "source": []
  },
  {
   "cell_type": "code",
   "execution_count": 3,
   "id": "6a85ea4d-2e27-4c10-b523-f8b53ef9a963",
   "metadata": {},
   "outputs": [],
   "source": [
    "from bs4 import BeautifulSoup\n",
    "import requests"
   ]
  },
  {
   "cell_type": "code",
   "execution_count": 4,
   "id": "57235338-0fdf-425e-9553-bbcf085d8f60",
   "metadata": {},
   "outputs": [
    {
     "name": "stdout",
     "output_type": "stream",
     "text": [
      "<html>\n",
      " <head>\n",
      "  <title>\n",
      "   The Dormouse's story\n",
      "  </title>\n",
      " </head>\n",
      " <body>\n",
      "  <p class=\"title\">\n",
      "   <b>\n",
      "    The Dormouse's story\n",
      "   </b>\n",
      "  </p>\n",
      "  <p class=\"story\">\n",
      "   Once upon a time there were three little sisters; and their names were\n",
      "   <a class=\"sister\" href=\"http://example.com/elsie\" id=\"link1\">\n",
      "    Elsie\n",
      "   </a>\n",
      "   ,\n",
      "   <a class=\"sister\" href=\"http://example.com/lacie\" id=\"link2\">\n",
      "    Lacie\n",
      "   </a>\n",
      "   and\n",
      "   <a class=\"sister\" href=\"http://example.com/tillie\" id=\"link3\">\n",
      "    Tillie\n",
      "   </a>\n",
      "   ;\n",
      "and they lived at the bottom of a well.\n",
      "  </p>\n",
      "  <p class=\"story\">\n",
      "   ...\n",
      "  </p>\n",
      " </body>\n",
      "</html>\n"
     ]
    }
   ],
   "source": [
    "html_doc = \"\"\"<html><head><title>The Dormouse's story</title></head>\n",
    "<body>\n",
    "<p class=\"title\"><b>The Dormouse's story</b></p>\n",
    "\n",
    "<p class=\"story\">Once upon a time there were three little sisters; and their names were\n",
    "<a href=\"http://example.com/elsie\" class=\"sister\" id=\"link1\">Elsie</a>,\n",
    "<a href=\"http://example.com/lacie\" class=\"sister\" id=\"link2\">Lacie</a> and\n",
    "<a href=\"http://example.com/tillie\" class=\"sister\" id=\"link3\">Tillie</a>;\n",
    "and they lived at the bottom of a well.</p>\n",
    "<p class=\"story\">...</p>\n",
    "\"\"\"\n",
    "\n",
    "soup = BeautifulSoup(html_doc, 'html.parser')\n",
    "print(soup.prettify())"
   ]
  },
  {
   "cell_type": "code",
   "execution_count": 5,
   "id": "aa0a4a95-57e5-44cb-88e2-ab83f962ea59",
   "metadata": {},
   "outputs": [
    {
     "name": "stdout",
     "output_type": "stream",
     "text": [
      "http://example.com/elsie\n",
      "Elsie\n",
      "http://example.com/lacie\n",
      "Lacie\n",
      "http://example.com/tillie\n",
      "Tillie\n"
     ]
    }
   ],
   "source": [
    "for link in soup.find_all('a'):\n",
    "    print(link.get('href'))\n",
    "    print(link.text)\n",
    "# http://example.com/elsie\n",
    "# http://example.com/lacie\n",
    "# http://example.com/tillie"
   ]
  },
  {
   "cell_type": "code",
   "execution_count": 6,
   "id": "f7958e11-a9a6-4caf-ba53-56ba769db668",
   "metadata": {
    "tags": []
   },
   "outputs": [],
   "source": [
    "# html_str = requests.get(\"https://s.search.naver.com/p/intentblock/search.naver?nlu_query=%7B%22v%22%3A%223%22%2C%22intentblock%22%3A%221%22%2C%22qid%22%3A%22%EC%A0%9C%EC%A3%BC%EB%8F%84%EB%A7%9B%EC%A7%91%22%2C%22abt%22%3A%5B%7B%22eid%22%3A%22SBR1%22%2C%22value%22%3A%7B%22bucket%22%3A%22T4%22%2C%22is_control%22%3Afalse%7D%7D%5D%2C%22matchedAbt%22%3A%5B%7B%22eid%22%3A%22SBR1%22%2C%22value%22%3A%7B%22bucket%22%3A%22T4%22%2C%22is_control%22%3Afalse%7D%7D%5D%7D&query=%EC%A0%9C%EC%A3%BC%EB%8F%84+%EB%A7%9B%EC%A7%91&where=nx_blocks_bridge\").text\n",
    "\n",
    "# soup = BeautifulSoup(html_str, 'html.parser')\n",
    "\n",
    "# div_list = soup.select(\"#content > section > div > div.popular_grid_wrap.group_popular_block._au_popular_root\")\n",
    "# for div in div_list:\n",
    "#     print( div.select_one(\"div > a\").text )\n",
    "#     print( div.select_one(\"div > a\").get(\"href\") )\n",
    "#     print( div.select_one(\"div > a > div > div.thumb_area > div.thumb > div > img\").get(\"src\") )\n",
    "    \n",
    "    "
   ]
  },
  {
   "cell_type": "markdown",
   "id": "837ea1c6-9bde-4e67-8e1d-0011a97d0d5f",
   "metadata": {},
   "source": [
    "## YTN 크롤링"
   ]
  },
  {
   "cell_type": "markdown",
   "id": "4f96ed6e-7e37-4f56-8306-a7c1d491a93a",
   "metadata": {},
   "source": [
    "* 경제뉴스"
   ]
  },
  {
   "cell_type": "code",
   "execution_count": 7,
   "id": "1fd3f612-cdfa-450f-9b98-c7ee33b9ffaa",
   "metadata": {},
   "outputs": [
    {
     "name": "stdout",
     "output_type": "stream",
     "text": [
      "200\n"
     ]
    },
    {
     "data": {
      "text/plain": [
       "'<!DOCTYPE html PUBLIC \"-//W3C//DTD XHTML 1.0 Transitional//EN\" \"http://www.w3.org/TR/xhtml1/DTD/xhtml1-transitional.dtd\">\\r\\n<html xmlns=\"http://www.w3.org/1999/xhtml\" lang=\"ko\" xml:lang=\"ko\">\\r\\n<head>\\r\\n<title>경제 목록</title>\\r\\n<link rel=\"shortcut icon\" href=\"/img/comm/favicon.ico\" type=\"image/x-icon\">\\r\\n<link rel=\"icon\" href=\"/img/comm/favicon.ico\" type=\"image/x-icon\">\\r\\n<meta http-equiv=\"X-UA-Compatible\" content=\"IE=edge\" />\\r\\n<meta http-equiv=\"content-type\" content=\"text/html;charset=UTF-8\"/>\\r\\n<meta n'"
      ]
     },
     "execution_count": 7,
     "metadata": {},
     "output_type": "execute_result"
    }
   ],
   "source": [
    "res = requests.get(\"https://www.ytn.co.kr/news/list.php?mcd=0102\")\n",
    "print(res.status_code)\n",
    "res.text[:500]"
   ]
  },
  {
   "cell_type": "code",
   "execution_count": 8,
   "id": "7d05a78f-9c85-4942-96ac-68b42afea21c",
   "metadata": {
    "tags": []
   },
   "outputs": [
    {
     "data": {
      "text/plain": [
       "[1, 2, 3, 4]"
      ]
     },
     "execution_count": 8,
     "metadata": {},
     "output_type": "execute_result"
    }
   ],
   "source": [
    "temo = [1,2,3,4]\n",
    "temo\n"
   ]
  },
  {
   "cell_type": "code",
   "execution_count": 9,
   "id": "4749e16e-98a5-49d1-bd6b-2bac719b56c0",
   "metadata": {},
   "outputs": [
    {
     "data": {
      "text/html": [
       "<div>\n",
       "<style scoped>\n",
       "    .dataframe tbody tr th:only-of-type {\n",
       "        vertical-align: middle;\n",
       "    }\n",
       "\n",
       "    .dataframe tbody tr th {\n",
       "        vertical-align: top;\n",
       "    }\n",
       "\n",
       "    .dataframe thead th {\n",
       "        text-align: right;\n",
       "    }\n",
       "</style>\n",
       "<table border=\"1\" class=\"dataframe\">\n",
       "  <thead>\n",
       "    <tr style=\"text-align: right;\">\n",
       "      <th></th>\n",
       "      <th>title</th>\n",
       "      <th>regdate</th>\n",
       "      <th>contents</th>\n",
       "      <th>href</th>\n",
       "    </tr>\n",
       "  </thead>\n",
       "  <tbody>\n",
       "  </tbody>\n",
       "</table>\n",
       "</div>"
      ],
      "text/plain": [
       "Empty DataFrame\n",
       "Columns: [title, regdate, contents, href]\n",
       "Index: []"
      ]
     },
     "execution_count": 9,
     "metadata": {},
     "output_type": "execute_result"
    }
   ],
   "source": [
    "li_list = soup.select(\"div#nav_content > div:nth-child(1) > ul > li\")\n",
    "\n",
    "news_list = []\n",
    "for li in li_list:\n",
    "    title    = li.select_one(\"a > div > span\").text\n",
    "    regdate  = li.select_one(\"a > div > div > span.date\").text\n",
    "    contents = li.select_one(\"a > div > div > span.desc\").text\n",
    "    href     = li.select_one(\"a\").get('href')\n",
    "    news_list.append(   [title,regdate,contents,href]   )\n",
    "\n",
    "    \n",
    "# print(type(news_list), len(news_list),  news_list)\n",
    "df = pd.DataFrame(news_list, columns=[\"title\",\"regdate\",\"contents\",\"href\"])\n",
    "df.head(1)"
   ]
  },
  {
   "cell_type": "code",
   "execution_count": 10,
   "id": "e9164461-f075-4ab4-b79b-e613a216dca1",
   "metadata": {
    "tags": []
   },
   "outputs": [
    {
     "name": "stdout",
     "output_type": "stream",
     "text": [
      "<class 'pandas.core.frame.DataFrame'>\n",
      "Index: 0 entries\n",
      "Data columns (total 4 columns):\n",
      " #   Column    Non-Null Count  Dtype \n",
      "---  ------    --------------  ----- \n",
      " 0   title     0 non-null      object\n",
      " 1   regdate   0 non-null      object\n",
      " 2   contents  0 non-null      object\n",
      " 3   href      0 non-null      object\n",
      "dtypes: object(4)\n",
      "memory usage: 0.0+ bytes\n"
     ]
    }
   ],
   "source": [
    "df.info()"
   ]
  },
  {
   "cell_type": "markdown",
   "id": "686fd11b-64da-4985-862e-1cdd70084192",
   "metadata": {},
   "source": [
    "## 네이버 : 제주맛집 "
   ]
  },
  {
   "cell_type": "markdown",
   "id": "1a74b11c-95de-4e4d-a878-e259afc26db7",
   "metadata": {},
   "source": [
    "* by 아름"
   ]
  },
  {
   "cell_type": "code",
   "execution_count": 11,
   "id": "1a5902f6-a4a0-4250-adcb-6d1d2e45439e",
   "metadata": {
    "tags": []
   },
   "outputs": [
    {
     "data": {
      "text/html": [
       "<div>\n",
       "<style scoped>\n",
       "    .dataframe tbody tr th:only-of-type {\n",
       "        vertical-align: middle;\n",
       "    }\n",
       "\n",
       "    .dataframe tbody tr th {\n",
       "        vertical-align: top;\n",
       "    }\n",
       "\n",
       "    .dataframe thead th {\n",
       "        text-align: right;\n",
       "    }\n",
       "</style>\n",
       "<table border=\"1\" class=\"dataframe\">\n",
       "  <thead>\n",
       "    <tr style=\"text-align: right;\">\n",
       "      <th></th>\n",
       "      <th>title</th>\n",
       "      <th>img</th>\n",
       "      <th>href</th>\n",
       "    </tr>\n",
       "  </thead>\n",
       "  <tbody>\n",
       "    <tr>\n",
       "      <th>0</th>\n",
       "      <td>TV 속 맛집 후기</td>\n",
       "      <td>https://search.pstatic.net/common/?src=https%3A%2F%2Fmblogthumb-phinf.pstatic.net%2FMjAyMjEwMTVfNTQg%2FMDAxNjY1ODM5ODkwOTUy.8QZ5CdTRJbGt2x8RjEbhfLXhqxVoc-PxtAuYvt5RHH0g.kvoiefK0K5Vhvrixsgwy_cgn9dW5WhKey9gngJCwrl0g.JPEG.river0703%2F11.jpg%3Ftype%3Dw800&amp;type=f352_322</td>\n",
       "      <td>https://s.search.naver.com/p/intentblock/search.naver?ac=0&amp;aq=0&amp;bid=SYS-0000000000779264&amp;display=10&amp;nlu_query=%7B%22v%22%3A%223%22%2C%22intentblock%22%3A%221%22%2C%22qid%22%3A%22%EC%A0%9C%EC%A3%BC%EB%8F%84%EB%A7%9B%EC%A7%91%22%2C%22abt%22%3A%5B%7B%22eid%22%3A%22SBR1%22%2C%22value%22%3A%7B%22bucket%22%3A%22T4%22%2C%22is_control%22%3Afalse%7D%7D%5D%2C%22matchedAbt%22%3A%5B%7B%22eid%22%3A%22SBR1%22%2C%22value%22%3A%7B%22bucket%22%3A%22T4%22%2C%22is_control%22%3Afalse%7D%7D%5D%7D&amp;query=%EC%A0%9C%EC%A3%BC%EB%8F%84+%EB%A7%9B%EC%A7%91&amp;ssc=tab.itb.all&amp;start=1&amp;where=nx_bridge</td>\n",
       "    </tr>\n",
       "    <tr>\n",
       "      <th>1</th>\n",
       "      <td>반응 좋은 맛집 후기</td>\n",
       "      <td>https://search.pstatic.net/common/?src=https%3A%2F%2Fmblogthumb-phinf.pstatic.net%2FMjAyMjA5MDRfMTYz%2FMDAxNjYyMjY2MDU4OTg5.0kkg1ngM_d57x7ltXTTRfpt8u0PCnP4EMSqBGgbonbAg.3gQ0mADz878GhBpYiTrya8PZCIo95zuQufahNxDVYMYg.JPEG.jd0755%2FIMG_7830.JPG%3Ftype%3Dw800&amp;type=f352_322</td>\n",
       "      <td>https://s.search.naver.com/p/intentblock/search.naver?ac=0&amp;aq=0&amp;bid=SYS-0000000000780591&amp;display=10&amp;nlu_query=%7B%22v%22%3A%223%22%2C%22intentblock%22%3A%221%22%2C%22qid%22%3A%22%EC%A0%9C%EC%A3%BC%EB%8F%84%EB%A7%9B%EC%A7%91%22%2C%22abt%22%3A%5B%7B%22eid%22%3A%22SBR1%22%2C%22value%22%3A%7B%22bucket%22%3A%22T4%22%2C%22is_control%22%3Afalse%7D%7D%5D%2C%22matchedAbt%22%3A%5B%7B%22eid%22%3A%22SBR1%22%2C%22value%22%3A%7B%22bucket%22%3A%22T4%22%2C%22is_control%22%3Afalse%7D%7D%5D%7D&amp;query=%EC%A0%9C%EC%A3%BC%EB%8F%84+%EB%A7%9B%EC%A7%91&amp;ssc=tab.itb.all&amp;start=1&amp;where=nx_bridge</td>\n",
       "    </tr>\n",
       "  </tbody>\n",
       "</table>\n",
       "</div>"
      ],
      "text/plain": [
       "         title  \\\n",
       "0   TV 속 맛집 후기   \n",
       "1  반응 좋은 맛집 후기   \n",
       "\n",
       "                                                                                                                                                                                                                                                                            img  \\\n",
       "0     https://search.pstatic.net/common/?src=https%3A%2F%2Fmblogthumb-phinf.pstatic.net%2FMjAyMjEwMTVfNTQg%2FMDAxNjY1ODM5ODkwOTUy.8QZ5CdTRJbGt2x8RjEbhfLXhqxVoc-PxtAuYvt5RHH0g.kvoiefK0K5Vhvrixsgwy_cgn9dW5WhKey9gngJCwrl0g.JPEG.river0703%2F11.jpg%3Ftype%3Dw800&type=f352_322   \n",
       "1  https://search.pstatic.net/common/?src=https%3A%2F%2Fmblogthumb-phinf.pstatic.net%2FMjAyMjA5MDRfMTYz%2FMDAxNjYyMjY2MDU4OTg5.0kkg1ngM_d57x7ltXTTRfpt8u0PCnP4EMSqBGgbonbAg.3gQ0mADz878GhBpYiTrya8PZCIo95zuQufahNxDVYMYg.JPEG.jd0755%2FIMG_7830.JPG%3Ftype%3Dw800&type=f352_322   \n",
       "\n",
       "                                                                                                                                                                                                                                                                                                                                                                                                                                                                                                                                                                                            href  \n",
       "0  https://s.search.naver.com/p/intentblock/search.naver?ac=0&aq=0&bid=SYS-0000000000779264&display=10&nlu_query=%7B%22v%22%3A%223%22%2C%22intentblock%22%3A%221%22%2C%22qid%22%3A%22%EC%A0%9C%EC%A3%BC%EB%8F%84%EB%A7%9B%EC%A7%91%22%2C%22abt%22%3A%5B%7B%22eid%22%3A%22SBR1%22%2C%22value%22%3A%7B%22bucket%22%3A%22T4%22%2C%22is_control%22%3Afalse%7D%7D%5D%2C%22matchedAbt%22%3A%5B%7B%22eid%22%3A%22SBR1%22%2C%22value%22%3A%7B%22bucket%22%3A%22T4%22%2C%22is_control%22%3Afalse%7D%7D%5D%7D&query=%EC%A0%9C%EC%A3%BC%EB%8F%84+%EB%A7%9B%EC%A7%91&ssc=tab.itb.all&start=1&where=nx_bridge  \n",
       "1  https://s.search.naver.com/p/intentblock/search.naver?ac=0&aq=0&bid=SYS-0000000000780591&display=10&nlu_query=%7B%22v%22%3A%223%22%2C%22intentblock%22%3A%221%22%2C%22qid%22%3A%22%EC%A0%9C%EC%A3%BC%EB%8F%84%EB%A7%9B%EC%A7%91%22%2C%22abt%22%3A%5B%7B%22eid%22%3A%22SBR1%22%2C%22value%22%3A%7B%22bucket%22%3A%22T4%22%2C%22is_control%22%3Afalse%7D%7D%5D%2C%22matchedAbt%22%3A%5B%7B%22eid%22%3A%22SBR1%22%2C%22value%22%3A%7B%22bucket%22%3A%22T4%22%2C%22is_control%22%3Afalse%7D%7D%5D%7D&query=%EC%A0%9C%EC%A3%BC%EB%8F%84+%EB%A7%9B%EC%A7%91&ssc=tab.itb.all&start=1&where=nx_bridge  "
      ]
     },
     "execution_count": 11,
     "metadata": {},
     "output_type": "execute_result"
    }
   ],
   "source": [
    "res = requests.get(\"https://s.search.naver.com/p/intentblock/search.naver?nlu_query=%7B%22v%22%3A%223%22%2C%22intentblock%22%3A%221%22%2C%22qid%22%3A%22%EC%A0%9C%EC%A3%BC%EB%8F%84%EB%A7%9B%EC%A7%91%22%2C%22abt%22%3A%5B%7B%22eid%22%3A%22SBR1%22%2C%22value%22%3A%7B%22bucket%22%3A%22T4%22%2C%22is_control%22%3Afalse%7D%7D%5D%2C%22matchedAbt%22%3A%5B%7B%22eid%22%3A%22SBR1%22%2C%22value%22%3A%7B%22bucket%22%3A%22T4%22%2C%22is_control%22%3Afalse%7D%7D%5D%7D&query=%EC%A0%9C%EC%A3%BC%EB%8F%84+%EB%A7%9B%EC%A7%91&where=nx_blocks_bridge\")\n",
    "soup = BeautifulSoup(res.text, 'html.parser')\n",
    "divv = soup.select(\"#content > section > div > div.popular_grid_wrap.group_popular_block._au_popular_root > div\")\n",
    "\n",
    "temp_list = []\n",
    "for it in divv[:10]:\n",
    "    title = it.select_one(\"a > div > div.dsc_area > div\").text\n",
    "    img   = it.select_one(\"a > div > div.thumb_area > div.thumb > div > img\").get('src')\n",
    "    href  = it.select_one(\"a\").get('href')\n",
    "    temp_list.append([title, img, href])\n",
    "\n",
    "df = pd.DataFrame(temp_list, columns=['title','img','href'])\n",
    "df.head(2)"
   ]
  },
  {
   "cell_type": "code",
   "execution_count": null,
   "id": "ca0f7321-b4ee-476c-a576-3e3e3a300397",
   "metadata": {},
   "outputs": [],
   "source": []
  },
  {
   "cell_type": "code",
   "execution_count": null,
   "id": "3b0a657c-de59-43f6-b6c5-3aef7fca4c1c",
   "metadata": {},
   "outputs": [],
   "source": []
  },
  {
   "cell_type": "code",
   "execution_count": null,
   "id": "185903cf-08ca-4090-bddf-deec9765e04b",
   "metadata": {},
   "outputs": [],
   "source": []
  }
 ],
 "metadata": {
  "kernelspec": {
   "display_name": "Python 3 (ipykernel)",
   "language": "python",
   "name": "python3"
  },
  "language_info": {
   "codemirror_mode": {
    "name": "ipython",
    "version": 3
   },
   "file_extension": ".py",
   "mimetype": "text/x-python",
   "name": "python",
   "nbconvert_exporter": "python",
   "pygments_lexer": "ipython3",
   "version": "3.8.8"
  }
 },
 "nbformat": 4,
 "nbformat_minor": 5
}
