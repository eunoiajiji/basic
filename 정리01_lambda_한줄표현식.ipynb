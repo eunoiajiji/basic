{
 "cells": [
  {
   "cell_type": "markdown",
   "id": "fb38e0c9-ccb9-4af7-ab96-702799f6cb8f",
   "metadata": {},
   "source": [
    "<font size=6><b>한줄표현 --- optional"
   ]
  },
  {
   "cell_type": "markdown",
   "id": "b9907f80-2187-4c76-8ca6-3cb40c691757",
   "metadata": {},
   "source": [
    "# for문 한줄 표현식\n",
    "<pre><font size=2><b>\n",
    "for n in [1,2,3] :\n",
    "    처리부\n",
    "</b></font> \n",
    "[  처리부  for n in [1,2,3]    ]\n",
    "\n"
   ]
  },
  {
   "cell_type": "code",
   "execution_count": 1,
   "id": "12aaf685-25af-42fa-98bc-d25e7bb23a2b",
   "metadata": {
    "tags": []
   },
   "outputs": [
    {
     "name": "stdout",
     "output_type": "stream",
     "text": [
      "10\n"
     ]
    }
   ],
   "source": [
    "mysum = 0\n",
    "for n in [1,2,3,4] :\n",
    "    mysum = mysum + n\n",
    "print(mysum)    "
   ]
  },
  {
   "cell_type": "code",
   "execution_count": 2,
   "id": "9510d821-44a0-42d9-b954-ebc2eaed40c6",
   "metadata": {
    "tags": []
   },
   "outputs": [
    {
     "name": "stdout",
     "output_type": "stream",
     "text": [
      "1\n",
      "2\n",
      "3\n",
      "4\n"
     ]
    },
    {
     "data": {
      "text/plain": [
       "[None, None, None, None]"
      ]
     },
     "execution_count": 2,
     "metadata": {},
     "output_type": "execute_result"
    }
   ],
   "source": [
    "# frames = [ process_your_file(f) for f in files ]\n",
    "[  print(n) for n in [1,2,3,4]  ]"
   ]
  },
  {
   "cell_type": "markdown",
   "id": "0f3d8402-ba5d-496a-b573-0cd3f5dd0466",
   "metadata": {},
   "source": [
    "# for + for "
   ]
  },
  {
   "cell_type": "markdown",
   "id": "ce6fcee6-a6e8-45ba-a5c8-3b5da0486bf6",
   "metadata": {
    "tags": []
   },
   "source": [
    "<pre><font size=2><b>\n",
    "for a in [1,2,3] :\n",
    "    for z in [1,2,3] :\n",
    "        처리부\n",
    "</b></font> \n",
    "[  처리부  for a in [1,2,3] for z in [1,2,3]     ]\n"
   ]
  },
  {
   "cell_type": "code",
   "execution_count": 3,
   "id": "5a5d8c26-7f6d-4ff3-8ba1-34191047feb0",
   "metadata": {
    "tags": []
   },
   "outputs": [
    {
     "name": "stdout",
     "output_type": "stream",
     "text": [
      "2 * 1\n",
      "2 * 2\n",
      "2 * 3\n",
      "2 * 4\n",
      "3 * 1\n",
      "3 * 2\n",
      "3 * 3\n",
      "3 * 4\n",
      "4 * 1\n",
      "4 * 2\n",
      "4 * 3\n",
      "4 * 4\n"
     ]
    }
   ],
   "source": [
    "for dan in [2,3,4]:\n",
    "    for gob in [1,2,3,4] :\n",
    "        print(dan, \"*\", gob)"
   ]
  },
  {
   "cell_type": "code",
   "execution_count": 4,
   "id": "116403d8-e5fa-461f-ae0a-d6ce596c0134",
   "metadata": {
    "tags": []
   },
   "outputs": [
    {
     "name": "stdout",
     "output_type": "stream",
     "text": [
      "2 * 1\n",
      "2 * 2\n",
      "2 * 3\n",
      "2 * 4\n",
      "3 * 1\n",
      "3 * 2\n",
      "3 * 3\n",
      "3 * 4\n",
      "4 * 1\n",
      "4 * 2\n",
      "4 * 3\n",
      "4 * 4\n"
     ]
    },
    {
     "data": {
      "text/plain": [
       "[None, None, None, None, None, None, None, None, None, None, None, None]"
      ]
     },
     "execution_count": 4,
     "metadata": {},
     "output_type": "execute_result"
    }
   ],
   "source": [
    "[print(dan, \"*\", gob) for dan in [2,3,4] for gob in [1,2,3,4] ]"
   ]
  },
  {
   "cell_type": "markdown",
   "id": "9fe7f3e1-6fc0-4295-8b0d-bf8d375c3421",
   "metadata": {
    "tags": []
   },
   "source": [
    "# if문 한줄 표현식"
   ]
  },
  {
   "cell_type": "markdown",
   "id": "e9311a17-0f85-4199-a64f-8186000e0553",
   "metadata": {
    "tags": []
   },
   "source": [
    "\n",
    "<pre><font size=2><b>\n",
    "if score < 90 :\n",
    "    처리부if\n",
    "else :\n",
    "    처리부else\n",
    "</b></font> \n",
    "\n",
    "처리부if  if score < 90 else 처리부else"
   ]
  },
  {
   "cell_type": "code",
   "execution_count": 5,
   "id": "4f80eb66-1635-4f92-af06-99f5effad741",
   "metadata": {
    "tags": []
   },
   "outputs": [
    {
     "name": "stdout",
     "output_type": "stream",
     "text": [
      "작다\n"
     ]
    }
   ],
   "source": [
    "score = 80\n",
    "if score < 90 :\n",
    "    print(\"작다\")\n",
    "else :\n",
    "    print(\"크다\")"
   ]
  },
  {
   "cell_type": "code",
   "execution_count": 6,
   "id": "755607b0-4493-43a1-b5c8-6316d042d1e0",
   "metadata": {
    "tags": []
   },
   "outputs": [
    {
     "name": "stdout",
     "output_type": "stream",
     "text": [
      "작다\n"
     ]
    }
   ],
   "source": [
    "score = 80\n",
    "print(\"작다\" if score < 90 else '크다' )"
   ]
  },
  {
   "cell_type": "markdown",
   "id": "a517f259-eb60-4577-9bf3-4464ed7c8c07",
   "metadata": {},
   "source": [
    "<pre>\n",
    "처리부if if score < 90 else ( 처리부elif if  score < 80 else 처리부else  )\n",
    "\n",
    "if score < 90 :\n",
    "    처리부if\n",
    "elif  score < 80 :\n",
    "    처리부elif\n",
    "else :\n",
    "    처리부else"
   ]
  },
  {
   "cell_type": "code",
   "execution_count": 7,
   "id": "a3dba2fb-9629-433b-aebe-51d7d99da8e1",
   "metadata": {
    "tags": []
   },
   "outputs": [
    {
     "name": "stdout",
     "output_type": "stream",
     "text": [
      "B\n"
     ]
    }
   ],
   "source": [
    "score = 80\n",
    "if score < 90 :\n",
    "    print(\"B\")\n",
    "elif  score < 80 :\n",
    "    print(\"C\")\n",
    "else :\n",
    "    print(\"D\")"
   ]
  },
  {
   "cell_type": "code",
   "execution_count": 8,
   "id": "b88f2af1-489f-40c4-a027-671bee4856d6",
   "metadata": {
    "tags": []
   },
   "outputs": [
    {
     "name": "stdout",
     "output_type": "stream",
     "text": [
      "B\n"
     ]
    }
   ],
   "source": [
    "score = 80\n",
    "print(\"B\" if score < 90 else (\"C\" if  score < 80 else \"D\" )  )"
   ]
  },
  {
   "cell_type": "markdown",
   "id": "e097206e-3ef1-4d08-8b8d-b80c3f596338",
   "metadata": {
    "tags": []
   },
   "source": [
    "# for  + if"
   ]
  },
  {
   "cell_type": "markdown",
   "id": "64114eed-dfff-459a-a068-10befcc17698",
   "metadata": {},
   "source": [
    "<pre><font size=2><b>\n",
    "for n in [1,2,3] :\n",
    "    if n == 2:\n",
    "        print(\"이\")\n",
    "</b></font> \n",
    "\n",
    "맨앞으로보내고  다다다닥 한줄 앞뒤로 대괄호\n",
    "[ print(\"이\") for n in [1,2,3] if n == 2 ] "
   ]
  },
  {
   "cell_type": "code",
   "execution_count": 9,
   "id": "2d36bd25-8bcd-4a14-97ad-1121fb0246cd",
   "metadata": {
    "tags": []
   },
   "outputs": [
    {
     "name": "stdout",
     "output_type": "stream",
     "text": [
      "이\n"
     ]
    }
   ],
   "source": [
    "for n in [1,2,3] :\n",
    "    if n == 2:\n",
    "        print(\"이\")"
   ]
  },
  {
   "cell_type": "code",
   "execution_count": 10,
   "id": "08fad9eb-a866-466e-a91d-bbd5fb16a485",
   "metadata": {
    "tags": []
   },
   "outputs": [
    {
     "name": "stdout",
     "output_type": "stream",
     "text": [
      "이\n"
     ]
    },
    {
     "data": {
      "text/plain": [
       "[None]"
      ]
     },
     "execution_count": 10,
     "metadata": {},
     "output_type": "execute_result"
    }
   ],
   "source": [
    "[ print(\"이\") for n in [1,2,3]  if n == 2 ]        "
   ]
  },
  {
   "cell_type": "markdown",
   "id": "019ed293-4e98-4d8b-8224-fd12b7c3bdf9",
   "metadata": {},
   "source": [
    "# for + if else"
   ]
  },
  {
   "cell_type": "markdown",
   "id": "91f2fc64-2873-4134-994e-ad5716f31241",
   "metadata": {},
   "source": [
    "<pre><font size=2><b>\n",
    "for n in [1,2,3] :\n",
    "    if n == 2:\n",
    "        print(\"이\")\n",
    "    else:\n",
    "        print(\"그외\")\n",
    "</b></font>    \n",
    "[ 덩어리 for n in [1,2,3]  ]\n",
    "한번더...\n",
    "\n",
    "덩어리는 아래 문법\n",
    "    if n == 2:\n",
    "        print(\"이\")\n",
    "    else:\n",
    "        print(\"그외\")\n",
    "이걸 한줄 표현        \n",
    "        print(\"이\") if n == 2 else print(\"그외\")\n",
    "    \n",
    "즉..\n",
    "[ (덩어리)                                   for n in [1,2,3]  ]\n",
    "[ (print(\"이\") if n == 2 else print(\"그외\")) for n in [1,2,3]  ]"
   ]
  },
  {
   "cell_type": "code",
   "execution_count": 11,
   "id": "d66d7e18-e071-429b-9a14-683721fcedcb",
   "metadata": {
    "tags": []
   },
   "outputs": [
    {
     "name": "stdout",
     "output_type": "stream",
     "text": [
      "그외\n",
      "이\n",
      "그외\n"
     ]
    }
   ],
   "source": [
    "for n in [1,2,3] :\n",
    "    if n == 2:\n",
    "        print(\"이\")\n",
    "    else:\n",
    "        print(\"그외\")"
   ]
  },
  {
   "cell_type": "code",
   "execution_count": 12,
   "id": "fca92c02-4b31-4864-a210-7a7d767e5908",
   "metadata": {
    "tags": []
   },
   "outputs": [
    {
     "name": "stdout",
     "output_type": "stream",
     "text": [
      "그외\n",
      "이\n",
      "그외\n"
     ]
    },
    {
     "data": {
      "text/plain": [
       "[None, None, None]"
      ]
     },
     "execution_count": 12,
     "metadata": {},
     "output_type": "execute_result"
    }
   ],
   "source": [
    "[ print(\"이\") if n == 2 else print(\"그외\") for n in [1,2,3] ]"
   ]
  },
  {
   "cell_type": "markdown",
   "id": "a70138f8-abda-4295-9d9c-82f99e53de01",
   "metadata": {},
   "source": [
    "# ★람다(lambda)\n",
    "* <font size=4 color=red><b> (lambda 파라미터 : 표현식)</b></font>\n",
    "* 이름없는 1회성 사용 함수 , 한줄표현식으로 표현\n",
    "* 사용예  <br>\n",
    "\n",
    "<pre>\n",
    "<font size=2><b> (lambda a,b : a+b) (5,7)\n",
    "\n",
    "<font size=2><b> aaa= (lambda a,b : a+b)    \n",
    " aaa (5,7)\n",
    "    "
   ]
  },
  {
   "cell_type": "code",
   "execution_count": 13,
   "id": "ca4c99b1-2a20-47ab-bc66-78eef38c101b",
   "metadata": {
    "tags": []
   },
   "outputs": [
    {
     "data": {
      "text/plain": [
       "9"
      ]
     },
     "execution_count": 13,
     "metadata": {},
     "output_type": "execute_result"
    }
   ],
   "source": [
    "def add(a, b):\n",
    "    return a+b\n",
    "\n",
    "add(4,5)"
   ]
  },
  {
   "cell_type": "code",
   "execution_count": 14,
   "id": "e8d3a6d9-5ff1-423c-994a-ac024bc6b70f",
   "metadata": {
    "tags": []
   },
   "outputs": [
    {
     "data": {
      "text/plain": [
       "<function __main__.<lambda>(a, b)>"
      ]
     },
     "execution_count": 14,
     "metadata": {},
     "output_type": "execute_result"
    }
   ],
   "source": [
    "aaa = (lambda a,b : a+b)\n",
    "aaa"
   ]
  },
  {
   "cell_type": "code",
   "execution_count": 15,
   "id": "2280686b-b8a7-4368-8542-d66d617b3cbf",
   "metadata": {
    "tags": []
   },
   "outputs": [
    {
     "data": {
      "text/plain": [
       "12"
      ]
     },
     "execution_count": 15,
     "metadata": {},
     "output_type": "execute_result"
    }
   ],
   "source": [
    "aaa(5,7)"
   ]
  },
  {
   "cell_type": "code",
   "execution_count": 16,
   "id": "b013a280-0152-45cd-845f-ecb73775130b",
   "metadata": {
    "tags": []
   },
   "outputs": [
    {
     "data": {
      "text/plain": [
       "12"
      ]
     },
     "execution_count": 16,
     "metadata": {},
     "output_type": "execute_result"
    }
   ],
   "source": [
    "(lambda a,b : a+b) (5,7)"
   ]
  },
  {
   "cell_type": "markdown",
   "id": "cd118dea-0afd-4585-b3e8-8c0c976efe0f",
   "metadata": {},
   "source": [
    "* 람다 사용 예 - 1"
   ]
  },
  {
   "cell_type": "code",
   "execution_count": 17,
   "id": "f71bdfec-7bec-4f8e-9b43-61e5f74e85cf",
   "metadata": {
    "tags": []
   },
   "outputs": [
    {
     "data": {
      "text/plain": [
       "'0'"
      ]
     },
     "execution_count": 17,
     "metadata": {},
     "output_type": "execute_result"
    }
   ],
   "source": [
    "def score_check함수명(score) :\n",
    "    if score > 90:\n",
    "        return '1'\n",
    "    else : \n",
    "        return '0'\n",
    "score_check함수명(70)    "
   ]
  },
  {
   "cell_type": "code",
   "execution_count": 18,
   "id": "d23511e3-2ef4-4961-bfb2-4917749628aa",
   "metadata": {
    "tags": []
   },
   "outputs": [
    {
     "data": {
      "text/plain": [
       "'1'"
      ]
     },
     "execution_count": 18,
     "metadata": {},
     "output_type": "execute_result"
    }
   ],
   "source": [
    "# lambda x : __________________\n",
    "\n",
    "(lambda score : '1' if score > 90 else '0') (100)"
   ]
  },
  {
   "cell_type": "code",
   "execution_count": 19,
   "id": "a9ef5b31-361b-439f-99ee-119fa33f81f7",
   "metadata": {
    "tags": []
   },
   "outputs": [
    {
     "data": {
      "text/plain": [
       "'0'"
      ]
     },
     "execution_count": 19,
     "metadata": {},
     "output_type": "execute_result"
    }
   ],
   "source": [
    "score_check_변수명 = (lambda score : '1' if score > 90 else '0')\n",
    "score_check_변수명 (80)"
   ]
  },
  {
   "cell_type": "markdown",
   "id": "cff94535-d963-4c90-bf6a-7dd181cf31ee",
   "metadata": {},
   "source": [
    "* 람다 사용 예 - 2"
   ]
  },
  {
   "cell_type": "code",
   "execution_count": 20,
   "id": "a3eec0e4-88d5-4683-9ec8-f413f6326b99",
   "metadata": {
    "tags": []
   },
   "outputs": [],
   "source": [
    "def score_check함수명(score) :\n",
    "    if score > 90:\n",
    "        return '1'\n",
    "    else : \n",
    "        return '0'"
   ]
  },
  {
   "cell_type": "code",
   "execution_count": 21,
   "id": "c572e56d-439c-4c1a-8c10-73830a5b8bc7",
   "metadata": {
    "tags": []
   },
   "outputs": [
    {
     "data": {
      "text/plain": [
       "'1'"
      ]
     },
     "execution_count": 21,
     "metadata": {},
     "output_type": "execute_result"
    }
   ],
   "source": [
    "( lambda x : score_check함수명(x) ) (99)"
   ]
  },
  {
   "cell_type": "markdown",
   "id": "736f3ad8-25d5-49a7-a251-178b6593f4f5",
   "metadata": {
    "tags": []
   },
   "source": [
    "# map (lambda함수, 리스트)\n",
    "* list(   map (lambda함수, 리스트)  )"
   ]
  },
  {
   "cell_type": "code",
   "execution_count": 55,
   "id": "2fc317bf-c8de-403a-ab7d-8528191fc9c6",
   "metadata": {
    "tags": []
   },
   "outputs": [
    {
     "data": {
      "text/plain": [
       "[1, 2, 3, 4, 5, 6, 7, 8, 9]"
      ]
     },
     "execution_count": 55,
     "metadata": {},
     "output_type": "execute_result"
    }
   ],
   "source": [
    "list ( range(1,10) )"
   ]
  },
  {
   "cell_type": "code",
   "execution_count": 22,
   "id": "bedf9fce-b48c-4f25-b91b-f57eb5e68b19",
   "metadata": {
    "tags": []
   },
   "outputs": [
    {
     "data": {
      "text/plain": [
       "11"
      ]
     },
     "execution_count": 22,
     "metadata": {},
     "output_type": "execute_result"
    }
   ],
   "source": [
    "( lambda x : x+10 ) (1)"
   ]
  },
  {
   "cell_type": "code",
   "execution_count": 23,
   "id": "42a1bc47-3e0f-4fd3-92d3-2c488857310e",
   "metadata": {
    "tags": []
   },
   "outputs": [
    {
     "data": {
      "text/plain": [
       "11"
      ]
     },
     "execution_count": 23,
     "metadata": {},
     "output_type": "execute_result"
    }
   ],
   "source": [
    "aaa = ( lambda x : x+10 ) \n",
    "aaa(1)"
   ]
  },
  {
   "cell_type": "code",
   "execution_count": 24,
   "id": "320958cb-c2f3-45f8-9260-b52bee6f2b15",
   "metadata": {
    "tags": []
   },
   "outputs": [
    {
     "data": {
      "text/plain": [
       "[11, 12, 13, 14]"
      ]
     },
     "execution_count": 24,
     "metadata": {},
     "output_type": "execute_result"
    }
   ],
   "source": [
    "list(   map( lambda x : x+10 ,  [1,2,3,4])      )"
   ]
  },
  {
   "cell_type": "code",
   "execution_count": 25,
   "id": "5ec0b642-2f2a-4de7-94b1-139e0cece2b4",
   "metadata": {
    "tags": []
   },
   "outputs": [
    {
     "data": {
      "text/plain": [
       "<map at 0x14fa5b17760>"
      ]
     },
     "execution_count": 25,
     "metadata": {},
     "output_type": "execute_result"
    }
   ],
   "source": [
    "MYMAP = map( lambda x : x+10 ,  [1,2,3,4]) \n",
    "MYMAP"
   ]
  },
  {
   "cell_type": "code",
   "execution_count": 26,
   "id": "c3726db3-ab42-4167-ab6c-03c4e3638552",
   "metadata": {
    "tags": []
   },
   "outputs": [
    {
     "data": {
      "text/plain": [
       "[11, 12, 13, 14]"
      ]
     },
     "execution_count": 26,
     "metadata": {},
     "output_type": "execute_result"
    }
   ],
   "source": [
    "list( MYMAP )"
   ]
  },
  {
   "cell_type": "markdown",
   "id": "63ec2096-8906-4de9-ad02-f4f84ba870a7",
   "metadata": {},
   "source": [
    "# QUIZ"
   ]
  },
  {
   "cell_type": "markdown",
   "id": "de378344-b4fd-40fd-8e53-b2e29e4927c8",
   "metadata": {},
   "source": [
    "<pre>\n",
    "람다식을 사용해 다음 연락처 앞자리를 활용해 지역명을 출력하시오.\n",
    "tel_list = [\"02-222-3333\", \"032-222-3333\",\"032-222-3333\",\"031-222-3333\"]\n",
    "02  :  서울\n",
    "032 : 인천\n",
    "031 : 경기"
   ]
  },
  {
   "cell_type": "code",
   "execution_count": 27,
   "id": "bf0a0231-db97-4e1d-82d1-cce95a17c335",
   "metadata": {
    "tags": []
   },
   "outputs": [
    {
     "data": {
      "text/plain": [
       "['02-222-3333', '032-222-3333', '032-222-3333', '031-222-3333']"
      ]
     },
     "execution_count": 27,
     "metadata": {},
     "output_type": "execute_result"
    }
   ],
   "source": [
    "tel_list = [\"02-222-3333\", \"032-222-3333\",\"032-222-3333\",\"031-222-3333\"]\n",
    "tel_list"
   ]
  },
  {
   "cell_type": "markdown",
   "id": "31a4f47a-13d0-4aa2-a29d-0afb23a66ea3",
   "metadata": {},
   "source": [
    "* 해결1 )  단순 함수 정의 후 호출"
   ]
  },
  {
   "cell_type": "code",
   "execution_count": 28,
   "id": "8027bc1c-6dc4-43e9-b962-2759792148a4",
   "metadata": {
    "tags": []
   },
   "outputs": [
    {
     "name": "stdout",
     "output_type": "stream",
     "text": [
      "02 서울\n",
      "032 인천\n",
      "032 인천\n",
      "031 경기\n"
     ]
    }
   ],
   "source": [
    "# (lambda x : x.split(\"-\") )\n",
    "def tel_check(tel_list) :\n",
    "    for tel in tel_list:\n",
    "        loc_tel = tel.split(\"-\")[0]\n",
    "        loc = \"그외\"\n",
    "        if loc_tel == '02' :\n",
    "            loc = \"서울\"\n",
    "        elif loc_tel == '032' :\n",
    "            loc = \"인천\"\n",
    "        elif loc_tel == '031' :\n",
    "            loc = \"경기\"\n",
    "        print(loc_tel, loc)\n",
    "tel_check([\"02-222-3333\", \"032-222-3333\",\"032-222-3333\",\"031-222-3333\"])   "
   ]
  },
  {
   "cell_type": "markdown",
   "id": "0f1d3a20-a977-433c-9577-d2e58f76a04d",
   "metadata": {},
   "source": [
    "* 해결2 )  람다 + 사용자정의함수\n",
    "* (lambda x : 사용자정의함수(x))"
   ]
  },
  {
   "cell_type": "code",
   "execution_count": 29,
   "id": "7473c861-607b-4e24-ab4a-f0dcc7c0bae6",
   "metadata": {
    "tags": []
   },
   "outputs": [
    {
     "name": "stdout",
     "output_type": "stream",
     "text": [
      "02 서울\n",
      "032 인천\n",
      "032 인천\n",
      "031 경기\n"
     ]
    }
   ],
   "source": [
    "# (lambda x : x + 10) (10)\n",
    "prm_list = [\"02-222-3333\", \"032-222-3333\",\"032-222-3333\",\"031-222-3333\"]\n",
    "(lambda x : tel_check(x)  ) (prm_list) "
   ]
  },
  {
   "cell_type": "markdown",
   "id": "6fa0c3d2-2b44-4761-a9b3-ffb8c2c25709",
   "metadata": {},
   "source": [
    "* 해결3 )  list( map (lambda함수, 리스트) )"
   ]
  },
  {
   "cell_type": "code",
   "execution_count": 30,
   "id": "1c7f7a83-b8ff-478f-aed5-e5c9c6ad97eb",
   "metadata": {
    "tags": []
   },
   "outputs": [
    {
     "name": "stdout",
     "output_type": "stream",
     "text": [
      "[('서울', '02'), ('인천', '032'), ('인천', '032'), ('경기', '031')]\n"
     ]
    }
   ],
   "source": [
    "def tel_check(tel) :\n",
    "    loc_tel = tel.split(\"-\")[0]\n",
    "    loc = \"그외\"\n",
    "    if loc_tel == '02' :\n",
    "        loc = \"서울\"\n",
    "    elif loc_tel == '032' :\n",
    "        loc = \"인천\"\n",
    "    elif loc_tel == '031' :\n",
    "        loc = \"경기\"\n",
    "    return loc, loc_tel\n",
    "        \n",
    "prm_list = [\"02-222-3333\", \"032-222-3333\",\"032-222-3333\",\"031-222-3333\"]\n",
    "res = list (  map(  lambda prm : tel_check(prm) , prm_list )   )\n",
    "print(res)"
   ]
  },
  {
   "cell_type": "markdown",
   "id": "e7eacecd-8765-4e48-b67e-5a260dcdb926",
   "metadata": {},
   "source": [
    "# Quiz : 1~100 합 출력"
   ]
  },
  {
   "cell_type": "markdown",
   "id": "e97ad7fe-bd45-4e43-a707-857b0156e4b2",
   "metadata": {},
   "source": [
    "해결책1)"
   ]
  },
  {
   "cell_type": "code",
   "execution_count": 31,
   "id": "d166dd2b-2e8e-4729-8d91-48dbd0432884",
   "metadata": {
    "tags": []
   },
   "outputs": [
    {
     "name": "stdout",
     "output_type": "stream",
     "text": [
      "100\n"
     ]
    }
   ],
   "source": [
    "mysum = 0\n",
    "for n in range(1,101):\n",
    "    mysum  = mysum + 1\n",
    "print(mysum)"
   ]
  },
  {
   "cell_type": "markdown",
   "id": "b9829123-79ff-4331-95d9-56d44ebf5518",
   "metadata": {},
   "source": [
    "해결책2)"
   ]
  },
  {
   "cell_type": "code",
   "execution_count": 1,
   "id": "be68cb46-a929-4268-89c7-b3c93ffb6c07",
   "metadata": {
    "tags": []
   },
   "outputs": [
    {
     "name": "stdout",
     "output_type": "stream",
     "text": [
      "5050\n"
     ]
    }
   ],
   "source": [
    "def cacl_sum():\n",
    "    mysum = 0\n",
    "    for n in range(1,101):\n",
    "        mysum  += n\n",
    "    print(mysum)\n",
    "cacl_sum()"
   ]
  },
  {
   "cell_type": "markdown",
   "id": "7d8b85b7-2ebb-4053-bf71-1d29ea97a498",
   "metadata": {},
   "source": [
    "# 해결책3) by 영기"
   ]
  },
  {
   "cell_type": "code",
   "execution_count": 33,
   "id": "76e375df-97da-45dd-823b-b4a3d69cf942",
   "metadata": {
    "tags": []
   },
   "outputs": [
    {
     "name": "stdout",
     "output_type": "stream",
     "text": [
      "5050\n"
     ]
    }
   ],
   "source": [
    "def cacl_sum() :\n",
    "    mysum = 0\n",
    "    for n in range(1,101):\n",
    "        mysum  = mysum + n\n",
    "    print(mysum)\n",
    "\n",
    "(lambda x :  cacl_sum()) (\"아무값\")"
   ]
  },
  {
   "cell_type": "markdown",
   "id": "4db01420-192c-446e-8f0f-a8f2b872eb40",
   "metadata": {},
   "source": [
    "해결책4)"
   ]
  },
  {
   "cell_type": "code",
   "execution_count": 34,
   "id": "c9737ef4-4f81-4426-8379-ea305a2f79d8",
   "metadata": {
    "tags": []
   },
   "outputs": [
    {
     "data": {
      "text/plain": [
       "6"
      ]
     },
     "execution_count": 34,
     "metadata": {},
     "output_type": "execute_result"
    }
   ],
   "source": [
    "import numpy as np\n",
    "np.sum(  [1,2,3] )"
   ]
  },
  {
   "cell_type": "code",
   "execution_count": 39,
   "id": "12058fe4-c0a6-462d-a1dd-d5e62381bbe5",
   "metadata": {},
   "outputs": [
    {
     "data": {
      "text/plain": [
       "6"
      ]
     },
     "execution_count": 39,
     "metadata": {},
     "output_type": "execute_result"
    }
   ],
   "source": [
    "sum([1,2,3])  #python 내장 함수"
   ]
  },
  {
   "cell_type": "code",
   "execution_count": 41,
   "id": "390b35f9-a858-4ab6-8591-48e7394c5c65",
   "metadata": {
    "tags": []
   },
   "outputs": [
    {
     "data": {
      "text/plain": [
       "5050"
      ]
     },
     "execution_count": 41,
     "metadata": {},
     "output_type": "execute_result"
    }
   ],
   "source": [
    "AA = (  lambda s,e : sum( range(s,e) )   )\n",
    "AA(1,101)"
   ]
  },
  {
   "cell_type": "code",
   "execution_count": 40,
   "id": "51e84a07-49f9-4fc3-897b-b949a51a76a6",
   "metadata": {
    "tags": []
   },
   "outputs": [
    {
     "data": {
      "text/plain": [
       "5050"
      ]
     },
     "execution_count": 40,
     "metadata": {},
     "output_type": "execute_result"
    }
   ],
   "source": [
    "AA = (  lambda x : sum( range(1,101) )   )\n",
    "AA('아무값')"
   ]
  },
  {
   "cell_type": "code",
   "execution_count": 42,
   "id": "f3d23bff-6cb4-433c-8d66-ec76f6ab3b47",
   "metadata": {
    "tags": []
   },
   "outputs": [
    {
     "data": {
      "text/plain": [
       "5050"
      ]
     },
     "execution_count": 42,
     "metadata": {},
     "output_type": "execute_result"
    }
   ],
   "source": [
    "np.sum( [x for x in range(1,101)]  )"
   ]
  },
  {
   "cell_type": "markdown",
   "id": "6fe45418-e35e-4c5a-9d7f-67ef7f10dcba",
   "metadata": {},
   "source": [
    "* 해결책5) 가장 추천"
   ]
  },
  {
   "cell_type": "code",
   "execution_count": 3,
   "id": "811606df-43d7-4d6a-b0f3-2520c89a9bf5",
   "metadata": {
    "tags": []
   },
   "outputs": [
    {
     "data": {
      "text/plain": [
       "5050"
      ]
     },
     "execution_count": 3,
     "metadata": {},
     "output_type": "execute_result"
    }
   ],
   "source": [
    "sum( range(1,101) )"
   ]
  },
  {
   "cell_type": "markdown",
   "id": "123c5ee1-4220-4c9f-bf3d-446dfac5c7dc",
   "metadata": {},
   "source": [
    "# 해결책6) reduce() 누적함수"
   ]
  },
  {
   "cell_type": "code",
   "execution_count": 53,
   "id": "71f5ac43-aafc-46fe-b68e-725174055140",
   "metadata": {
    "tags": []
   },
   "outputs": [
    {
     "data": {
      "text/plain": [
       "5050"
      ]
     },
     "execution_count": 53,
     "metadata": {},
     "output_type": "execute_result"
    }
   ],
   "source": [
    "from functools import reduce\n",
    "res = reduce ( (lambda s, n : s+n) ,  [n for n in range(1,101) ]  )  \n",
    "res"
   ]
  }
 ],
 "metadata": {
  "kernelspec": {
   "display_name": "Python 3 (ipykernel)",
   "language": "python",
   "name": "python3"
  },
  "language_info": {
   "codemirror_mode": {
    "name": "ipython",
    "version": 3
   },
   "file_extension": ".py",
   "mimetype": "text/x-python",
   "name": "python",
   "nbconvert_exporter": "python",
   "pygments_lexer": "ipython3",
   "version": "3.8.8"
  }
 },
 "nbformat": 4,
 "nbformat_minor": 5
}
